{
 "cells": [
  {
   "cell_type": "code",
   "execution_count": 14,
   "metadata": {
    "executionInfo": {
     "elapsed": 1080,
     "status": "ok",
     "timestamp": 1606786541824,
     "user": {
      "displayName": "dips k",
      "photoUrl": "https://lh3.googleusercontent.com/a-/AOh14Gj25bxiFHO216E4VtQUYr7lSSJHHS6DszKFW7r3mA=s64",
      "userId": "09540616116020329822"
     },
     "user_tz": 300
    },
    "id": "cYWUmotjz2PL"
   },
   "outputs": [],
   "source": [
    "# importing libraries pandas, matplotlib and seaborn to load dataframe and visualization of data\n",
    "import pandas as pd\n",
    "import numpy as np\n",
    "import matplotlib.pyplot as plt\n",
    "import seaborn as sns"
   ]
  },
  {
   "cell_type": "code",
   "execution_count": 15,
   "metadata": {
    "executionInfo": {
     "elapsed": 1327,
     "status": "ok",
     "timestamp": 1606786542083,
     "user": {
      "displayName": "dips k",
      "photoUrl": "https://lh3.googleusercontent.com/a-/AOh14Gj25bxiFHO216E4VtQUYr7lSSJHHS6DszKFW7r3mA=s64",
      "userId": "09540616116020329822"
     },
     "user_tz": 300
    },
    "id": "mg5BD08sz2PL"
   },
   "outputs": [],
   "source": [
    "# Importing “train_test_split” from “sklearn.model_selection”. \n",
    "from sklearn.model_selection import train_test_split"
   ]
  },
  {
   "cell_type": "code",
   "execution_count": 16,
   "metadata": {
    "executionInfo": {
     "elapsed": 1591,
     "status": "ok",
     "timestamp": 1606786542357,
     "user": {
      "displayName": "dips k",
      "photoUrl": "https://lh3.googleusercontent.com/a-/AOh14Gj25bxiFHO216E4VtQUYr7lSSJHHS6DszKFW7r3mA=s64",
      "userId": "09540616116020329822"
     },
     "user_tz": 300
    },
    "id": "QlT_xILcz2PL"
   },
   "outputs": [],
   "source": [
    "from sklearn.ensemble import RandomForestClassifier"
   ]
  },
  {
   "cell_type": "code",
   "execution_count": 17,
   "metadata": {
    "executionInfo": {
     "elapsed": 1583,
     "status": "ok",
     "timestamp": 1606786542360,
     "user": {
      "displayName": "dips k",
      "photoUrl": "https://lh3.googleusercontent.com/a-/AOh14Gj25bxiFHO216E4VtQUYr7lSSJHHS6DszKFW7r3mA=s64",
      "userId": "09540616116020329822"
     },
     "user_tz": 300
    },
    "id": "eym1Jen0z2PL"
   },
   "outputs": [],
   "source": [
    "# Importing tree, Pipeline, GridSearchCV from sklearn\n",
    "from sklearn import tree\n",
    "from sklearn.pipeline import Pipeline\n",
    "from sklearn.model_selection import GridSearchCV"
   ]
  },
  {
   "cell_type": "code",
   "execution_count": 18,
   "metadata": {
    "executionInfo": {
     "elapsed": 1575,
     "status": "ok",
     "timestamp": 1606786542361,
     "user": {
      "displayName": "dips k",
      "photoUrl": "https://lh3.googleusercontent.com/a-/AOh14Gj25bxiFHO216E4VtQUYr7lSSJHHS6DszKFW7r3mA=s64",
      "userId": "09540616116020329822"
     },
     "user_tz": 300
    },
    "id": "Xtf-JBYfz2PL"
   },
   "outputs": [],
   "source": [
    "from sklearn.metrics import make_scorer,f1_score, confusion_matrix\n",
    "import matplotlib.pyplot as plt"
   ]
  },
  {
   "cell_type": "code",
   "execution_count": 19,
   "metadata": {
    "executionInfo": {
     "elapsed": 1567,
     "status": "ok",
     "timestamp": 1606786542363,
     "user": {
      "displayName": "dips k",
      "photoUrl": "https://lh3.googleusercontent.com/a-/AOh14Gj25bxiFHO216E4VtQUYr7lSSJHHS6DszKFW7r3mA=s64",
      "userId": "09540616116020329822"
     },
     "user_tz": 300
    },
    "id": "Ib-N_lDiz2PM"
   },
   "outputs": [],
   "source": [
    "%matplotlib inline"
   ]
  },
  {
   "cell_type": "code",
   "execution_count": 7,
   "metadata": {
    "executionInfo": {
     "elapsed": 1558,
     "status": "ok",
     "timestamp": 1606786542365,
     "user": {
      "displayName": "dips k",
      "photoUrl": "https://lh3.googleusercontent.com/a-/AOh14Gj25bxiFHO216E4VtQUYr7lSSJHHS6DszKFW7r3mA=s64",
      "userId": "09540616116020329822"
     },
     "user_tz": 300
    },
    "id": "Nk-rpvg82EHz"
   },
   "outputs": [],
   "source": [
    "# from google.colab import drive"
   ]
  },
  {
   "cell_type": "code",
   "execution_count": 8,
   "metadata": {
    "colab": {
     "base_uri": "https://localhost:8080/"
    },
    "executionInfo": {
     "elapsed": 18362,
     "status": "ok",
     "timestamp": 1606786573075,
     "user": {
      "displayName": "dips k",
      "photoUrl": "https://lh3.googleusercontent.com/a-/AOh14Gj25bxiFHO216E4VtQUYr7lSSJHHS6DszKFW7r3mA=s64",
      "userId": "09540616116020329822"
     },
     "user_tz": 300
    },
    "id": "YnuSumOU2Ibg",
    "outputId": "7fae49c0-cc32-476c-8850-2c6d9fa6cd79"
   },
   "outputs": [
    {
     "name": "stdout",
     "output_type": "stream",
     "text": [
      "Mounted at /content/drive\n"
     ]
    }
   ],
   "source": [
    "# drive.mount('/content/drive')"
   ]
  },
  {
   "cell_type": "code",
   "execution_count": 51,
   "metadata": {
    "colab": {
     "base_uri": "https://localhost:8080/"
    },
    "executionInfo": {
     "elapsed": 52205,
     "status": "ok",
     "timestamp": 1606769013351,
     "user": {
      "displayName": "dips k",
      "photoUrl": "https://lh3.googleusercontent.com/a-/AOh14Gj25bxiFHO216E4VtQUYr7lSSJHHS6DszKFW7r3mA=s64",
      "userId": "09540616116020329822"
     },
     "user_tz": 300
    },
    "id": "IaMVBp2nz2PM",
    "outputId": "e7a83304-3cb9-474e-9684-8bd48151e29c"
   },
   "outputs": [
    {
     "name": "stdout",
     "output_type": "stream",
     "text": [
      "Wall time: 27.1 s\n"
     ]
    },
    {
     "data": {
      "text/plain": [
       "(3513617, 49)"
      ]
     },
     "execution_count": 51,
     "metadata": {},
     "output_type": "execute_result"
    }
   ],
   "source": [
    "%%time\n",
    "# This is a countrywide car accident dataset, which covers 49 states of the USA. \n",
    "# The accident data are collected from February 2016 to June 2020, \n",
    "US_Accidents_Feb16_to_June20_data =pd.read_csv('../FinalProject/data/US_Accidents_June20.csv',encoding=\"utf-8\" )\n",
    "US_Accidents_Feb16_to_June20_data.shape"
   ]
  },
  {
   "cell_type": "code",
   "execution_count": 52,
   "metadata": {},
   "outputs": [
    {
     "data": {
      "text/plain": [
       "Index(['ID', 'Source', 'TMC', 'Severity', 'Start_Time', 'End_Time',\n",
       "       'Start_Lat', 'Start_Lng', 'End_Lat', 'End_Lng', 'Distance(mi)',\n",
       "       'Description', 'Number', 'Street', 'Side', 'City', 'County', 'State',\n",
       "       'Zipcode', 'Country', 'Timezone', 'Airport_Code', 'Weather_Timestamp',\n",
       "       'Temperature(F)', 'Wind_Chill(F)', 'Humidity(%)', 'Pressure(in)',\n",
       "       'Visibility(mi)', 'Wind_Direction', 'Wind_Speed(mph)',\n",
       "       'Precipitation(in)', 'Weather_Condition', 'Amenity', 'Bump', 'Crossing',\n",
       "       'Give_Way', 'Junction', 'No_Exit', 'Railway', 'Roundabout', 'Station',\n",
       "       'Stop', 'Traffic_Calming', 'Traffic_Signal', 'Turning_Loop',\n",
       "       'Sunrise_Sunset', 'Civil_Twilight', 'Nautical_Twilight',\n",
       "       'Astronomical_Twilight'],\n",
       "      dtype='object')"
      ]
     },
     "execution_count": 52,
     "metadata": {},
     "output_type": "execute_result"
    }
   ],
   "source": [
    "US_Accidents_Feb16_to_June20_data.columns"
   ]
  },
  {
   "cell_type": "code",
   "execution_count": 53,
   "metadata": {},
   "outputs": [
    {
     "data": {
      "text/plain": [
       "array(['OH', 'WV', 'CA', 'FL', 'GA', 'SC', 'NE', 'IA', 'IL', 'MO', 'WI',\n",
       "       'IN', 'MI', 'NJ', 'NY', 'CT', 'MA', 'RI', 'NH', 'PA', 'KY', 'MD',\n",
       "       'VA', 'DC', 'DE', 'TX', 'WA', 'OR', 'AL', 'TN', 'NC', 'KS', 'LA',\n",
       "       'OK', 'CO', 'UT', 'AZ', 'MN', 'MS', 'NV', 'ME', 'AR', 'ID', 'VT',\n",
       "       'NM', 'ND', 'WY', 'SD', 'MT'], dtype=object)"
      ]
     },
     "execution_count": 53,
     "metadata": {},
     "output_type": "execute_result"
    }
   ],
   "source": [
    "US_Accidents_Feb16_to_June20_data['State'].unique()"
   ]
  },
  {
   "cell_type": "markdown",
   "metadata": {
    "id": "16YPW7z3z2PM"
   },
   "source": [
    "###### County level demographics - Population distribution among different age groups at county level. "
   ]
  },
  {
   "cell_type": "code",
   "execution_count": null,
   "metadata": {
    "id": "AIS59lNvz2PM",
    "outputId": "c4a35225-1ca7-4ed6-dd4c-75e7787128af"
   },
   "outputs": [
    {
     "data": {
      "text/plain": [
       "(15276, 80)"
      ]
     },
     "execution_count": 10,
     "metadata": {
      "tags": []
     },
     "output_type": "execute_result"
    }
   ],
   "source": [
    "# State - Florida\n",
    "US_demographic_data_Florida =pd.read_csv('../FinalProject/data/cc-est2019-alldata-12_Florida.csv')\n",
    "US_demographic_data_Florida.shape"
   ]
  },
  {
   "cell_type": "code",
   "execution_count": 21,
   "metadata": {
    "colab": {
     "base_uri": "https://localhost:8080/"
    },
    "executionInfo": {
     "elapsed": 1128,
     "status": "ok",
     "timestamp": 1606769160203,
     "user": {
      "displayName": "dips k",
      "photoUrl": "https://lh3.googleusercontent.com/a-/AOh14Gj25bxiFHO216E4VtQUYr7lSSJHHS6DszKFW7r3mA=s64",
      "userId": "09540616116020329822"
     },
     "user_tz": 300
    },
    "id": "r2CXuVY-z2PN",
    "outputId": "daa95111-017f-4e70-eb73-44d68440353a"
   },
   "outputs": [
    {
     "data": {
      "text/plain": [
       "(13224, 80)"
      ]
     },
     "execution_count": 21,
     "metadata": {
      "tags": []
     },
     "output_type": "execute_result"
    }
   ],
   "source": [
    "# State - California\n",
    "US_demographic_data_California =pd.read_csv('/content/drive/My Drive/Colab Notebooks/data/cc-est2019-alldata-06_California.csv')\n",
    "US_demographic_data_California.shape"
   ]
  },
  {
   "cell_type": "code",
   "execution_count": 24,
   "metadata": {
    "colab": {
     "base_uri": "https://localhost:8080/"
    },
    "executionInfo": {
     "elapsed": 902,
     "status": "ok",
     "timestamp": 1606769199555,
     "user": {
      "displayName": "dips k",
      "photoUrl": "https://lh3.googleusercontent.com/a-/AOh14Gj25bxiFHO216E4VtQUYr7lSSJHHS6DszKFW7r3mA=s64",
      "userId": "09540616116020329822"
     },
     "user_tz": 300
    },
    "id": "FFc9kguoz2PN",
    "outputId": "ef8bfc7c-1e32-413f-daf7-ed6d68ea692a"
   },
   "outputs": [
    {
     "data": {
      "text/plain": [
       "(57912, 80)"
      ]
     },
     "execution_count": 24,
     "metadata": {
      "tags": []
     },
     "output_type": "execute_result"
    }
   ],
   "source": [
    "# State - Texas\n",
    "US_demographic_data_Texas =pd.read_csv('/content/drive/My Drive/Colab Notebooks/data/cc-est2019-alldata-48_texas.csv')\n",
    "US_demographic_data_Texas.shape"
   ]
  },
  {
   "cell_type": "code",
   "execution_count": 10,
   "metadata": {
    "id": "amXa0DjFz2PN",
    "outputId": "056e1238-ac5b-49f8-cecf-8b323f83bd6a"
   },
   "outputs": [
    {
     "data": {
      "text/plain": [
       "(30324, 80)"
      ]
     },
     "execution_count": 10,
     "metadata": {},
     "output_type": "execute_result"
    }
   ],
   "source": [
    "# State - Virginia\n",
    "US_demographic_data_Virginia =pd.read_csv('../FinalProject/data/cc-est2019-alldata-51_Virginia.csv')\n",
    "US_demographic_data_Virginia.shape"
   ]
  },
  {
   "cell_type": "code",
   "execution_count": null,
   "metadata": {
    "id": "ekGO4JB7z2PN",
    "outputId": "7dbe0320-4503-4f26-97e5-da5ee771fd01"
   },
   "outputs": [
    {
     "data": {
      "text/plain": [
       "(10488, 80)"
      ]
     },
     "execution_count": 692,
     "metadata": {
      "tags": []
     },
     "output_type": "execute_result"
    }
   ],
   "source": [
    "# State - SouthCarolina\n",
    "US_demographic_data_SouthCarolina =pd.read_csv('../FinalProject/data/cc-est2019-alldata-45_SouthCarolina.csv')\n",
    "US_demographic_data_SouthCarolina.shape"
   ]
  },
  {
   "cell_type": "code",
   "execution_count": null,
   "metadata": {
    "id": "0Aly8tUOz2PN",
    "outputId": "e985e0ce-4dcd-4f1f-b5a2-eb8dba2fa2a7"
   },
   "outputs": [
    {
     "data": {
      "text/plain": [
       "(15276, 80)"
      ]
     },
     "execution_count": 693,
     "metadata": {
      "tags": []
     },
     "output_type": "execute_result"
    }
   ],
   "source": [
    "# State - Pennsylvania\n",
    "US_demographic_data_Pennsylvania =pd.read_csv('../FinalProject/data/cc-est2019-alldata-42_Pennsylvania.csv')\n",
    "US_demographic_data_Pennsylvania.shape"
   ]
  },
  {
   "cell_type": "code",
   "execution_count": null,
   "metadata": {
    "id": "fgdXoJ8Zz2PN",
    "outputId": "084b9ff2-e3fd-4fc4-c893-52602903c09b"
   },
   "outputs": [
    {
     "data": {
      "text/plain": [
       "(14136, 80)"
      ]
     },
     "execution_count": 694,
     "metadata": {
      "tags": []
     },
     "output_type": "execute_result"
    }
   ],
   "source": [
    "# State - NewYork\n",
    "US_demographic_data_NewYork =pd.read_csv('../FinalProject/data/cc-est2019-alldata-36_NewYork.csv')\n",
    "US_demographic_data_NewYork.shape"
   ]
  },
  {
   "cell_type": "code",
   "execution_count": null,
   "metadata": {
    "id": "O0u6vGTpz2PN",
    "outputId": "9e807586-c76b-4eda-b082-bcb47f513021"
   },
   "outputs": [
    {
     "data": {
      "text/plain": [
       "(22800, 80)"
      ]
     },
     "execution_count": 695,
     "metadata": {
      "tags": []
     },
     "output_type": "execute_result"
    }
   ],
   "source": [
    "# State - NorthCarolina\n",
    "US_demographic_data_NorthCarolina =pd.read_csv('../FinalProject/data/cc-est2019-alldata-37_NorthCarolina.csv')\n",
    "US_demographic_data_NorthCarolina.shape"
   ]
  },
  {
   "cell_type": "code",
   "execution_count": null,
   "metadata": {},
   "outputs": [],
   "source": []
  },
  {
   "cell_type": "code",
   "execution_count": 11,
   "metadata": {
    "executionInfo": {
     "elapsed": 240,
     "status": "ok",
     "timestamp": 1606769285984,
     "user": {
      "displayName": "dips k",
      "photoUrl": "https://lh3.googleusercontent.com/a-/AOh14Gj25bxiFHO216E4VtQUYr7lSSJHHS6DszKFW7r3mA=s64",
      "userId": "09540616116020329822"
     },
     "user_tz": 300
    },
    "id": "ml9nbpmVz2PN"
   },
   "outputs": [],
   "source": [
    "# demographic_states_dataframe = [US_demographic_data_Florida,US_demographic_data_California,US_demographic_data_Texas,US_demographic_data_Virginia,US_demographic_data_SouthCarolina,US_demographic_data_Pennsylvania,US_demographic_data_NewYork,US_demographic_data_NorthCarolina]\n",
    "# demographic_states_dataframe = [US_demographic_data_California,US_demographic_data_Texas]\n",
    "demographic_states_dataframe = [US_demographic_data_Virginia]"
   ]
  },
  {
   "cell_type": "code",
   "execution_count": 12,
   "metadata": {
    "executionInfo": {
     "elapsed": 247,
     "status": "ok",
     "timestamp": 1606769318403,
     "user": {
      "displayName": "dips k",
      "photoUrl": "https://lh3.googleusercontent.com/a-/AOh14Gj25bxiFHO216E4VtQUYr7lSSJHHS6DszKFW7r3mA=s64",
      "userId": "09540616116020329822"
     },
     "user_tz": 300
    },
    "id": "vnVe--rVz2PN"
   },
   "outputs": [],
   "source": [
    "# function concat demographic dataframes for different states\n",
    "def concat_dataframe_by_row(dataframes):\n",
    "    merged_df = pd.concat(demographic_states_dataframe, axis=0)\n",
    "    return merged_df"
   ]
  },
  {
   "cell_type": "code",
   "execution_count": 13,
   "metadata": {
    "colab": {
     "base_uri": "https://localhost:8080/"
    },
    "executionInfo": {
     "elapsed": 411,
     "status": "ok",
     "timestamp": 1606777772160,
     "user": {
      "displayName": "dips k",
      "photoUrl": "https://lh3.googleusercontent.com/a-/AOh14Gj25bxiFHO216E4VtQUYr7lSSJHHS6DszKFW7r3mA=s64",
      "userId": "09540616116020329822"
     },
     "user_tz": 300
    },
    "id": "3Jxn-XJvz2PN",
    "outputId": "ee2d0ac4-49c2-40d4-af71-1536d7c2659a"
   },
   "outputs": [
    {
     "data": {
      "text/plain": [
       "(30324, 80)"
      ]
     },
     "execution_count": 13,
     "metadata": {},
     "output_type": "execute_result"
    }
   ],
   "source": [
    "US_demographic_data = concat_dataframe_by_row(demographic_states_dataframe)\n",
    "US_demographic_data.shape"
   ]
  },
  {
   "cell_type": "markdown",
   "metadata": {
    "id": "Lqs0hVVA-IVq"
   },
   "source": [
    "######  US Accidents Feb16 to June20_data-  by states. \n"
   ]
  },
  {
   "cell_type": "code",
   "execution_count": 14,
   "metadata": {
    "executionInfo": {
     "elapsed": 233,
     "status": "ok",
     "timestamp": 1606769338600,
     "user": {
      "displayName": "dips k",
      "photoUrl": "https://lh3.googleusercontent.com/a-/AOh14Gj25bxiFHO216E4VtQUYr7lSSJHHS6DszKFW7r3mA=s64",
      "userId": "09540616116020329822"
     },
     "user_tz": 300
    },
    "id": "thoTdMmMz2PN"
   },
   "outputs": [],
   "source": [
    "# Function to filter dataframe by state\n",
    "def filter_dataframe_by_state(df,state):\n",
    "    updated_df = df[df['State']==state]\n",
    "    return updated_df"
   ]
  },
  {
   "cell_type": "code",
   "execution_count": 15,
   "metadata": {
    "id": "v2WWQDSJz2PN",
    "outputId": "6b86ceb7-8133-4cb1-91f1-83693c15a57b"
   },
   "outputs": [],
   "source": [
    "# US accidents data for only florida\n",
    "# \n",
    "# US_Accidents_data_by_state = filter_dataframe_by_state(US_Accidents_Feb16_to_June20_data,'FL')\n",
    "# US_Accidents_data_by_state.shape"
   ]
  },
  {
   "cell_type": "markdown",
   "metadata": {
    "id": "i5w6GJ2Uz2PN"
   },
   "source": [
    "######   Concat US Accidents Feb16 to June20_data-  by states. "
   ]
  },
  {
   "cell_type": "code",
   "execution_count": 20,
   "metadata": {
    "id": "okPF3pIcz2PN",
    "outputId": "5483e28e-5233-4418-a3b4-8bfbb8c0e82a"
   },
   "outputs": [
    {
     "data": {
      "text/plain": [
       "array(['OH', 'WV', 'CA', 'FL', 'GA', 'SC', 'NE', 'IA', 'IL', 'MO', 'WI',\n",
       "       'IN', 'MI', 'NJ', 'NY', 'CT', 'MA', 'RI', 'NH', 'PA', 'KY', 'MD',\n",
       "       'VA', 'DC', 'DE', 'TX', 'WA', 'OR', 'AL', 'TN', 'NC', 'KS', 'LA',\n",
       "       'OK', 'CO', 'UT', 'AZ', 'MN', 'MS', 'NV', 'ME', 'AR', 'ID', 'VT',\n",
       "       'NM', 'ND', 'WY', 'SD', 'MT'], dtype=object)"
      ]
     },
     "execution_count": 20,
     "metadata": {},
     "output_type": "execute_result"
    }
   ],
   "source": [
    "US_Accidents_Feb16_to_June20_data.State.unique()"
   ]
  },
  {
   "cell_type": "code",
   "execution_count": 17,
   "metadata": {
    "executionInfo": {
     "elapsed": 333,
     "status": "ok",
     "timestamp": 1606769346783,
     "user": {
      "displayName": "dips k",
      "photoUrl": "https://lh3.googleusercontent.com/a-/AOh14Gj25bxiFHO216E4VtQUYr7lSSJHHS6DszKFW7r3mA=s64",
      "userId": "09540616116020329822"
     },
     "user_tz": 300
    },
    "id": "V3fevm06z2PO"
   },
   "outputs": [],
   "source": [
    "#States_records = ['FL','CA', 'TX', 'VA', 'SC', 'PA', 'NY', 'NC']\n",
    "#States_records = ['CA', 'TX']\n",
    "States_records =['VA']"
   ]
  },
  {
   "cell_type": "code",
   "execution_count": 18,
   "metadata": {
    "executionInfo": {
     "elapsed": 257,
     "status": "ok",
     "timestamp": 1606769376700,
     "user": {
      "displayName": "dips k",
      "photoUrl": "https://lh3.googleusercontent.com/a-/AOh14Gj25bxiFHO216E4VtQUYr7lSSJHHS6DszKFW7r3mA=s64",
      "userId": "09540616116020329822"
     },
     "user_tz": 300
    },
    "id": "qmYp5Yt5z2PO"
   },
   "outputs": [],
   "source": [
    "# function filter US accidents by States\n",
    "def concat_dataframe_by_states_US_Accidents(dataframe,States_records):\n",
    "    data = []\n",
    "    for state in States_records:\n",
    "        data.append(filter_dataframe_by_state(dataframe,state))\n",
    "\n",
    "    merged_t = pd.concat(data, axis=0)\n",
    "    return merged_t\n",
    "    "
   ]
  },
  {
   "cell_type": "code",
   "execution_count": 19,
   "metadata": {
    "colab": {
     "base_uri": "https://localhost:8080/"
    },
    "executionInfo": {
     "elapsed": 3228,
     "status": "ok",
     "timestamp": 1606779928422,
     "user": {
      "displayName": "dips k",
      "photoUrl": "https://lh3.googleusercontent.com/a-/AOh14Gj25bxiFHO216E4VtQUYr7lSSJHHS6DszKFW7r3mA=s64",
      "userId": "09540616116020329822"
     },
     "user_tz": 300
    },
    "id": "4D9qSbwez2PO",
    "outputId": "91d8d2df-6c3c-47f0-a87c-76e8bc1e787d"
   },
   "outputs": [
    {
     "data": {
      "text/plain": [
       "(96075, 49)"
      ]
     },
     "execution_count": 19,
     "metadata": {},
     "output_type": "execute_result"
    }
   ],
   "source": [
    "US_Accidents_Feb16_to_June20_data_by_states =concat_dataframe_by_states_US_Accidents(US_Accidents_Feb16_to_June20_data,States_records)\n",
    "US_Accidents_Feb16_to_June20_data_by_states.shape"
   ]
  },
  {
   "cell_type": "markdown",
   "metadata": {
    "id": "maV90pIW89K5"
   },
   "source": [
    "####  Feature Reduction for US_Accidents_Feb16_to_June20_data_by_states"
   ]
  },
  {
   "cell_type": "code",
   "execution_count": 8,
   "metadata": {
    "colab": {
     "base_uri": "https://localhost:8080/"
    },
    "executionInfo": {
     "elapsed": 307,
     "status": "ok",
     "timestamp": 1606779931486,
     "user": {
      "displayName": "dips k",
      "photoUrl": "https://lh3.googleusercontent.com/a-/AOh14Gj25bxiFHO216E4VtQUYr7lSSJHHS6DszKFW7r3mA=s64",
      "userId": "09540616116020329822"
     },
     "user_tz": 300
    },
    "id": "r6e8M1xQ_v4m",
    "outputId": "352d1c71-39c7-4ed1-d315-92a518aa0282"
   },
   "outputs": [
    {
     "data": {
      "text/plain": [
       "(3513617, 49)"
      ]
     },
     "execution_count": 8,
     "metadata": {},
     "output_type": "execute_result"
    }
   ],
   "source": [
    "# For US_Accidents_Feb16_to_June20_data_by_states dataset\n",
    "US_Accidents_Feb16_to_June20_data.shape"
   ]
  },
  {
   "cell_type": "code",
   "execution_count": 22,
   "metadata": {},
   "outputs": [],
   "source": [
    "# del(US_Accidents_Feb16_to_June20_data)\n",
    "# del(US_demographic_data)"
   ]
  },
  {
   "cell_type": "code",
   "execution_count": 21,
   "metadata": {
    "colab": {
     "base_uri": "https://localhost:8080/"
    },
    "executionInfo": {
     "elapsed": 1649,
     "status": "ok",
     "timestamp": 1606779933771,
     "user": {
      "displayName": "dips k",
      "photoUrl": "https://lh3.googleusercontent.com/a-/AOh14Gj25bxiFHO216E4VtQUYr7lSSJHHS6DszKFW7r3mA=s64",
      "userId": "09540616116020329822"
     },
     "user_tz": 300
    },
    "id": "Od1WD-Dkz2PP",
    "outputId": "c8145ab1-74f3-4f04-d77f-15aec0eb12d3"
   },
   "outputs": [
    {
     "data": {
      "text/plain": [
       "Civil_Twilight               115\n",
       "Astronomical_Twilight        115\n",
       "Nautical_Twilight            115\n",
       "Zipcode                     1069\n",
       "Timezone                    3880\n",
       "Airport_Code                6758\n",
       "Weather_Timestamp          43323\n",
       "Pressure(in)               55882\n",
       "Wind_Direction             58874\n",
       "Temperature(F)             65732\n",
       "Humidity(%)                69687\n",
       "Visibility(mi)             75856\n",
       "Weather_Condition          76138\n",
       "Wind_Speed(mph)           454609\n",
       "TMC                      1034799\n",
       "Wind_Chill(F)            1868249\n",
       "Precipitation(in)        2025874\n",
       "Number                   2262864\n",
       "End_Lng                  2478818\n",
       "End_Lat                  2478818\n",
       "dtype: int64"
      ]
     },
     "execution_count": 21,
     "metadata": {},
     "output_type": "execute_result"
    }
   ],
   "source": [
    "# Retrieving records that has 70% of total records as null values\n",
    "US_Accidents_Feb16_to_June20_data.isnull().sum().sort_values().tail(20)"
   ]
  },
  {
   "cell_type": "code",
   "execution_count": null,
   "metadata": {},
   "outputs": [],
   "source": [
    "US_Accidents_Feb16_to_June20_data"
   ]
  },
  {
   "cell_type": "code",
   "execution_count": 22,
   "metadata": {
    "colab": {
     "base_uri": "https://localhost:8080/"
    },
    "executionInfo": {
     "elapsed": 2104,
     "status": "ok",
     "timestamp": 1606779941636,
     "user": {
      "displayName": "dips k",
      "photoUrl": "https://lh3.googleusercontent.com/a-/AOh14Gj25bxiFHO216E4VtQUYr7lSSJHHS6DszKFW7r3mA=s64",
      "userId": "09540616116020329822"
     },
     "user_tz": 300
    },
    "id": "-t5F5GBS-RSF",
    "outputId": "55368acc-10e7-4f8c-fced-76ef42c6b760"
   },
   "outputs": [
    {
     "data": {
      "text/plain": [
       "(3513617, 42)"
      ]
     },
     "execution_count": 22,
     "metadata": {},
     "output_type": "execute_result"
    }
   ],
   "source": [
    "# Dropping features because 70% of data is null\n",
    "US_Accidents_Feb16_to_June20_data.drop(['Precipitation(in)','Number', 'End_Lng', 'End_Lat','Wind_Chill(F)','Wind_Speed(mph)','TMC'], axis=1, inplace=True)\n",
    "US_Accidents_Feb16_to_June20_data.shape\n"
   ]
  },
  {
   "cell_type": "code",
   "execution_count": 23,
   "metadata": {
    "colab": {
     "base_uri": "https://localhost:8080/"
    },
    "executionInfo": {
     "elapsed": 508,
     "status": "ok",
     "timestamp": 1606779947576,
     "user": {
      "displayName": "dips k",
      "photoUrl": "https://lh3.googleusercontent.com/a-/AOh14Gj25bxiFHO216E4VtQUYr7lSSJHHS6DszKFW7r3mA=s64",
      "userId": "09540616116020329822"
     },
     "user_tz": 300
    },
    "id": "cbS1o4lo_FIY",
    "outputId": "a392b212-127f-4702-b72c-ed438c2e6fb8"
   },
   "outputs": [
    {
     "data": {
      "text/plain": [
       "(3513617, 33)"
      ]
     },
     "execution_count": 23,
     "metadata": {},
     "output_type": "execute_result"
    }
   ],
   "source": [
    "# Dropping features which doesn't add much value for model creation\n",
    "US_Accidents_Feb16_to_June20_data.drop(['Country','Zipcode','ID','Source','Description','Street','Weather_Timestamp','Turning_Loop','City'], axis=1, inplace=True)\n",
    "US_Accidents_Feb16_to_June20_data.shape\n",
    "# Traffic_Signal, Turning_Loop\n"
   ]
  },
  {
   "cell_type": "code",
   "execution_count": 24,
   "metadata": {
    "colab": {
     "base_uri": "https://localhost:8080/"
    },
    "executionInfo": {
     "elapsed": 699,
     "status": "ok",
     "timestamp": 1606779949851,
     "user": {
      "displayName": "dips k",
      "photoUrl": "https://lh3.googleusercontent.com/a-/AOh14Gj25bxiFHO216E4VtQUYr7lSSJHHS6DszKFW7r3mA=s64",
      "userId": "09540616116020329822"
     },
     "user_tz": 300
    },
    "id": "TAr30-uXi6bV",
    "outputId": "0d946df7-9c77-450a-f67e-b82685675dc5"
   },
   "outputs": [
    {
     "data": {
      "text/plain": [
       "array([2016, 2017, 2020, 2019, 2018], dtype=int64)"
      ]
     },
     "execution_count": 24,
     "metadata": {},
     "output_type": "execute_result"
    }
   ],
   "source": [
    "US_Accidents_Feb16_to_June20_data['Start_Time'] = pd.to_datetime(US_Accidents_Feb16_to_June20_data['Start_Time'])\n",
    "US_Accidents_Feb16_to_June20_data['Start_Time_Year'] = US_Accidents_Feb16_to_June20_data['Start_Time'].dt.year\n",
    "US_Accidents_Feb16_to_June20_data['Start_Time_Year'].unique()"
   ]
  },
  {
   "cell_type": "code",
   "execution_count": 29,
   "metadata": {},
   "outputs": [
    {
     "data": {
      "text/plain": [
       "(0   2016-02-08 05:46:00\n",
       " 1   2016-02-08 06:07:59\n",
       " 2   2016-02-08 06:49:27\n",
       " 3   2016-02-08 07:23:34\n",
       " 4   2016-02-08 07:39:07\n",
       " Name: Start_Time, dtype: datetime64[ns],\n",
       " 0   2016-02-08 11:00:00\n",
       " 1   2016-02-08 06:37:59\n",
       " 2   2016-02-08 07:19:27\n",
       " 3   2016-02-08 07:53:34\n",
       " 4   2016-02-08 08:09:07\n",
       " Name: End_Time, dtype: datetime64[ns])"
      ]
     },
     "execution_count": 29,
     "metadata": {},
     "output_type": "execute_result"
    }
   ],
   "source": [
    "US_Accidents_Feb16_to_June20_data['Start_Time'].head(5),US_Accidents_Feb16_to_June20_data['End_Time'].head(5)"
   ]
  },
  {
   "cell_type": "code",
   "execution_count": 28,
   "metadata": {},
   "outputs": [],
   "source": [
    "US_Accidents_Feb16_to_June20_data[['End_Time']]= US_Accidents_Feb16_to_June20_data[['End_Time']].apply(pd.to_datetime)"
   ]
  },
  {
   "cell_type": "code",
   "execution_count": 32,
   "metadata": {},
   "outputs": [],
   "source": [
    "duration = US_Accidents_Feb16_to_June20_data['End_Time']- US_Accidents_Feb16_to_June20_data['Start_Time']\n",
    "US_Accidents_Feb16_to_June20_data['duration'] = duration.astype('timedelta64[s]')"
   ]
  },
  {
   "cell_type": "code",
   "execution_count": 38,
   "metadata": {
    "colab": {
     "base_uri": "https://localhost:8080/"
    },
    "executionInfo": {
     "elapsed": 332,
     "status": "ok",
     "timestamp": 1606779953926,
     "user": {
      "displayName": "dips k",
      "photoUrl": "https://lh3.googleusercontent.com/a-/AOh14Gj25bxiFHO216E4VtQUYr7lSSJHHS6DszKFW7r3mA=s64",
      "userId": "09540616116020329822"
     },
     "user_tz": 300
    },
    "id": "cXG45_Cd_Z8w",
    "outputId": "de3cdcb8-ebfa-4c1a-cc9a-2b06c3c3473c"
   },
   "outputs": [
    {
     "data": {
      "text/plain": [
       "(3513617, 33)"
      ]
     },
     "execution_count": 38,
     "metadata": {},
     "output_type": "execute_result"
    }
   ],
   "source": [
    "# Dropping features 'Start_Time' and 'End_Time'\n",
    "US_Accidents_Feb16_to_June20_data.drop(['Start_Time','End_Time'], axis=1, inplace=True)\n",
    "US_Accidents_Feb16_to_June20_data.shape"
   ]
  },
  {
   "cell_type": "code",
   "execution_count": 41,
   "metadata": {
    "colab": {
     "base_uri": "https://localhost:8080/"
    },
    "executionInfo": {
     "elapsed": 583,
     "status": "ok",
     "timestamp": 1606779955415,
     "user": {
      "displayName": "dips k",
      "photoUrl": "https://lh3.googleusercontent.com/a-/AOh14Gj25bxiFHO216E4VtQUYr7lSSJHHS6DszKFW7r3mA=s64",
      "userId": "09540616116020329822"
     },
     "user_tz": 300
    },
    "id": "4EaICwV5Bbm8",
    "outputId": "e15dcacc-ebc2-4924-bbf4-141becd0f5a4"
   },
   "outputs": [],
   "source": [
    "# Dropping features 'Start_Lat' and 'Start_Lng'\n",
    "US_Accidents_Feb16_to_June20_data.drop(['Start_Lat','Start_Lng'], axis=1, inplace=True)\n"
   ]
  },
  {
   "cell_type": "code",
   "execution_count": 42,
   "metadata": {
    "colab": {
     "base_uri": "https://localhost:8080/"
    },
    "executionInfo": {
     "elapsed": 351,
     "status": "ok",
     "timestamp": 1606779959183,
     "user": {
      "displayName": "dips k",
      "photoUrl": "https://lh3.googleusercontent.com/a-/AOh14Gj25bxiFHO216E4VtQUYr7lSSJHHS6DszKFW7r3mA=s64",
      "userId": "09540616116020329822"
     },
     "user_tz": 300
    },
    "id": "jLoFpNb2IKNJ",
    "outputId": "613ce892-d459-4360-a1cc-c8edcc16a151"
   },
   "outputs": [
    {
     "data": {
      "text/plain": [
       "(3513617, 21)"
      ]
     },
     "execution_count": 42,
     "metadata": {},
     "output_type": "execute_result"
    }
   ],
   "source": [
    "\n",
    "# Dropping features where 99% of data belongs to only one category there is no variance in data\n",
    "# 'Turning_Loop', 'Traffic_Calming', 'Stop', 'Station', 'Roundabout', 'Railway','No_Exit','Give_Way','Crossing', 'Bump', 'Amenity'\n",
    "US_Accidents_Feb16_to_June20_data.drop(['Traffic_Calming', 'Stop', 'Station', 'Roundabout', 'Railway','No_Exit','Give_Way','Crossing', 'Bump', 'Amenity'], axis=1, inplace=True)\n",
    "US_Accidents_Feb16_to_June20_data.shape\n"
   ]
  },
  {
   "cell_type": "code",
   "execution_count": 48,
   "metadata": {},
   "outputs": [
    {
     "data": {
      "text/plain": [
       "Calm        368282\n",
       "CALM        217424\n",
       "SSW         181645\n",
       "South       177225\n",
       "WNW         174115\n",
       "SW          172252\n",
       "WSW         165738\n",
       "NW          164928\n",
       "West        164624\n",
       "SSE         163649\n",
       "North       153252\n",
       "NNW         147047\n",
       "SE          132051\n",
       "NNE         117475\n",
       "NE          115931\n",
       "ESE         114855\n",
       "Variable    113897\n",
       "ENE         112626\n",
       "S           103970\n",
       "East        103462\n",
       "W            95115\n",
       "N            70516\n",
       "VAR          64523\n",
       "E            60141\n",
       "Name: Wind_Direction, dtype: int64"
      ]
     },
     "execution_count": 48,
     "metadata": {},
     "output_type": "execute_result"
    }
   ],
   "source": [
    "US_Accidents_Feb16_to_June20_data['Wind_Direction'].value_counts()"
   ]
  },
  {
   "cell_type": "code",
   "execution_count": null,
   "metadata": {},
   "outputs": [],
   "source": []
  },
  {
   "cell_type": "code",
   "execution_count": 1,
   "metadata": {
    "colab": {
     "base_uri": "https://localhost:8080/"
    },
    "executionInfo": {
     "elapsed": 351,
     "status": "ok",
     "timestamp": 1606779961621,
     "user": {
      "displayName": "dips k",
      "photoUrl": "https://lh3.googleusercontent.com/a-/AOh14Gj25bxiFHO216E4VtQUYr7lSSJHHS6DszKFW7r3mA=s64",
      "userId": "09540616116020329822"
     },
     "user_tz": 300
    },
    "id": "P4JoGmS2LXDh",
    "outputId": "2975ce14-9f29-45a3-8023-9ec9e2fac180"
   },
   "outputs": [],
   "source": [
    "# Dropping features 'Timezone', 'Airport_Code'\n",
    "# Dropping feature Wind_Direction - can be used for SVM later\n",
    "US_Accidents_Feb16_to_June20_data.drop(['Wind_Direction'], axis=1, inplace=True)\n",
    "US_Accidents_Feb16_to_June20_data.shape"
   ]
  },
  {
   "cell_type": "code",
   "execution_count": null,
   "metadata": {},
   "outputs": [],
   "source": [
    "# 'Airport_Code'"
   ]
  },
  {
   "cell_type": "markdown",
   "metadata": {
    "id": "IEtCf5PUErEJ"
   },
   "source": [
    "### Feature transformation "
   ]
  },
  {
   "cell_type": "code",
   "execution_count": 31,
   "metadata": {
    "colab": {
     "base_uri": "https://localhost:8080/"
    },
    "executionInfo": {
     "elapsed": 334,
     "status": "ok",
     "timestamp": 1606779966821,
     "user": {
      "displayName": "dips k",
      "photoUrl": "https://lh3.googleusercontent.com/a-/AOh14Gj25bxiFHO216E4VtQUYr7lSSJHHS6DszKFW7r3mA=s64",
      "userId": "09540616116020329822"
     },
     "user_tz": 300
    },
    "id": "-HBDYFk_AV4s",
    "outputId": "49c63c82-c7e8-4d6f-ebbe-645660bbe7a0"
   },
   "outputs": [
    {
     "data": {
      "text/plain": [
       "Index(['Severity', 'Distance(mi)', 'Side', 'County', 'State', 'Timezone',\n",
       "       'Temperature(F)', 'Humidity(%)', 'Pressure(in)', 'Visibility(mi)',\n",
       "       'Weather_Condition', 'Junction', 'Traffic_Signal', 'Sunrise_Sunset',\n",
       "       'Civil_Twilight', 'Nautical_Twilight', 'Astronomical_Twilight',\n",
       "       'Start_Time_Year'],\n",
       "      dtype='object')"
      ]
     },
     "execution_count": 31,
     "metadata": {},
     "output_type": "execute_result"
    }
   ],
   "source": [
    "US_Accidents_Feb16_to_June20_data_by_states.columns"
   ]
  },
  {
   "cell_type": "markdown",
   "metadata": {
    "id": "SX4C3JD7N54e"
   },
   "source": [
    "#### Converting categorical values with two outcomes into binary value "
   ]
  },
  {
   "cell_type": "code",
   "execution_count": 32,
   "metadata": {
    "executionInfo": {
     "elapsed": 224,
     "status": "ok",
     "timestamp": 1606779978758,
     "user": {
      "displayName": "dips k",
      "photoUrl": "https://lh3.googleusercontent.com/a-/AOh14Gj25bxiFHO216E4VtQUYr7lSSJHHS6DszKFW7r3mA=s64",
      "userId": "09540616116020329822"
     },
     "user_tz": 300
    },
    "id": "BP1KjgSgFKLl"
   },
   "outputs": [],
   "source": [
    "day_night_mapping = {'Day':0,'Night':1}"
   ]
  },
  {
   "cell_type": "code",
   "execution_count": 33,
   "metadata": {
    "executionInfo": {
     "elapsed": 1680,
     "status": "ok",
     "timestamp": 1606779981510,
     "user": {
      "displayName": "dips k",
      "photoUrl": "https://lh3.googleusercontent.com/a-/AOh14Gj25bxiFHO216E4VtQUYr7lSSJHHS6DszKFW7r3mA=s64",
      "userId": "09540616116020329822"
     },
     "user_tz": 300
    },
    "id": "ivT_PkEuFOi6"
   },
   "outputs": [],
   "source": [
    "# mapping categorical values Day = 0 and night= 1\n",
    "# 'Sunrise_Sunset', 'Civil_Twilight','Nautical_Twilight', 'Astronomical_Twilight'\n",
    "US_Accidents_Feb16_to_June20_data_by_states.Sunrise_Sunset.replace(dict(day_night_mapping), inplace=True)\n",
    "US_Accidents_Feb16_to_June20_data_by_states.Civil_Twilight.replace(dict(day_night_mapping), inplace=True)\n",
    "US_Accidents_Feb16_to_June20_data_by_states.Nautical_Twilight.replace(dict(day_night_mapping), inplace=True)\n",
    "US_Accidents_Feb16_to_June20_data_by_states.Astronomical_Twilight.replace(dict(day_night_mapping), inplace=True)\n"
   ]
  },
  {
   "cell_type": "code",
   "execution_count": 34,
   "metadata": {
    "executionInfo": {
     "elapsed": 208,
     "status": "ok",
     "timestamp": 1606780224849,
     "user": {
      "displayName": "dips k",
      "photoUrl": "https://lh3.googleusercontent.com/a-/AOh14Gj25bxiFHO216E4VtQUYr7lSSJHHS6DszKFW7r3mA=s64",
      "userId": "09540616116020329822"
     },
     "user_tz": 300
    },
    "id": "Lsozm9OaHUIl"
   },
   "outputs": [],
   "source": [
    "boolean_mapping = {True:1,False:0}\n",
    "data_mapping = {'R':0,'L':1}"
   ]
  },
  {
   "cell_type": "code",
   "execution_count": 35,
   "metadata": {
    "colab": {
     "base_uri": "https://localhost:8080/"
    },
    "executionInfo": {
     "elapsed": 307,
     "status": "ok",
     "timestamp": 1606780167698,
     "user": {
      "displayName": "dips k",
      "photoUrl": "https://lh3.googleusercontent.com/a-/AOh14Gj25bxiFHO216E4VtQUYr7lSSJHHS6DszKFW7r3mA=s64",
      "userId": "09540616116020329822"
     },
     "user_tz": 300
    },
    "id": "g1ZiKRwDj32u",
    "outputId": "9838bf4f-8a3a-43c4-a737-7af0d6b29827"
   },
   "outputs": [
    {
     "data": {
      "text/plain": [
       "array([False,  True])"
      ]
     },
     "execution_count": 35,
     "metadata": {},
     "output_type": "execute_result"
    }
   ],
   "source": [
    "US_Accidents_Feb16_to_June20_data_by_states.Traffic_Signal.unique()"
   ]
  },
  {
   "cell_type": "code",
   "execution_count": 36,
   "metadata": {
    "executionInfo": {
     "elapsed": 465,
     "status": "ok",
     "timestamp": 1606780229601,
     "user": {
      "displayName": "dips k",
      "photoUrl": "https://lh3.googleusercontent.com/a-/AOh14Gj25bxiFHO216E4VtQUYr7lSSJHHS6DszKFW7r3mA=s64",
      "userId": "09540616116020329822"
     },
     "user_tz": 300
    },
    "id": "wWyQlM_AHIf_"
   },
   "outputs": [],
   "source": [
    "US_Accidents_Feb16_to_June20_data_by_states.Traffic_Signal.replace(dict(boolean_mapping),inplace=True)\n",
    "US_Accidents_Feb16_to_June20_data_by_states.Junction.replace(dict(boolean_mapping), inplace=True)\n",
    "US_Accidents_Feb16_to_June20_data_by_states.Side.replace(dict(data_mapping), inplace=True)"
   ]
  },
  {
   "cell_type": "code",
   "execution_count": 37,
   "metadata": {
    "colab": {
     "base_uri": "https://localhost:8080/"
    },
    "executionInfo": {
     "elapsed": 461,
     "status": "ok",
     "timestamp": 1606780237838,
     "user": {
      "displayName": "dips k",
      "photoUrl": "https://lh3.googleusercontent.com/a-/AOh14Gj25bxiFHO216E4VtQUYr7lSSJHHS6DszKFW7r3mA=s64",
      "userId": "09540616116020329822"
     },
     "user_tz": 300
    },
    "id": "f6furOtFDsqi",
    "outputId": "b34723e4-b468-4a78-fdb1-3fe678c5c982"
   },
   "outputs": [
    {
     "data": {
      "text/plain": [
       "Index(['Severity', 'Side', 'County', 'State', 'Timezone', 'Weather_Condition',\n",
       "       'Junction', 'Traffic_Signal', 'Sunrise_Sunset', 'Civil_Twilight',\n",
       "       'Nautical_Twilight', 'Astronomical_Twilight', 'Start_Time_Year'],\n",
       "      dtype='object')"
      ]
     },
     "execution_count": 37,
     "metadata": {},
     "output_type": "execute_result"
    }
   ],
   "source": [
    "# Finding out columns with categorical values\n",
    "US_Accidents_Feb16_to_June20_data_by_states.dtypes.unique() # unique data types \n",
    "US_Accidents_Feb16_to_June20_data_by_states.select_dtypes(exclude=['int','float']).columns #  Fetching columns with categorical values"
   ]
  },
  {
   "cell_type": "code",
   "execution_count": 38,
   "metadata": {
    "colab": {
     "base_uri": "https://localhost:8080/"
    },
    "executionInfo": {
     "elapsed": 271,
     "status": "ok",
     "timestamp": 1606780242820,
     "user": {
      "displayName": "dips k",
      "photoUrl": "https://lh3.googleusercontent.com/a-/AOh14Gj25bxiFHO216E4VtQUYr7lSSJHHS6DszKFW7r3mA=s64",
      "userId": "09540616116020329822"
     },
     "user_tz": 300
    },
    "id": "SgRbGSMED12x",
    "outputId": "dd040232-3d98-42f6-8b48-4cb1b42bf85e"
   },
   "outputs": [
    {
     "data": {
      "text/plain": [
       "Index(['Distance(mi)', 'Temperature(F)', 'Humidity(%)', 'Pressure(in)',\n",
       "       'Visibility(mi)'],\n",
       "      dtype='object')"
      ]
     },
     "execution_count": 38,
     "metadata": {},
     "output_type": "execute_result"
    }
   ],
   "source": [
    "# Finding out columns with numerical values\n",
    "US_Accidents_Feb16_to_June20_data_by_states.select_dtypes(include=['int','float']).columns"
   ]
  },
  {
   "cell_type": "code",
   "execution_count": 39,
   "metadata": {
    "colab": {
     "base_uri": "https://localhost:8080/"
    },
    "executionInfo": {
     "elapsed": 210,
     "status": "ok",
     "timestamp": 1606780255231,
     "user": {
      "displayName": "dips k",
      "photoUrl": "https://lh3.googleusercontent.com/a-/AOh14Gj25bxiFHO216E4VtQUYr7lSSJHHS6DszKFW7r3mA=s64",
      "userId": "09540616116020329822"
     },
     "user_tz": 300
    },
    "id": "nOlPbQ4DBEsU",
    "outputId": "b6a9ffd0-e038-4b66-e4d5-0bc6fd320196"
   },
   "outputs": [
    {
     "data": {
      "text/plain": [
       "(96075, 18)"
      ]
     },
     "execution_count": 39,
     "metadata": {},
     "output_type": "execute_result"
    }
   ],
   "source": [
    "US_Accidents_Feb16_to_June20_data_by_states.shape"
   ]
  },
  {
   "cell_type": "code",
   "execution_count": 40,
   "metadata": {
    "colab": {
     "base_uri": "https://localhost:8080/"
    },
    "executionInfo": {
     "elapsed": 675,
     "status": "ok",
     "timestamp": 1606780256890,
     "user": {
      "displayName": "dips k",
      "photoUrl": "https://lh3.googleusercontent.com/a-/AOh14Gj25bxiFHO216E4VtQUYr7lSSJHHS6DszKFW7r3mA=s64",
      "userId": "09540616116020329822"
     },
     "user_tz": 300
    },
    "id": "kbZLXFnEV0QQ",
    "outputId": "d72e6524-e404-41a0-84a1-c519253c4ca4"
   },
   "outputs": [
    {
     "data": {
      "text/plain": [
       "(90349, 18)"
      ]
     },
     "execution_count": 40,
     "metadata": {},
     "output_type": "execute_result"
    }
   ],
   "source": [
    "# Dropping null values from the dataframe\n",
    "US_Accidents_Feb16_to_June20_data_by_states.dropna(inplace=True)\n",
    "US_Accidents_Feb16_to_June20_data_by_states.shape"
   ]
  },
  {
   "cell_type": "markdown",
   "metadata": {
    "id": "nGn3HQPdOaK1"
   },
   "source": [
    "### Transformation and cleaning for demographic dataset"
   ]
  },
  {
   "cell_type": "code",
   "execution_count": 41,
   "metadata": {
    "colab": {
     "base_uri": "https://localhost:8080/"
    },
    "executionInfo": {
     "elapsed": 252,
     "status": "ok",
     "timestamp": 1606777946522,
     "user": {
      "displayName": "dips k",
      "photoUrl": "https://lh3.googleusercontent.com/a-/AOh14Gj25bxiFHO216E4VtQUYr7lSSJHHS6DszKFW7r3mA=s64",
      "userId": "09540616116020329822"
     },
     "user_tz": 300
    },
    "id": "JK4_nkV4ADkn",
    "outputId": "8fee4470-2bef-4fcd-b995-6e340ad169ed"
   },
   "outputs": [
    {
     "data": {
      "text/plain": [
       "((30324, 80),\n",
       " Index(['SUMLEV', 'STATE', 'COUNTY', 'STNAME', 'CTYNAME', 'YEAR', 'AGEGRP',\n",
       "        'TOT_POP', 'TOT_MALE', 'TOT_FEMALE', 'WA_MALE', 'WA_FEMALE', 'BA_MALE',\n",
       "        'BA_FEMALE', 'IA_MALE', 'IA_FEMALE', 'AA_MALE', 'AA_FEMALE', 'NA_MALE',\n",
       "        'NA_FEMALE', 'TOM_MALE', 'TOM_FEMALE', 'WAC_MALE', 'WAC_FEMALE',\n",
       "        'BAC_MALE', 'BAC_FEMALE', 'IAC_MALE', 'IAC_FEMALE', 'AAC_MALE',\n",
       "        'AAC_FEMALE', 'NAC_MALE', 'NAC_FEMALE', 'NH_MALE', 'NH_FEMALE',\n",
       "        'NHWA_MALE', 'NHWA_FEMALE', 'NHBA_MALE', 'NHBA_FEMALE', 'NHIA_MALE',\n",
       "        'NHIA_FEMALE', 'NHAA_MALE', 'NHAA_FEMALE', 'NHNA_MALE', 'NHNA_FEMALE',\n",
       "        'NHTOM_MALE', 'NHTOM_FEMALE', 'NHWAC_MALE', 'NHWAC_FEMALE',\n",
       "        'NHBAC_MALE', 'NHBAC_FEMALE', 'NHIAC_MALE', 'NHIAC_FEMALE',\n",
       "        'NHAAC_MALE', 'NHAAC_FEMALE', 'NHNAC_MALE', 'NHNAC_FEMALE', 'H_MALE',\n",
       "        'H_FEMALE', 'HWA_MALE', 'HWA_FEMALE', 'HBA_MALE', 'HBA_FEMALE',\n",
       "        'HIA_MALE', 'HIA_FEMALE', 'HAA_MALE', 'HAA_FEMALE', 'HNA_MALE',\n",
       "        'HNA_FEMALE', 'HTOM_MALE', 'HTOM_FEMALE', 'HWAC_MALE', 'HWAC_FEMALE',\n",
       "        'HBAC_MALE', 'HBAC_FEMALE', 'HIAC_MALE', 'HIAC_FEMALE', 'HAAC_MALE',\n",
       "        'HAAC_FEMALE', 'HNAC_MALE', 'HNAC_FEMALE'],\n",
       "       dtype='object'))"
      ]
     },
     "execution_count": 41,
     "metadata": {},
     "output_type": "execute_result"
    }
   ],
   "source": [
    "US_demographic_data.shape, US_demographic_data.columns"
   ]
  },
  {
   "cell_type": "code",
   "execution_count": 42,
   "metadata": {
    "colab": {
     "base_uri": "https://localhost:8080/"
    },
    "executionInfo": {
     "elapsed": 202,
     "status": "ok",
     "timestamp": 1606779239872,
     "user": {
      "displayName": "dips k",
      "photoUrl": "https://lh3.googleusercontent.com/a-/AOh14Gj25bxiFHO216E4VtQUYr7lSSJHHS6DszKFW7r3mA=s64",
      "userId": "09540616116020329822"
     },
     "user_tz": 300
    },
    "id": "sa0aWk-zfWGc",
    "outputId": "ba39aefe-9534-4ddf-af0a-7b7991ba7779"
   },
   "outputs": [
    {
     "data": {
      "text/plain": [
       "array([22, 79], dtype=int64)"
      ]
     },
     "execution_count": 42,
     "metadata": {},
     "output_type": "execute_result"
    }
   ],
   "source": [
    "# Index for columns  'WAC_MALE'  'HNAC_FEMALE'\n",
    "US_demographic_data.columns.get_indexer(['WAC_MALE','HNAC_FEMALE'])\n"
   ]
  },
  {
   "cell_type": "code",
   "execution_count": 43,
   "metadata": {
    "colab": {
     "base_uri": "https://localhost:8080/"
    },
    "executionInfo": {
     "elapsed": 384,
     "status": "ok",
     "timestamp": 1606779320016,
     "user": {
      "displayName": "dips k",
      "photoUrl": "https://lh3.googleusercontent.com/a-/AOh14Gj25bxiFHO216E4VtQUYr7lSSJHHS6DszKFW7r3mA=s64",
      "userId": "09540616116020329822"
     },
     "user_tz": 300
    },
    "id": "IuvwWGBAgSA4",
    "outputId": "00fe2d82-5d3b-4fe0-88cc-2d8005c32773"
   },
   "outputs": [
    {
     "data": {
      "text/plain": [
       "(30324, 22)"
      ]
     },
     "execution_count": 43,
     "metadata": {},
     "output_type": "execute_result"
    }
   ],
   "source": [
    "# We are interested in analysis based on Origin  not on subcategory  of each cultural origin group\n",
    "# Dropping columns from 'WAC_MALE' to 'HNAC_FEMALE'\n",
    "columns_drop = US_demographic_data.columns[22:80].values.tolist()\n",
    "US_demographic_data.drop(columns_drop,1,inplace=True)\n",
    "US_demographic_data.shape"
   ]
  },
  {
   "cell_type": "code",
   "execution_count": 44,
   "metadata": {
    "colab": {
     "base_uri": "https://localhost:8080/"
    },
    "executionInfo": {
     "elapsed": 246,
     "status": "ok",
     "timestamp": 1606779385784,
     "user": {
      "displayName": "dips k",
      "photoUrl": "https://lh3.googleusercontent.com/a-/AOh14Gj25bxiFHO216E4VtQUYr7lSSJHHS6DszKFW7r3mA=s64",
      "userId": "09540616116020329822"
     },
     "user_tz": 300
    },
    "id": "o5Y-ZG86WQT9",
    "outputId": "4b4ff840-cb7d-488b-9a06-c41ae3b92e96"
   },
   "outputs": [
    {
     "data": {
      "text/plain": [
       "(10108, 22)"
      ]
     },
     "execution_count": 44,
     "metadata": {},
     "output_type": "execute_result"
    }
   ],
   "source": [
    "# Drop demographic records with YEAR column from 1 to 7 representing 2010 to 2015\n",
    "US_demographic_data = US_demographic_data[~(US_demographic_data[\"YEAR\"].isin(['1','2','3','4','5','6','7','8']))]\n",
    "US_demographic_data.shape"
   ]
  },
  {
   "cell_type": "code",
   "execution_count": 45,
   "metadata": {
    "colab": {
     "base_uri": "https://localhost:8080/"
    },
    "executionInfo": {
     "elapsed": 587,
     "status": "ok",
     "timestamp": 1606779390903,
     "user": {
      "displayName": "dips k",
      "photoUrl": "https://lh3.googleusercontent.com/a-/AOh14Gj25bxiFHO216E4VtQUYr7lSSJHHS6DszKFW7r3mA=s64",
      "userId": "09540616116020329822"
     },
     "user_tz": 300
    },
    "id": "GFxDs2m_Wx5W",
    "outputId": "efc2b569-ba56-490d-bbaa-69ccf8dde2fb"
   },
   "outputs": [
    {
     "name": "stderr",
     "output_type": "stream",
     "text": [
      "D:\\Softwares\\anaconda3\\lib\\site-packages\\pandas\\core\\generic.py:6746: SettingWithCopyWarning: \n",
      "A value is trying to be set on a copy of a slice from a DataFrame\n",
      "\n",
      "See the caveats in the documentation: https://pandas.pydata.org/pandas-docs/stable/user_guide/indexing.html#returning-a-view-versus-a-copy\n",
      "  self._update_inplace(new_data)\n"
     ]
    },
    {
     "data": {
      "text/plain": [
       "(10108, 22)"
      ]
     },
     "execution_count": 45,
     "metadata": {},
     "output_type": "execute_result"
    }
   ],
   "source": [
    "# Replace YEAR column with values  9 to 12 representing year to scale 2016 to 2020\n",
    "US_demographic_data.YEAR.replace(dict(zip(range(9, 13), range(2016, 2020))), inplace=True)\n",
    "US_demographic_data.shape"
   ]
  },
  {
   "cell_type": "code",
   "execution_count": 46,
   "metadata": {
    "executionInfo": {
     "elapsed": 207,
     "status": "ok",
     "timestamp": 1606779440579,
     "user": {
      "displayName": "dips k",
      "photoUrl": "https://lh3.googleusercontent.com/a-/AOh14Gj25bxiFHO216E4VtQUYr7lSSJHHS6DszKFW7r3mA=s64",
      "userId": "09540616116020329822"
     },
     "user_tz": 300
    },
    "id": "crPHuPRjWyIj"
   },
   "outputs": [],
   "source": [
    "# Summation of following features by age group\n",
    "Variable_Summation = ['TOT_POP', 'TOT_MALE', 'TOT_FEMALE', 'WA_MALE', 'WA_FEMALE', 'BA_MALE',\n",
    "'BA_FEMALE', 'IA_MALE', 'IA_FEMALE', 'AA_MALE', 'AA_FEMALE', 'NA_MALE',\n",
    "'NA_FEMALE', 'TOM_MALE', 'TOM_FEMALE']"
   ]
  },
  {
   "cell_type": "code",
   "execution_count": 47,
   "metadata": {
    "colab": {
     "base_uri": "https://localhost:8080/"
    },
    "executionInfo": {
     "elapsed": 245,
     "status": "ok",
     "timestamp": 1606779467696,
     "user": {
      "displayName": "dips k",
      "photoUrl": "https://lh3.googleusercontent.com/a-/AOh14Gj25bxiFHO216E4VtQUYr7lSSJHHS6DszKFW7r3mA=s64",
      "userId": "09540616116020329822"
     },
     "user_tz": 300
    },
    "id": "QQ_4XHUjWyFD",
    "outputId": "af7d7b82-6ad0-4d0e-9931-26b1eb97553e"
   },
   "outputs": [
    {
     "data": {
      "text/plain": [
       "(10108, 19)"
      ]
     },
     "execution_count": 47,
     "metadata": {},
     "output_type": "execute_result"
    }
   ],
   "source": [
    "# Grouping by State, County, Year and Agegroup\n",
    "US_demographic_data = US_demographic_data.groupby(['STNAME','CTYNAME','YEAR','AGEGRP'])[Variable_Summation].sum().reset_index()\n",
    "US_demographic_data.shape"
   ]
  },
  {
   "cell_type": "code",
   "execution_count": 48,
   "metadata": {
    "colab": {
     "base_uri": "https://localhost:8080/"
    },
    "executionInfo": {
     "elapsed": 205,
     "status": "ok",
     "timestamp": 1606779477756,
     "user": {
      "displayName": "dips k",
      "photoUrl": "https://lh3.googleusercontent.com/a-/AOh14Gj25bxiFHO216E4VtQUYr7lSSJHHS6DszKFW7r3mA=s64",
      "userId": "09540616116020329822"
     },
     "user_tz": 300
    },
    "id": "Bms7dsiWXNmL",
    "outputId": "fb111f17-4f19-455d-e71a-5f5f7ef8faa7"
   },
   "outputs": [
    {
     "data": {
      "text/plain": [
       "(532, 288)"
      ]
     },
     "execution_count": 48,
     "metadata": {},
     "output_type": "execute_result"
    }
   ],
   "source": [
    "US_demographic_data = pd.pivot_table(US_demographic_data,index=['STNAME','CTYNAME','YEAR'], columns=['AGEGRP'], aggfunc=np.sum).reset_index()\n",
    "US_demographic_data.shape"
   ]
  },
  {
   "cell_type": "code",
   "execution_count": 49,
   "metadata": {
    "colab": {
     "base_uri": "https://localhost:8080/"
    },
    "executionInfo": {
     "elapsed": 323,
     "status": "ok",
     "timestamp": 1606779597810,
     "user": {
      "displayName": "dips k",
      "photoUrl": "https://lh3.googleusercontent.com/a-/AOh14Gj25bxiFHO216E4VtQUYr7lSSJHHS6DszKFW7r3mA=s64",
      "userId": "09540616116020329822"
     },
     "user_tz": 300
    },
    "id": "BRsS0rDXZpzD",
    "outputId": "e4463583-61c8-4bf8-a2a2-5e1835e2c37b"
   },
   "outputs": [
    {
     "data": {
      "text/plain": [
       "(532, 288)"
      ]
     },
     "execution_count": 49,
     "metadata": {},
     "output_type": "execute_result"
    }
   ],
   "source": [
    "US_demographic_data.columns = [level_0 + '_' + str(level_1) for level_0, level_1 in zip(US_demographic_data.columns.get_level_values(0), US_demographic_data.columns.get_level_values(1))]\n",
    "US_demographic_data.shape"
   ]
  },
  {
   "cell_type": "code",
   "execution_count": 50,
   "metadata": {
    "colab": {
     "base_uri": "https://localhost:8080/",
     "height": 146
    },
    "executionInfo": {
     "elapsed": 351,
     "status": "ok",
     "timestamp": 1606779601373,
     "user": {
      "displayName": "dips k",
      "photoUrl": "https://lh3.googleusercontent.com/a-/AOh14Gj25bxiFHO216E4VtQUYr7lSSJHHS6DszKFW7r3mA=s64",
      "userId": "09540616116020329822"
     },
     "user_tz": 300
    },
    "id": "CI0CByVRai8Z",
    "outputId": "b662a5aa-a3d6-4700-e214-3ffd09eb3cce"
   },
   "outputs": [
    {
     "data": {
      "text/html": [
       "<div>\n",
       "<style scoped>\n",
       "    .dataframe tbody tr th:only-of-type {\n",
       "        vertical-align: middle;\n",
       "    }\n",
       "\n",
       "    .dataframe tbody tr th {\n",
       "        vertical-align: top;\n",
       "    }\n",
       "\n",
       "    .dataframe thead th {\n",
       "        text-align: right;\n",
       "    }\n",
       "</style>\n",
       "<table border=\"1\" class=\"dataframe\">\n",
       "  <thead>\n",
       "    <tr style=\"text-align: right;\">\n",
       "      <th></th>\n",
       "      <th>STNAME_</th>\n",
       "      <th>CTYNAME_</th>\n",
       "      <th>YEAR_</th>\n",
       "      <th>AA_FEMALE_0</th>\n",
       "      <th>AA_FEMALE_1</th>\n",
       "      <th>AA_FEMALE_2</th>\n",
       "      <th>AA_FEMALE_3</th>\n",
       "      <th>AA_FEMALE_4</th>\n",
       "      <th>AA_FEMALE_5</th>\n",
       "      <th>AA_FEMALE_6</th>\n",
       "      <th>...</th>\n",
       "      <th>WA_MALE_9</th>\n",
       "      <th>WA_MALE_10</th>\n",
       "      <th>WA_MALE_11</th>\n",
       "      <th>WA_MALE_12</th>\n",
       "      <th>WA_MALE_13</th>\n",
       "      <th>WA_MALE_14</th>\n",
       "      <th>WA_MALE_15</th>\n",
       "      <th>WA_MALE_16</th>\n",
       "      <th>WA_MALE_17</th>\n",
       "      <th>WA_MALE_18</th>\n",
       "    </tr>\n",
       "  </thead>\n",
       "  <tbody>\n",
       "    <tr>\n",
       "      <th>0</th>\n",
       "      <td>Virginia</td>\n",
       "      <td>Accomack County</td>\n",
       "      <td>2016</td>\n",
       "      <td>139</td>\n",
       "      <td>6</td>\n",
       "      <td>5</td>\n",
       "      <td>13</td>\n",
       "      <td>10</td>\n",
       "      <td>13</td>\n",
       "      <td>4</td>\n",
       "      <td>...</td>\n",
       "      <td>582</td>\n",
       "      <td>671</td>\n",
       "      <td>763</td>\n",
       "      <td>851</td>\n",
       "      <td>892</td>\n",
       "      <td>910</td>\n",
       "      <td>730</td>\n",
       "      <td>516</td>\n",
       "      <td>295</td>\n",
       "      <td>280</td>\n",
       "    </tr>\n",
       "  </tbody>\n",
       "</table>\n",
       "<p>1 rows × 288 columns</p>\n",
       "</div>"
      ],
      "text/plain": [
       "    STNAME_         CTYNAME_  YEAR_  AA_FEMALE_0  AA_FEMALE_1  AA_FEMALE_2  \\\n",
       "0  Virginia  Accomack County   2016          139            6            5   \n",
       "\n",
       "   AA_FEMALE_3  AA_FEMALE_4  AA_FEMALE_5  AA_FEMALE_6  ...  WA_MALE_9  \\\n",
       "0           13           10           13            4  ...        582   \n",
       "\n",
       "   WA_MALE_10  WA_MALE_11  WA_MALE_12  WA_MALE_13  WA_MALE_14  WA_MALE_15  \\\n",
       "0         671         763         851         892         910         730   \n",
       "\n",
       "   WA_MALE_16  WA_MALE_17  WA_MALE_18  \n",
       "0         516         295         280  \n",
       "\n",
       "[1 rows x 288 columns]"
      ]
     },
     "execution_count": 50,
     "metadata": {},
     "output_type": "execute_result"
    }
   ],
   "source": [
    "US_demographic_data.head(1)"
   ]
  },
  {
   "cell_type": "markdown",
   "metadata": {
    "id": "4XjbFp_zXN4u"
   },
   "source": [
    "### Bring both the dataframes ( US_demographic_data and US_Accidents_Feb16_to_June20_data_by_states) on same scale for easy merging"
   ]
  },
  {
   "cell_type": "markdown",
   "metadata": {
    "id": "AgnLWU-rie9V"
   },
   "source": [
    "#### US_Accidents 'Start_Time_Year' and US_demographic 'Year'"
   ]
  },
  {
   "cell_type": "code",
   "execution_count": 51,
   "metadata": {
    "colab": {
     "base_uri": "https://localhost:8080/"
    },
    "executionInfo": {
     "elapsed": 264,
     "status": "ok",
     "timestamp": 1606780572832,
     "user": {
      "displayName": "dips k",
      "photoUrl": "https://lh3.googleusercontent.com/a-/AOh14Gj25bxiFHO216E4VtQUYr7lSSJHHS6DszKFW7r3mA=s64",
      "userId": "09540616116020329822"
     },
     "user_tz": 300
    },
    "id": "tl19hs1rXZsB",
    "outputId": "04fc7455-d017-43fd-d3de-7d37a2a22bd5"
   },
   "outputs": [
    {
     "data": {
      "text/plain": [
       "(array([2016, 2017, 2020, 2019, 2018], dtype=int64),\n",
       " array([2016, 2017, 2018, 2019], dtype=int64))"
      ]
     },
     "execution_count": 51,
     "metadata": {},
     "output_type": "execute_result"
    }
   ],
   "source": [
    "\n",
    "US_Accidents_Feb16_to_June20_data_by_states['Start_Time_Year'].unique(), US_demographic_data.YEAR_.unique()"
   ]
  },
  {
   "cell_type": "markdown",
   "metadata": {
    "id": "D0yiSZUUljil"
   },
   "source": [
    "#### US_Accidents 'states' and US_demographic 'STNAME_'"
   ]
  },
  {
   "cell_type": "code",
   "execution_count": 52,
   "metadata": {
    "colab": {
     "base_uri": "https://localhost:8080/"
    },
    "executionInfo": {
     "elapsed": 228,
     "status": "ok",
     "timestamp": 1606779751062,
     "user": {
      "displayName": "dips k",
      "photoUrl": "https://lh3.googleusercontent.com/a-/AOh14Gj25bxiFHO216E4VtQUYr7lSSJHHS6DszKFW7r3mA=s64",
      "userId": "09540616116020329822"
     },
     "user_tz": 300
    },
    "id": "P7xcSyneXgxK",
    "outputId": "aa6ae85e-7f3d-4f40-a5a0-4fb0df69d3cd"
   },
   "outputs": [
    {
     "data": {
      "text/plain": [
       "(array(['Virginia'], dtype=object), array(['VA'], dtype=object))"
      ]
     },
     "execution_count": 52,
     "metadata": {},
     "output_type": "execute_result"
    }
   ],
   "source": [
    "US_demographic_data.STNAME_.unique(), US_Accidents_Feb16_to_June20_data_by_states.State.unique()"
   ]
  },
  {
   "cell_type": "code",
   "execution_count": 53,
   "metadata": {
    "executionInfo": {
     "elapsed": 255,
     "status": "ok",
     "timestamp": 1606779772477,
     "user": {
      "displayName": "dips k",
      "photoUrl": "https://lh3.googleusercontent.com/a-/AOh14Gj25bxiFHO216E4VtQUYr7lSSJHHS6DszKFW7r3mA=s64",
      "userId": "09540616116020329822"
     },
     "user_tz": 300
    },
    "id": "6dXnyBagXkmP"
   },
   "outputs": [],
   "source": [
    "state_mapping = {'Florida':'FL','California':'CA','Texas':'TX','Virginia':'VA','South Carolina':'SC','Pennsylvania':'PA','New York':'NY', 'North Carolina':'NC'}"
   ]
  },
  {
   "cell_type": "code",
   "execution_count": 54,
   "metadata": {
    "colab": {
     "base_uri": "https://localhost:8080/"
    },
    "executionInfo": {
     "elapsed": 213,
     "status": "ok",
     "timestamp": 1606779773321,
     "user": {
      "displayName": "dips k",
      "photoUrl": "https://lh3.googleusercontent.com/a-/AOh14Gj25bxiFHO216E4VtQUYr7lSSJHHS6DszKFW7r3mA=s64",
      "userId": "09540616116020329822"
     },
     "user_tz": 300
    },
    "id": "Ll5t61HRX-Sq",
    "outputId": "80e0470c-5e9f-44eb-ecae-d606f81bfb32"
   },
   "outputs": [
    {
     "data": {
      "text/plain": [
       "((532, 288), array(['VA'], dtype=object), array(['VA'], dtype=object))"
      ]
     },
     "execution_count": 54,
     "metadata": {},
     "output_type": "execute_result"
    }
   ],
   "source": [
    "US_demographic_data.STNAME_.replace(dict(state_mapping), inplace=True)\n",
    "US_demographic_data.shape, US_demographic_data.STNAME_.unique(), US_Accidents_Feb16_to_June20_data_by_states.State.unique()"
   ]
  },
  {
   "cell_type": "markdown",
   "metadata": {
    "id": "lj61endNl8Ph"
   },
   "source": [
    "#### US_Accidents 'County' and US_demographic 'CTYNAME'"
   ]
  },
  {
   "cell_type": "code",
   "execution_count": 55,
   "metadata": {
    "colab": {
     "base_uri": "https://localhost:8080/"
    },
    "executionInfo": {
     "elapsed": 358,
     "status": "ok",
     "timestamp": 1606780826214,
     "user": {
      "displayName": "dips k",
      "photoUrl": "https://lh3.googleusercontent.com/a-/AOh14Gj25bxiFHO216E4VtQUYr7lSSJHHS6DszKFW7r3mA=s64",
      "userId": "09540616116020329822"
     },
     "user_tz": 300
    },
    "id": "ZZ5bAD5Ml6cz",
    "outputId": "07b000f8-0fdb-46c0-b21c-fd3dc37ef166"
   },
   "outputs": [
    {
     "data": {
      "text/plain": [
       "(Rockbridge County      4\n",
       " Sussex County          4\n",
       " Southampton County     4\n",
       " Radford city           4\n",
       " Fredericksburg city    4\n",
       " Name: CTYNAME_, dtype: int64,\n",
       " Fairfax County    14494\n",
       " Richmond City     14025\n",
       " Henrico            9749\n",
       " Loudoun            5786\n",
       " Chesterfield       4639\n",
       " Name: County, dtype: int64)"
      ]
     },
     "execution_count": 55,
     "metadata": {},
     "output_type": "execute_result"
    }
   ],
   "source": [
    "US_demographic_data.CTYNAME_.value_counts().head(), US_Accidents_Feb16_to_June20_data_by_states.County.value_counts().head()"
   ]
  },
  {
   "cell_type": "code",
   "execution_count": 56,
   "metadata": {
    "id": "YGuydMm3l6mn"
   },
   "outputs": [],
   "source": [
    "# Remove extra whitespace in both the datasets"
   ]
  },
  {
   "cell_type": "code",
   "execution_count": 57,
   "metadata": {
    "executionInfo": {
     "elapsed": 297,
     "status": "ok",
     "timestamp": 1606780977320,
     "user": {
      "displayName": "dips k",
      "photoUrl": "https://lh3.googleusercontent.com/a-/AOh14Gj25bxiFHO216E4VtQUYr7lSSJHHS6DszKFW7r3mA=s64",
      "userId": "09540616116020329822"
     },
     "user_tz": 300
    },
    "id": "rlmugZzul6sL"
   },
   "outputs": [],
   "source": [
    "# Replace whitespace with \"\"\n",
    "US_demographic_data = US_demographic_data.assign(CTYNAME_= US_demographic_data['CTYNAME_'].str.replace(\" \",\"\"))"
   ]
  },
  {
   "cell_type": "code",
   "execution_count": 58,
   "metadata": {
    "executionInfo": {
     "elapsed": 823,
     "status": "ok",
     "timestamp": 1606780986835,
     "user": {
      "displayName": "dips k",
      "photoUrl": "https://lh3.googleusercontent.com/a-/AOh14Gj25bxiFHO216E4VtQUYr7lSSJHHS6DszKFW7r3mA=s64",
      "userId": "09540616116020329822"
     },
     "user_tz": 300
    },
    "id": "iSfzqC1zl62p"
   },
   "outputs": [],
   "source": [
    "# Replace whitespace with \"\"\n",
    "US_Accidents_Feb16_to_June20_data_by_states = US_Accidents_Feb16_to_June20_data_by_states.assign(County= US_Accidents_Feb16_to_June20_data_by_states['County'].str.replace(\" \",\"\"))"
   ]
  },
  {
   "cell_type": "code",
   "execution_count": 59,
   "metadata": {
    "executionInfo": {
     "elapsed": 258,
     "status": "ok",
     "timestamp": 1606781027280,
     "user": {
      "displayName": "dips k",
      "photoUrl": "https://lh3.googleusercontent.com/a-/AOh14Gj25bxiFHO216E4VtQUYr7lSSJHHS6DszKFW7r3mA=s64",
      "userId": "09540616116020329822"
     },
     "user_tz": 300
    },
    "id": "0Pd6iBxOnHD5"
   },
   "outputs": [],
   "source": [
    "# Replace County with \"\"\n",
    "US_demographic_data = US_demographic_data.assign(CTYNAME_= US_demographic_data['CTYNAME_'].str.replace(\"County\",\"\"))"
   ]
  },
  {
   "cell_type": "code",
   "execution_count": 60,
   "metadata": {
    "id": "zTgDCzNApE8M"
   },
   "outputs": [
    {
     "data": {
      "text/plain": [
       "(532, 288)"
      ]
     },
     "execution_count": 60,
     "metadata": {},
     "output_type": "execute_result"
    }
   ],
   "source": [
    "US_demographic_data.dropna()\n",
    "US_demographic_data.shape"
   ]
  },
  {
   "cell_type": "code",
   "execution_count": 62,
   "metadata": {
    "executionInfo": {
     "elapsed": 11719,
     "status": "ok",
     "timestamp": 1606781357718,
     "user": {
      "displayName": "dips k",
      "photoUrl": "https://lh3.googleusercontent.com/a-/AOh14Gj25bxiFHO216E4VtQUYr7lSSJHHS6DszKFW7r3mA=s64",
      "userId": "09540616116020329822"
     },
     "user_tz": 300
    },
    "id": "H8j8Q89Gz2PO"
   },
   "outputs": [],
   "source": [
    "# # Creating backup files \n",
    "# US_demographic_data.to_csv('US_demographic_data_VA_optimized.csv',index=False)\n",
    "# US_Accidents_Feb16_to_June20_data_by_states.to_csv('US_Accidents_Feb16_to_June20_data_by_states_VA_optimized.csv',index=False)\n"
   ]
  },
  {
   "cell_type": "markdown",
   "metadata": {
    "id": "MKvAs3RYoo60"
   },
   "source": [
    "# Optimized datasets after feature extraction and cleaning"
   ]
  },
  {
   "cell_type": "code",
   "execution_count": 7,
   "metadata": {
    "colab": {
     "base_uri": "https://localhost:8080/"
    },
    "executionInfo": {
     "elapsed": 5510,
     "status": "ok",
     "timestamp": 1606786612161,
     "user": {
      "displayName": "dips k",
      "photoUrl": "https://lh3.googleusercontent.com/a-/AOh14Gj25bxiFHO216E4VtQUYr7lSSJHHS6DszKFW7r3mA=s64",
      "userId": "09540616116020329822"
     },
     "user_tz": 300
    },
    "id": "XT6ystiwz2PO",
    "outputId": "ad1415a1-7607-452c-ede2-ee6554927dbd"
   },
   "outputs": [
    {
     "data": {
      "text/plain": [
       "(1111202, 18)"
      ]
     },
     "execution_count": 7,
     "metadata": {},
     "output_type": "execute_result"
    }
   ],
   "source": [
    "US_Accidents_Feb16_to_June20_data_by_states = pd.read_csv('US_Accidents_Feb16_to_June20_data_by_states.csv')\n",
    "US_Accidents_Feb16_to_June20_data_by_states.shape"
   ]
  },
  {
   "cell_type": "code",
   "execution_count": 8,
   "metadata": {
    "colab": {
     "base_uri": "https://localhost:8080/"
    },
    "executionInfo": {
     "elapsed": 4990,
     "status": "ok",
     "timestamp": 1606786612413,
     "user": {
      "displayName": "dips k",
      "photoUrl": "https://lh3.googleusercontent.com/a-/AOh14Gj25bxiFHO216E4VtQUYr7lSSJHHS6DszKFW7r3mA=s64",
      "userId": "09540616116020329822"
     },
     "user_tz": 300
    },
    "id": "RRyqOFs4z2PO",
    "outputId": "10f16968-1e55-410f-8c39-38ecf6af02f0"
   },
   "outputs": [
    {
     "data": {
      "text/plain": [
       "(1248, 288)"
      ]
     },
     "execution_count": 8,
     "metadata": {},
     "output_type": "execute_result"
    }
   ],
   "source": [
    "US_demographic_data =pd.read_csv('US_demographic_data.csv')\n",
    "US_demographic_data.shape"
   ]
  },
  {
   "cell_type": "code",
   "execution_count": 64,
   "metadata": {},
   "outputs": [],
   "source": [
    "# del(US_Accidents_Feb16_to_June20_data_by_states)\n",
    "# del(US_demographic_data)"
   ]
  },
  {
   "cell_type": "markdown",
   "metadata": {
    "id": "7LgVE19Qnpf8"
   },
   "source": [
    "### Merge the datasets US accidents and demographic data based on YEAR, STATE, COUNTY"
   ]
  },
  {
   "cell_type": "code",
   "execution_count": 63,
   "metadata": {
    "colab": {
     "base_uri": "https://localhost:8080/"
    },
    "executionInfo": {
     "elapsed": 1650,
     "status": "ok",
     "timestamp": 1606786770483,
     "user": {
      "displayName": "dips k",
      "photoUrl": "https://lh3.googleusercontent.com/a-/AOh14Gj25bxiFHO216E4VtQUYr7lSSJHHS6DszKFW7r3mA=s64",
      "userId": "09540616116020329822"
     },
     "user_tz": 300
    },
    "id": "e_2zjBlDqEsD",
    "outputId": "7369ec05-8577-4497-903b-04b2ab86b4eb"
   },
   "outputs": [
    {
     "name": "stdout",
     "output_type": "stream",
     "text": [
      "Wall time: 193 ms\n"
     ]
    },
    {
     "data": {
      "text/plain": [
       "(90349, 306)"
      ]
     },
     "execution_count": 63,
     "metadata": {},
     "output_type": "execute_result"
    }
   ],
   "source": [
    "%%time\n",
    "US_Accidents_plus_Demographic_merged = US_Accidents_Feb16_to_June20_data_by_states.merge(US_demographic_data, how='left', left_on=[\"State\",\"County\",\"Start_Time_Year\"], right_on=[\"STNAME_\",\"CTYNAME_\",\"YEAR_\"])\n",
    "US_Accidents_plus_Demographic_merged.shape"
   ]
  },
  {
   "cell_type": "code",
   "execution_count": 10,
   "metadata": {
    "executionInfo": {
     "elapsed": 212,
     "status": "ok",
     "timestamp": 1606785340514,
     "user": {
      "displayName": "dips k",
      "photoUrl": "https://lh3.googleusercontent.com/a-/AOh14Gj25bxiFHO216E4VtQUYr7lSSJHHS6DszKFW7r3mA=s64",
      "userId": "09540616116020329822"
     },
     "user_tz": 300
    },
    "id": "HqIMRC7j1Hmx"
   },
   "outputs": [],
   "source": [
    "# %%time\n",
    "# # Creating backup files \n",
    "# US_Accidents_plus_Demographic_merged.to_csv('/content/drive/My Drive/Colab Notebooks/data/US_Accidents_plus_Demographic_merged.csv',index=False)"
   ]
  },
  {
   "cell_type": "code",
   "execution_count": 11,
   "metadata": {
    "id": "v0Jpky711QrY"
   },
   "outputs": [],
   "source": [
    "# US_Accidents_plus_Demographic_merged =pd.read_csv('/content/drive/My Drive/Colab Notebooks/data/US_demographic_data.csv')\n",
    "# US_Accidents_plus_Demographic_merged.shape"
   ]
  },
  {
   "cell_type": "code",
   "execution_count": 65,
   "metadata": {
    "colab": {
     "base_uri": "https://localhost:8080/"
    },
    "executionInfo": {
     "elapsed": 237,
     "status": "ok",
     "timestamp": 1606785384004,
     "user": {
      "displayName": "dips k",
      "photoUrl": "https://lh3.googleusercontent.com/a-/AOh14Gj25bxiFHO216E4VtQUYr7lSSJHHS6DszKFW7r3mA=s64",
      "userId": "09540616116020329822"
     },
     "user_tz": 300
    },
    "id": "PNiVMblh3uSq",
    "outputId": "38b95656-c233-498b-c412-a776db7d4058"
   },
   "outputs": [
    {
     "data": {
      "text/plain": [
       "(90349, 306)"
      ]
     },
     "execution_count": 65,
     "metadata": {},
     "output_type": "execute_result"
    }
   ],
   "source": [
    "US_Accidents_plus_Demographic_merged.shape"
   ]
  },
  {
   "cell_type": "markdown",
   "metadata": {
    "id": "5A6Ms7egq_Y-"
   },
   "source": [
    "## Decision Tree"
   ]
  },
  {
   "cell_type": "markdown",
   "metadata": {
    "id": "zOTtZJtbrrHb"
   },
   "source": []
  },
  {
   "cell_type": "code",
   "execution_count": 66,
   "metadata": {
    "colab": {
     "base_uri": "https://localhost:8080/"
    },
    "executionInfo": {
     "elapsed": 3232,
     "status": "ok",
     "timestamp": 1606786788300,
     "user": {
      "displayName": "dips k",
      "photoUrl": "https://lh3.googleusercontent.com/a-/AOh14Gj25bxiFHO216E4VtQUYr7lSSJHHS6DszKFW7r3mA=s64",
      "userId": "09540616116020329822"
     },
     "user_tz": 300
    },
    "id": "hZzs4LhXsL_X",
    "outputId": "c0e22f86-24aa-44ce-bdf0-dc8e9104808a"
   },
   "outputs": [
    {
     "data": {
      "text/plain": [
       "(90349, 303)"
      ]
     },
     "execution_count": 66,
     "metadata": {},
     "output_type": "execute_result"
    }
   ],
   "source": [
    "# Droping duplicate features STNAME_, CTYNAME_, YEAR_\n",
    "US_Accidents_plus_Demographic_merged.drop(['STNAME_', 'CTYNAME_', 'YEAR_'], axis=1, inplace=True)\n",
    "US_Accidents_plus_Demographic_merged.shape"
   ]
  },
  {
   "cell_type": "markdown",
   "metadata": {
    "id": "vdIzWl2PrGLL"
   },
   "source": [
    "### Converting categorical values into numerical values using get_dummies "
   ]
  },
  {
   "cell_type": "code",
   "execution_count": 67,
   "metadata": {
    "colab": {
     "base_uri": "https://localhost:8080/"
    },
    "executionInfo": {
     "elapsed": 220,
     "status": "ok",
     "timestamp": 1606786793560,
     "user": {
      "displayName": "dips k",
      "photoUrl": "https://lh3.googleusercontent.com/a-/AOh14Gj25bxiFHO216E4VtQUYr7lSSJHHS6DszKFW7r3mA=s64",
      "userId": "09540616116020329822"
     },
     "user_tz": 300
    },
    "id": "PgK8eToVqE2B",
    "outputId": "45ef0926-92ea-49bf-e87c-46a20ccb6619"
   },
   "outputs": [
    {
     "data": {
      "text/plain": [
       "Index(['Severity', 'Side', 'County', 'State', 'Timezone', 'Weather_Condition',\n",
       "       'Junction', 'Traffic_Signal', 'Sunrise_Sunset', 'Civil_Twilight',\n",
       "       'Nautical_Twilight', 'Astronomical_Twilight', 'Start_Time_Year'],\n",
       "      dtype='object')"
      ]
     },
     "execution_count": 67,
     "metadata": {},
     "output_type": "execute_result"
    }
   ],
   "source": [
    "# Categorical data types\n",
    "US_Accidents_plus_Demographic_merged.select_dtypes(exclude=['int','float']).columns "
   ]
  },
  {
   "cell_type": "code",
   "execution_count": 72,
   "metadata": {},
   "outputs": [
    {
     "data": {
      "text/plain": [
       "array([3, 2, 1, 4], dtype=int64)"
      ]
     },
     "execution_count": 72,
     "metadata": {},
     "output_type": "execute_result"
    }
   ],
   "source": [
    "US_Accidents_plus_Demographic_merged['Junction'].unique()"
   ]
  },
  {
   "cell_type": "code",
   "execution_count": 69,
   "metadata": {
    "colab": {
     "base_uri": "https://localhost:8080/"
    },
    "executionInfo": {
     "elapsed": 264,
     "status": "ok",
     "timestamp": 1606786795174,
     "user": {
      "displayName": "dips k",
      "photoUrl": "https://lh3.googleusercontent.com/a-/AOh14Gj25bxiFHO216E4VtQUYr7lSSJHHS6DszKFW7r3mA=s64",
      "userId": "09540616116020329822"
     },
     "user_tz": 300
    },
    "id": "ntg9rbyBx2hT",
    "outputId": "da5b871c-30f0-46da-b295-331abde76fd4"
   },
   "outputs": [
    {
     "data": {
      "text/plain": [
       "903.49"
      ]
     },
     "execution_count": 69,
     "metadata": {},
     "output_type": "execute_result"
    }
   ],
   "source": [
    "margin = len(US_Accidents_plus_Demographic_merged)/ 100\n",
    "margin"
   ]
  },
  {
   "cell_type": "code",
   "execution_count": 70,
   "metadata": {
    "executionInfo": {
     "elapsed": 1037,
     "status": "ok",
     "timestamp": 1606786796684,
     "user": {
      "displayName": "dips k",
      "photoUrl": "https://lh3.googleusercontent.com/a-/AOh14Gj25bxiFHO216E4VtQUYr7lSSJHHS6DszKFW7r3mA=s64",
      "userId": "09540616116020329822"
     },
     "user_tz": 300
    },
    "id": "HsXExHN-xp0a"
   },
   "outputs": [],
   "source": [
    "# Get the count of each value\n",
    "value_counts = US_Accidents_plus_Demographic_merged.Weather_Condition.value_counts()\n",
    "\n",
    "# Select the values where the count is less than 1% of the data\n",
    "to_remove = value_counts[value_counts <= margin].index\n",
    "\n",
    "# Keep rows where the Weather_Condition column is not in to_remove\n",
    "US_Accidents_plus_Demographic_merged = US_Accidents_plus_Demographic_merged[~US_Accidents_plus_Demographic_merged.Weather_Condition.isin(to_remove)]"
   ]
  },
  {
   "cell_type": "code",
   "execution_count": 71,
   "metadata": {
    "colab": {
     "base_uri": "https://localhost:8080/"
    },
    "executionInfo": {
     "elapsed": 209,
     "status": "ok",
     "timestamp": 1606786798910,
     "user": {
      "displayName": "dips k",
      "photoUrl": "https://lh3.googleusercontent.com/a-/AOh14Gj25bxiFHO216E4VtQUYr7lSSJHHS6DszKFW7r3mA=s64",
      "userId": "09540616116020329822"
     },
     "user_tz": 300
    },
    "id": "hmfEkzYrtMdd",
    "outputId": "01b06305-5ee6-47ee-fff8-6cca520f9be5"
   },
   "outputs": [
    {
     "data": {
      "text/plain": [
       "(85602, 303)"
      ]
     },
     "execution_count": 71,
     "metadata": {},
     "output_type": "execute_result"
    }
   ],
   "source": [
    "# Try to minimize the weather_condition features later on\n",
    "Feature_list = ['State','Timezone','Weather_Condition']\n",
    "US_Accidents_plus_Demographic_merged.shape"
   ]
  },
  {
   "cell_type": "code",
   "execution_count": 73,
   "metadata": {
    "executionInfo": {
     "elapsed": 659,
     "status": "ok",
     "timestamp": 1606786804404,
     "user": {
      "displayName": "dips k",
      "photoUrl": "https://lh3.googleusercontent.com/a-/AOh14Gj25bxiFHO216E4VtQUYr7lSSJHHS6DszKFW7r3mA=s64",
      "userId": "09540616116020329822"
     },
     "user_tz": 300
    },
    "id": "fK6j7XUotYVl"
   },
   "outputs": [],
   "source": [
    "subset_dataframe_featurelist=[]\n",
    "for variable in Feature_list:\n",
    "    subset_dataframe_featurelist.append(pd.get_dummies(US_Accidents_plus_Demographic_merged[variable],prefix=variable, dummy_na=False))"
   ]
  },
  {
   "cell_type": "code",
   "execution_count": 74,
   "metadata": {
    "colab": {
     "base_uri": "https://localhost:8080/"
    },
    "executionInfo": {
     "elapsed": 186,
     "status": "ok",
     "timestamp": 1606786805470,
     "user": {
      "displayName": "dips k",
      "photoUrl": "https://lh3.googleusercontent.com/a-/AOh14Gj25bxiFHO216E4VtQUYr7lSSJHHS6DszKFW7r3mA=s64",
      "userId": "09540616116020329822"
     },
     "user_tz": 300
    },
    "id": "IOYQyX3kzBtX",
    "outputId": "2f2020b0-7d95-45a6-c3db-1696deb816bd"
   },
   "outputs": [
    {
     "data": {
      "text/plain": [
       "(85602, 11)"
      ]
     },
     "execution_count": 74,
     "metadata": {},
     "output_type": "execute_result"
    }
   ],
   "source": [
    "merged_subset_dataframe_featurelist = pd.concat(subset_dataframe_featurelist, axis=1)\n",
    "merged_subset_dataframe_featurelist.shape"
   ]
  },
  {
   "cell_type": "code",
   "execution_count": 75,
   "metadata": {
    "colab": {
     "base_uri": "https://localhost:8080/"
    },
    "executionInfo": {
     "elapsed": 1138,
     "status": "ok",
     "timestamp": 1606786816596,
     "user": {
      "displayName": "dips k",
      "photoUrl": "https://lh3.googleusercontent.com/a-/AOh14Gj25bxiFHO216E4VtQUYr7lSSJHHS6DszKFW7r3mA=s64",
      "userId": "09540616116020329822"
     },
     "user_tz": 300
    },
    "id": "n4EUzCW9zCVo",
    "outputId": "6ee7b6dd-bf66-4a6f-b468-680592e7fe9d"
   },
   "outputs": [
    {
     "name": "stdout",
     "output_type": "stream",
     "text": [
      "Wall time: 83 ms\n"
     ]
    },
    {
     "data": {
      "text/plain": [
       "(85602, 314)"
      ]
     },
     "execution_count": 75,
     "metadata": {},
     "output_type": "execute_result"
    }
   ],
   "source": [
    "%%time\n",
    "US_Accidents_plus_Demographic_merged = pd.concat([merged_subset_dataframe_featurelist,US_Accidents_plus_Demographic_merged], axis=1)\n",
    "US_Accidents_plus_Demographic_merged.shape"
   ]
  },
  {
   "cell_type": "code",
   "execution_count": 76,
   "metadata": {},
   "outputs": [
    {
     "data": {
      "text/plain": [
       "(85602, 310)"
      ]
     },
     "execution_count": 76,
     "metadata": {},
     "output_type": "execute_result"
    }
   ],
   "source": [
    "# 'Side', 'State', 'Timezone','Weather_Condition', \n",
    "US_Accidents_plus_Demographic_merged.drop(['Side', 'State', 'Timezone','Weather_Condition'],axis=1, inplace=True)\n",
    "US_Accidents_plus_Demographic_merged.shape"
   ]
  },
  {
   "cell_type": "code",
   "execution_count": 77,
   "metadata": {
    "colab": {
     "base_uri": "https://localhost:8080/"
    },
    "executionInfo": {
     "elapsed": 4698,
     "status": "ok",
     "timestamp": 1606786826926,
     "user": {
      "displayName": "dips k",
      "photoUrl": "https://lh3.googleusercontent.com/a-/AOh14Gj25bxiFHO216E4VtQUYr7lSSJHHS6DszKFW7r3mA=s64",
      "userId": "09540616116020329822"
     },
     "user_tz": 300
    },
    "id": "d1-I7_mBznGJ",
    "outputId": "3e1f5c6b-3991-43e6-dd21-e81cd77741fe"
   },
   "outputs": [
    {
     "data": {
      "text/plain": [
       "(36971, 310)"
      ]
     },
     "execution_count": 77,
     "metadata": {},
     "output_type": "execute_result"
    }
   ],
   "source": [
    "US_Accidents_plus_Demographic_merged.dropna(inplace = True)\n",
    "US_Accidents_plus_Demographic_merged.shape"
   ]
  },
  {
   "cell_type": "markdown",
   "metadata": {
    "id": "tNA4z3ve48Zj"
   },
   "source": [
    "##### Severity as outcome binary values 0 or 1"
   ]
  },
  {
   "cell_type": "code",
   "execution_count": 78,
   "metadata": {
    "colab": {
     "base_uri": "https://localhost:8080/"
    },
    "executionInfo": {
     "elapsed": 189,
     "status": "ok",
     "timestamp": 1606786832282,
     "user": {
      "displayName": "dips k",
      "photoUrl": "https://lh3.googleusercontent.com/a-/AOh14Gj25bxiFHO216E4VtQUYr7lSSJHHS6DszKFW7r3mA=s64",
      "userId": "09540616116020329822"
     },
     "user_tz": 300
    },
    "id": "i8Dt2V4sqFDU",
    "outputId": "f1e6e11f-03e3-4309-e40f-2c79e4bc4e77"
   },
   "outputs": [
    {
     "data": {
      "text/plain": [
       "array([3, 2, 1, 4], dtype=int64)"
      ]
     },
     "execution_count": 78,
     "metadata": {},
     "output_type": "execute_result"
    }
   ],
   "source": [
    "US_Accidents_plus_Demographic_merged.Severity.unique()"
   ]
  },
  {
   "cell_type": "code",
   "execution_count": 79,
   "metadata": {
    "colab": {
     "base_uri": "https://localhost:8080/"
    },
    "executionInfo": {
     "elapsed": 157,
     "status": "ok",
     "timestamp": 1606786833035,
     "user": {
      "displayName": "dips k",
      "photoUrl": "https://lh3.googleusercontent.com/a-/AOh14Gj25bxiFHO216E4VtQUYr7lSSJHHS6DszKFW7r3mA=s64",
      "userId": "09540616116020329822"
     },
     "user_tz": 300
    },
    "id": "o9yPI_30qFHS",
    "outputId": "5a5f7bb7-ecbd-4e6b-bba5-09e935cb59d9"
   },
   "outputs": [
    {
     "data": {
      "text/plain": [
       "(36971, 310)"
      ]
     },
     "execution_count": 79,
     "metadata": {},
     "output_type": "execute_result"
    }
   ],
   "source": [
    "# Binary output\n",
    "Severity_mapping = {1:0,2:0,3:1,4:1}\n",
    "US_Accidents_plus_Demographic_merged.Severity.replace(dict(Severity_mapping), inplace=True)\n",
    "US_Accidents_plus_Demographic_merged.shape"
   ]
  },
  {
   "cell_type": "code",
   "execution_count": 80,
   "metadata": {},
   "outputs": [
    {
     "data": {
      "text/plain": [
       "array([1, 0], dtype=int64)"
      ]
     },
     "execution_count": 80,
     "metadata": {},
     "output_type": "execute_result"
    }
   ],
   "source": [
    "US_Accidents_plus_Demographic_merged.Severity.unique()"
   ]
  },
  {
   "cell_type": "code",
   "execution_count": 25,
   "metadata": {
    "executionInfo": {
     "elapsed": 154,
     "status": "ok",
     "timestamp": 1606786836278,
     "user": {
      "displayName": "dips k",
      "photoUrl": "https://lh3.googleusercontent.com/a-/AOh14Gj25bxiFHO216E4VtQUYr7lSSJHHS6DszKFW7r3mA=s64",
      "userId": "09540616116020329822"
     },
     "user_tz": 300
    },
    "id": "8j-iABPSz2PQ"
   },
   "outputs": [],
   "source": [
    "# Split the training data into training and cross validation sets. "
   ]
  },
  {
   "cell_type": "code",
   "execution_count": 112,
   "metadata": {},
   "outputs": [],
   "source": [
    "# US_Accidents_plus_Demographic_merged.to_csv('US_Accidents_plus_Demographic_merged_without_na.csv',index=False)"
   ]
  },
  {
   "cell_type": "code",
   "execution_count": 81,
   "metadata": {
    "colab": {
     "base_uri": "https://localhost:8080/"
    },
    "executionInfo": {
     "elapsed": 190,
     "status": "ok",
     "timestamp": 1606786838110,
     "user": {
      "displayName": "dips k",
      "photoUrl": "https://lh3.googleusercontent.com/a-/AOh14Gj25bxiFHO216E4VtQUYr7lSSJHHS6DszKFW7r3mA=s64",
      "userId": "09540616116020329822"
     },
     "user_tz": 300
    },
    "id": "DPm1CJMMz2PQ",
    "outputId": "c8024490-b89a-4641-9b16-992734ced62d"
   },
   "outputs": [
    {
     "data": {
      "text/plain": [
       "(36971,)"
      ]
     },
     "execution_count": 81,
     "metadata": {},
     "output_type": "execute_result"
    }
   ],
   "source": [
    "y = pd.Series(US_Accidents_plus_Demographic_merged['Severity'])\n",
    "y.shape"
   ]
  },
  {
   "cell_type": "code",
   "execution_count": 82,
   "metadata": {
    "colab": {
     "base_uri": "https://localhost:8080/"
    },
    "executionInfo": {
     "elapsed": 1021,
     "status": "ok",
     "timestamp": 1606786840655,
     "user": {
      "displayName": "dips k",
      "photoUrl": "https://lh3.googleusercontent.com/a-/AOh14Gj25bxiFHO216E4VtQUYr7lSSJHHS6DszKFW7r3mA=s64",
      "userId": "09540616116020329822"
     },
     "user_tz": 300
    },
    "id": "2sSKkFaaz2PQ",
    "outputId": "40764379-d5d8-4eea-d36c-82949cf19d9a"
   },
   "outputs": [
    {
     "data": {
      "text/plain": [
       "(36971, 309)"
      ]
     },
     "execution_count": 82,
     "metadata": {},
     "output_type": "execute_result"
    }
   ],
   "source": [
    "US_Accidents_plus_Demographic_merged.drop(['Severity'],axis=1, inplace=True)\n",
    "US_Accidents_plus_Demographic_merged.shape"
   ]
  },
  {
   "cell_type": "code",
   "execution_count": 83,
   "metadata": {
    "colab": {
     "base_uri": "https://localhost:8080/"
    },
    "executionInfo": {
     "elapsed": 214,
     "status": "ok",
     "timestamp": 1606786867503,
     "user": {
      "displayName": "dips k",
      "photoUrl": "https://lh3.googleusercontent.com/a-/AOh14Gj25bxiFHO216E4VtQUYr7lSSJHHS6DszKFW7r3mA=s64",
      "userId": "09540616116020329822"
     },
     "user_tz": 300
    },
    "id": "FP33m2fg81yv",
    "outputId": "89cc6d7b-31e6-42f0-a0aa-6d03bd30512a"
   },
   "outputs": [
    {
     "data": {
      "text/plain": [
       "(36971,)"
      ]
     },
     "execution_count": 83,
     "metadata": {},
     "output_type": "execute_result"
    }
   ],
   "source": [
    "y_County = pd.Series(US_Accidents_plus_Demographic_merged.County)\n",
    "y_County.shape"
   ]
  },
  {
   "cell_type": "code",
   "execution_count": 84,
   "metadata": {
    "colab": {
     "base_uri": "https://localhost:8080/"
    },
    "executionInfo": {
     "elapsed": 827,
     "status": "ok",
     "timestamp": 1606786888805,
     "user": {
      "displayName": "dips k",
      "photoUrl": "https://lh3.googleusercontent.com/a-/AOh14Gj25bxiFHO216E4VtQUYr7lSSJHHS6DszKFW7r3mA=s64",
      "userId": "09540616116020329822"
     },
     "user_tz": 300
    },
    "id": "BIOuIAuF9e7z",
    "outputId": "9d34d13a-a98d-41cd-8977-9c293e4c3ec8"
   },
   "outputs": [
    {
     "data": {
      "text/plain": [
       "(36971, 308)"
      ]
     },
     "execution_count": 84,
     "metadata": {},
     "output_type": "execute_result"
    }
   ],
   "source": [
    "US_Accidents_plus_Demographic_merged.drop(['County'],axis=1, inplace=True)\n",
    "US_Accidents_plus_Demographic_merged.shape"
   ]
  },
  {
   "cell_type": "code",
   "execution_count": 85,
   "metadata": {
    "colab": {
     "base_uri": "https://localhost:8080/"
    },
    "executionInfo": {
     "elapsed": 340,
     "status": "ok",
     "timestamp": 1606786893817,
     "user": {
      "displayName": "dips k",
      "photoUrl": "https://lh3.googleusercontent.com/a-/AOh14Gj25bxiFHO216E4VtQUYr7lSSJHHS6DszKFW7r3mA=s64",
      "userId": "09540616116020329822"
     },
     "user_tz": 300
    },
    "id": "O2Ce-Q1vz2PR",
    "outputId": "41019239-a8f2-41b4-aaf2-dfb69a3c2c6b"
   },
   "outputs": [
    {
     "name": "stdout",
     "output_type": "stream",
     "text": [
      "(36971, 308) (36971,)\n"
     ]
    }
   ],
   "source": [
    "X= pd.DataFrame(US_Accidents_plus_Demographic_merged)\n",
    "print(X.shape,y.shape)"
   ]
  },
  {
   "cell_type": "code",
   "execution_count": 86,
   "metadata": {},
   "outputs": [],
   "source": [
    "# Creating back_up X_train, y_train \n",
    "# Creating backup files \n",
    "X.to_csv('X_train_VA.csv',index=False)\n",
    "y.to_csv('y_train_VA.csv',index=False)\n",
    "y_County.to_csv('y_County_VA.csv',index=False)\n"
   ]
  },
  {
   "cell_type": "code",
   "execution_count": null,
   "metadata": {},
   "outputs": [],
   "source": []
  },
  {
   "cell_type": "code",
   "execution_count": 87,
   "metadata": {
    "colab": {
     "base_uri": "https://localhost:8080/"
    },
    "executionInfo": {
     "elapsed": 3196,
     "status": "ok",
     "timestamp": 1606786898859,
     "user": {
      "displayName": "dips k",
      "photoUrl": "https://lh3.googleusercontent.com/a-/AOh14Gj25bxiFHO216E4VtQUYr7lSSJHHS6DszKFW7r3mA=s64",
      "userId": "09540616116020329822"
     },
     "user_tz": 300
    },
    "id": "Ohtw9Zfxz2PR",
    "outputId": "ad0b7925-605f-4e94-e8a4-df71d7fd1fb3"
   },
   "outputs": [
    {
     "name": "stdout",
     "output_type": "stream",
     "text": [
      "(25879, 308) (11092, 308)\n"
     ]
    }
   ],
   "source": [
    "# Using train_test_split() to randomly split the given training dataset into training and cross validation \n",
    "# data by 70:30 percent ratio respectively. \n",
    "X_train, X_cross_validation, y_train, y_cross_validation = train_test_split(X,y, test_size=0.3, random_state=42)\n",
    "print(X_train.shape,X_cross_validation.shape)"
   ]
  },
  {
   "cell_type": "code",
   "execution_count": 88,
   "metadata": {},
   "outputs": [
    {
     "data": {
      "text/plain": [
       "0    6525\n",
       "1    4567\n",
       "Name: Severity, dtype: int64"
      ]
     },
     "execution_count": 88,
     "metadata": {},
     "output_type": "execute_result"
    }
   ],
   "source": [
    "y_cross_validation.value_counts()"
   ]
  },
  {
   "cell_type": "markdown",
   "metadata": {
    "id": "Dt1mg-wfz2PR"
   },
   "source": [
    "###  Creating model using random forest"
   ]
  },
  {
   "cell_type": "code",
   "execution_count": 89,
   "metadata": {
    "executionInfo": {
     "elapsed": 278,
     "status": "ok",
     "timestamp": 1606786903367,
     "user": {
      "displayName": "dips k",
      "photoUrl": "https://lh3.googleusercontent.com/a-/AOh14Gj25bxiFHO216E4VtQUYr7lSSJHHS6DszKFW7r3mA=s64",
      "userId": "09540616116020329822"
     },
     "user_tz": 300
    },
    "id": "jmjdtW69z2PR"
   },
   "outputs": [],
   "source": [
    "pipe = Pipeline([\n",
    "    ('rf', RandomForestClassifier())\n",
    "])"
   ]
  },
  {
   "cell_type": "code",
   "execution_count": 90,
   "metadata": {
    "executionInfo": {
     "elapsed": 215,
     "status": "ok",
     "timestamp": 1606786904465,
     "user": {
      "displayName": "dips k",
      "photoUrl": "https://lh3.googleusercontent.com/a-/AOh14Gj25bxiFHO216E4VtQUYr7lSSJHHS6DszKFW7r3mA=s64",
      "userId": "09540616116020329822"
     },
     "user_tz": 300
    },
    "id": "i_gpp1Bhz2PR"
   },
   "outputs": [],
   "source": [
    "clfRandom = RandomForestClassifier(bootstrap=True, class_weight=None, criterion='gini',\n",
    "            max_depth=None, max_features='auto', max_leaf_nodes=None,\n",
    "            min_impurity_decrease=0.0, min_impurity_split=None,\n",
    "            min_samples_leaf=1, min_samples_split=2,\n",
    "            min_weight_fraction_leaf=0.0, n_estimators=300, n_jobs=1,\n",
    "            oob_score=False, random_state=None, verbose=0,\n",
    "            warm_start=False)"
   ]
  },
  {
   "cell_type": "code",
   "execution_count": 91,
   "metadata": {
    "executionInfo": {
     "elapsed": 168,
     "status": "ok",
     "timestamp": 1606786905619,
     "user": {
      "displayName": "dips k",
      "photoUrl": "https://lh3.googleusercontent.com/a-/AOh14Gj25bxiFHO216E4VtQUYr7lSSJHHS6DszKFW7r3mA=s64",
      "userId": "09540616116020329822"
     },
     "user_tz": 300
    },
    "id": "RFUsTtFOz2PR"
   },
   "outputs": [],
   "source": [
    "parameters = {\n",
    "    'rf__n_estimators': [100,200,300],\n",
    "    'rf__max_depth': [50,100,500],\n",
    "    'rf__min_samples_split': [2,4],\n",
    "}"
   ]
  },
  {
   "cell_type": "code",
   "execution_count": 102,
   "metadata": {},
   "outputs": [],
   "source": [
    "parameters_2 = {\n",
    "    'rf__n_estimators': [100,150,200],\n",
    "    'rf__max_depth': [20,30,40,50],\n",
    "    'rf__min_samples_split': [2,4,6],\n",
    "}"
   ]
  },
  {
   "cell_type": "code",
   "execution_count": 103,
   "metadata": {},
   "outputs": [],
   "source": [
    "clf_GS_Model_2 = GridSearchCV(pipe, parameters_2, scoring=make_scorer(f1_score))"
   ]
  },
  {
   "cell_type": "code",
   "execution_count": 92,
   "metadata": {
    "executionInfo": {
     "elapsed": 224,
     "status": "ok",
     "timestamp": 1606786960620,
     "user": {
      "displayName": "dips k",
      "photoUrl": "https://lh3.googleusercontent.com/a-/AOh14Gj25bxiFHO216E4VtQUYr7lSSJHHS6DszKFW7r3mA=s64",
      "userId": "09540616116020329822"
     },
     "user_tz": 300
    },
    "id": "Go-GoFjCz2PR"
   },
   "outputs": [],
   "source": [
    "clf_GS_Model_1 = GridSearchCV(pipe, parameters, scoring=make_scorer(f1_score))"
   ]
  },
  {
   "cell_type": "code",
   "execution_count": 93,
   "metadata": {
    "id": "1f2ZcLYrz2PR"
   },
   "outputs": [
    {
     "name": "stdout",
     "output_type": "stream",
     "text": [
      "Wall time: 24min 20s\n"
     ]
    },
    {
     "data": {
      "text/plain": [
       "GridSearchCV(cv=None, error_score=nan,\n",
       "             estimator=Pipeline(memory=None,\n",
       "                                steps=[('rf',\n",
       "                                        RandomForestClassifier(bootstrap=True,\n",
       "                                                               ccp_alpha=0.0,\n",
       "                                                               class_weight=None,\n",
       "                                                               criterion='gini',\n",
       "                                                               max_depth=None,\n",
       "                                                               max_features='auto',\n",
       "                                                               max_leaf_nodes=None,\n",
       "                                                               max_samples=None,\n",
       "                                                               min_impurity_decrease=0.0,\n",
       "                                                               min_impurity_split=None,\n",
       "                                                               min_samples_leaf=1,\n",
       "                                                               min_samples_split=2,\n",
       "                                                               min_weight_fraction_leaf=0.0,\n",
       "                                                               n_estimators=100,\n",
       "                                                               n_jobs=None,\n",
       "                                                               oob_score=False,\n",
       "                                                               random_state=None,\n",
       "                                                               verbose=0,\n",
       "                                                               warm_start=False))],\n",
       "                                verbose=False),\n",
       "             iid='deprecated', n_jobs=None,\n",
       "             param_grid={'rf__max_depth': [50, 100, 500],\n",
       "                         'rf__min_samples_split': [2, 4],\n",
       "                         'rf__n_estimators': [100, 200, 300]},\n",
       "             pre_dispatch='2*n_jobs', refit=True, return_train_score=False,\n",
       "             scoring=make_scorer(f1_score), verbose=0)"
      ]
     },
     "execution_count": 93,
     "metadata": {},
     "output_type": "execute_result"
    }
   ],
   "source": [
    "# %time clf_GS_Model_1.fit(X_train, y_train)\n",
    "%time clf_GS_Model_1.fit(X_train, y_train)"
   ]
  },
  {
   "cell_type": "code",
   "execution_count": 104,
   "metadata": {},
   "outputs": [
    {
     "name": "stdout",
     "output_type": "stream",
     "text": [
      "Wall time: 34min 25s\n"
     ]
    },
    {
     "data": {
      "text/plain": [
       "GridSearchCV(cv=None, error_score=nan,\n",
       "             estimator=Pipeline(memory=None,\n",
       "                                steps=[('rf',\n",
       "                                        RandomForestClassifier(bootstrap=True,\n",
       "                                                               ccp_alpha=0.0,\n",
       "                                                               class_weight=None,\n",
       "                                                               criterion='gini',\n",
       "                                                               max_depth=None,\n",
       "                                                               max_features='auto',\n",
       "                                                               max_leaf_nodes=None,\n",
       "                                                               max_samples=None,\n",
       "                                                               min_impurity_decrease=0.0,\n",
       "                                                               min_impurity_split=None,\n",
       "                                                               min_samples_leaf=1,\n",
       "                                                               min_samples_split=2,\n",
       "                                                               min_weight_fraction_leaf=0.0,\n",
       "                                                               n_estimators=100,\n",
       "                                                               n_jobs=None,\n",
       "                                                               oob_score=False,\n",
       "                                                               random_state=None,\n",
       "                                                               verbose=0,\n",
       "                                                               warm_start=False))],\n",
       "                                verbose=False),\n",
       "             iid='deprecated', n_jobs=None,\n",
       "             param_grid={'rf__max_depth': [20, 30, 40, 50],\n",
       "                         'rf__min_samples_split': [2, 4, 6],\n",
       "                         'rf__n_estimators': [100, 150, 200]},\n",
       "             pre_dispatch='2*n_jobs', refit=True, return_train_score=False,\n",
       "             scoring=make_scorer(f1_score), verbose=0)"
      ]
     },
     "execution_count": 104,
     "metadata": {},
     "output_type": "execute_result"
    }
   ],
   "source": [
    "%time clf_GS_Model_2.fit(X_train, y_train)"
   ]
  },
  {
   "cell_type": "code",
   "execution_count": 94,
   "metadata": {
    "id": "CEJ4Wvtnz2PR",
    "outputId": "c870089a-8c9a-4dd0-e3f6-134977ef18a7"
   },
   "outputs": [
    {
     "data": {
      "text/html": [
       "<div>\n",
       "<style scoped>\n",
       "    .dataframe tbody tr th:only-of-type {\n",
       "        vertical-align: middle;\n",
       "    }\n",
       "\n",
       "    .dataframe tbody tr th {\n",
       "        vertical-align: top;\n",
       "    }\n",
       "\n",
       "    .dataframe thead th {\n",
       "        text-align: right;\n",
       "    }\n",
       "</style>\n",
       "<table border=\"1\" class=\"dataframe\">\n",
       "  <thead>\n",
       "    <tr style=\"text-align: right;\">\n",
       "      <th></th>\n",
       "      <th>mean_fit_time</th>\n",
       "      <th>std_fit_time</th>\n",
       "      <th>mean_score_time</th>\n",
       "      <th>std_score_time</th>\n",
       "      <th>param_rf__max_depth</th>\n",
       "      <th>param_rf__min_samples_split</th>\n",
       "      <th>param_rf__n_estimators</th>\n",
       "      <th>params</th>\n",
       "      <th>split0_test_score</th>\n",
       "      <th>split1_test_score</th>\n",
       "      <th>split2_test_score</th>\n",
       "      <th>split3_test_score</th>\n",
       "      <th>split4_test_score</th>\n",
       "      <th>mean_test_score</th>\n",
       "      <th>std_test_score</th>\n",
       "      <th>rank_test_score</th>\n",
       "    </tr>\n",
       "  </thead>\n",
       "  <tbody>\n",
       "    <tr>\n",
       "      <th>4</th>\n",
       "      <td>14.834043</td>\n",
       "      <td>0.139576</td>\n",
       "      <td>0.331820</td>\n",
       "      <td>0.002100</td>\n",
       "      <td>50</td>\n",
       "      <td>4</td>\n",
       "      <td>200</td>\n",
       "      <td>{'rf__max_depth': 50, 'rf__min_samples_split':...</td>\n",
       "      <td>0.710208</td>\n",
       "      <td>0.702973</td>\n",
       "      <td>0.711693</td>\n",
       "      <td>0.715196</td>\n",
       "      <td>0.713496</td>\n",
       "      <td>0.710713</td>\n",
       "      <td>0.004218</td>\n",
       "      <td>1</td>\n",
       "    </tr>\n",
       "    <tr>\n",
       "      <th>5</th>\n",
       "      <td>22.323524</td>\n",
       "      <td>0.211414</td>\n",
       "      <td>0.499326</td>\n",
       "      <td>0.012138</td>\n",
       "      <td>50</td>\n",
       "      <td>4</td>\n",
       "      <td>300</td>\n",
       "      <td>{'rf__max_depth': 50, 'rf__min_samples_split':...</td>\n",
       "      <td>0.708467</td>\n",
       "      <td>0.706600</td>\n",
       "      <td>0.707826</td>\n",
       "      <td>0.714090</td>\n",
       "      <td>0.714976</td>\n",
       "      <td>0.710392</td>\n",
       "      <td>0.003445</td>\n",
       "      <td>2</td>\n",
       "    </tr>\n",
       "    <tr>\n",
       "      <th>17</th>\n",
       "      <td>22.267755</td>\n",
       "      <td>0.119601</td>\n",
       "      <td>0.499916</td>\n",
       "      <td>0.008282</td>\n",
       "      <td>500</td>\n",
       "      <td>4</td>\n",
       "      <td>300</td>\n",
       "      <td>{'rf__max_depth': 500, 'rf__min_samples_split'...</td>\n",
       "      <td>0.708094</td>\n",
       "      <td>0.705776</td>\n",
       "      <td>0.708954</td>\n",
       "      <td>0.710695</td>\n",
       "      <td>0.714909</td>\n",
       "      <td>0.709686</td>\n",
       "      <td>0.003055</td>\n",
       "      <td>3</td>\n",
       "    </tr>\n",
       "    <tr>\n",
       "      <th>15</th>\n",
       "      <td>7.373949</td>\n",
       "      <td>0.025912</td>\n",
       "      <td>0.170310</td>\n",
       "      <td>0.001025</td>\n",
       "      <td>500</td>\n",
       "      <td>4</td>\n",
       "      <td>100</td>\n",
       "      <td>{'rf__max_depth': 500, 'rf__min_samples_split'...</td>\n",
       "      <td>0.704744</td>\n",
       "      <td>0.711543</td>\n",
       "      <td>0.706045</td>\n",
       "      <td>0.711305</td>\n",
       "      <td>0.713364</td>\n",
       "      <td>0.709400</td>\n",
       "      <td>0.003372</td>\n",
       "      <td>4</td>\n",
       "    </tr>\n",
       "    <tr>\n",
       "      <th>11</th>\n",
       "      <td>22.207189</td>\n",
       "      <td>0.177436</td>\n",
       "      <td>0.495126</td>\n",
       "      <td>0.004916</td>\n",
       "      <td>100</td>\n",
       "      <td>4</td>\n",
       "      <td>300</td>\n",
       "      <td>{'rf__max_depth': 100, 'rf__min_samples_split'...</td>\n",
       "      <td>0.706151</td>\n",
       "      <td>0.706652</td>\n",
       "      <td>0.706449</td>\n",
       "      <td>0.713012</td>\n",
       "      <td>0.711880</td>\n",
       "      <td>0.708829</td>\n",
       "      <td>0.002979</td>\n",
       "      <td>5</td>\n",
       "    </tr>\n",
       "  </tbody>\n",
       "</table>\n",
       "</div>"
      ],
      "text/plain": [
       "    mean_fit_time  std_fit_time  mean_score_time  std_score_time  \\\n",
       "4       14.834043      0.139576         0.331820        0.002100   \n",
       "5       22.323524      0.211414         0.499326        0.012138   \n",
       "17      22.267755      0.119601         0.499916        0.008282   \n",
       "15       7.373949      0.025912         0.170310        0.001025   \n",
       "11      22.207189      0.177436         0.495126        0.004916   \n",
       "\n",
       "   param_rf__max_depth param_rf__min_samples_split param_rf__n_estimators  \\\n",
       "4                   50                           4                    200   \n",
       "5                   50                           4                    300   \n",
       "17                 500                           4                    300   \n",
       "15                 500                           4                    100   \n",
       "11                 100                           4                    300   \n",
       "\n",
       "                                               params  split0_test_score  \\\n",
       "4   {'rf__max_depth': 50, 'rf__min_samples_split':...           0.710208   \n",
       "5   {'rf__max_depth': 50, 'rf__min_samples_split':...           0.708467   \n",
       "17  {'rf__max_depth': 500, 'rf__min_samples_split'...           0.708094   \n",
       "15  {'rf__max_depth': 500, 'rf__min_samples_split'...           0.704744   \n",
       "11  {'rf__max_depth': 100, 'rf__min_samples_split'...           0.706151   \n",
       "\n",
       "    split1_test_score  split2_test_score  split3_test_score  \\\n",
       "4            0.702973           0.711693           0.715196   \n",
       "5            0.706600           0.707826           0.714090   \n",
       "17           0.705776           0.708954           0.710695   \n",
       "15           0.711543           0.706045           0.711305   \n",
       "11           0.706652           0.706449           0.713012   \n",
       "\n",
       "    split4_test_score  mean_test_score  std_test_score  rank_test_score  \n",
       "4            0.713496         0.710713        0.004218                1  \n",
       "5            0.714976         0.710392        0.003445                2  \n",
       "17           0.714909         0.709686        0.003055                3  \n",
       "15           0.713364         0.709400        0.003372                4  \n",
       "11           0.711880         0.708829        0.002979                5  "
      ]
     },
     "execution_count": 94,
     "metadata": {},
     "output_type": "execute_result"
    }
   ],
   "source": [
    "pd.DataFrame(clf_GS_Model_1.cv_results_).sort_values(\"rank_test_score\").head(5)"
   ]
  },
  {
   "cell_type": "code",
   "execution_count": 105,
   "metadata": {
    "id": "DwWE6Hwrz2PR",
    "outputId": "fd9ec772-468d-45d5-9964-b38fb1b2031e"
   },
   "outputs": [
    {
     "name": "stdout",
     "output_type": "stream",
     "text": [
      "Best n estimator: 200\n",
      "Best max_depth: 20\n",
      "Best min_samples_split: 2\n"
     ]
    }
   ],
   "source": [
    "# Viewing The Best Parameters\n",
    "print('Best n estimator:', clf_GS_Model_2.best_estimator_.get_params()['rf__n_estimators'])\n",
    "print('Best max_depth:', clf_GS_Model_2.best_estimator_.get_params()['rf__max_depth'])\n",
    "print('Best min_samples_split:', clf_GS_Model_2.best_estimator_.get_params()['rf__min_samples_split'])"
   ]
  },
  {
   "cell_type": "code",
   "execution_count": 107,
   "metadata": {
    "id": "qyJlljYRz2PR",
    "outputId": "93000949-87c5-4aab-9376-e5926e108c56"
   },
   "outputs": [
    {
     "data": {
      "text/plain": [
       "0.9515538447094168"
      ]
     },
     "execution_count": 107,
     "metadata": {},
     "output_type": "execute_result"
    }
   ],
   "source": [
    "y_train_pred = clf_GS_Model_2.best_estimator_.predict(X_train)\n",
    "# y_train_pred = clfRandom.predict(X_train)\n",
    "\n",
    "f1_score(y_train, y_train_pred)"
   ]
  },
  {
   "cell_type": "code",
   "execution_count": 97,
   "metadata": {},
   "outputs": [
    {
     "data": {
      "text/plain": [
       "array([1, 0], dtype=int64)"
      ]
     },
     "execution_count": 97,
     "metadata": {},
     "output_type": "execute_result"
    }
   ],
   "source": [
    "y_train.unique()"
   ]
  },
  {
   "cell_type": "code",
   "execution_count": 108,
   "metadata": {
    "id": "iUUUQDDwz2PR",
    "outputId": "6ee0951b-3785-49fe-886a-def82069c83f"
   },
   "outputs": [
    {
     "data": {
      "text/plain": [
       "array([[14712,   408],\n",
       "       [  624, 10135]], dtype=int64)"
      ]
     },
     "execution_count": 108,
     "metadata": {},
     "output_type": "execute_result"
    }
   ],
   "source": [
    "confusion_matrix(y_train, y_train_pred)"
   ]
  },
  {
   "cell_type": "code",
   "execution_count": 109,
   "metadata": {
    "id": "fhLxxZpOz2PR",
    "outputId": "92279c0c-f50d-491d-c9a7-cb94337b198a"
   },
   "outputs": [
    {
     "data": {
      "text/plain": [
       "0.7179046801202235"
      ]
     },
     "execution_count": 109,
     "metadata": {},
     "output_type": "execute_result"
    }
   ],
   "source": [
    "y_cross_validation_pred= clf_GS_Model_2.best_estimator_.predict(X_cross_validation)\n",
    "# y_cross_validation_pred= clfRandom.predict(X_cross_validation)\n",
    "f1_score(y_cross_validation, y_cross_validation_pred)"
   ]
  },
  {
   "cell_type": "code",
   "execution_count": 101,
   "metadata": {
    "id": "ruFspER9z2PR",
    "outputId": "085a09d9-a76c-4351-95fc-8671edf9969c"
   },
   "outputs": [
    {
     "data": {
      "text/plain": [
       "array([[5078, 1447],\n",
       "       [1237, 3330]], dtype=int64)"
      ]
     },
     "execution_count": 101,
     "metadata": {},
     "output_type": "execute_result"
    }
   ],
   "source": [
    "confusion_matrix(y_cross_validation, y_cross_validation_pred)"
   ]
  },
  {
   "cell_type": "code",
   "execution_count": 8,
   "metadata": {},
   "outputs": [],
   "source": [
    "X =pd.read_csv('X_train.csv')\n",
    "y =pd.read_csv('y_train.csv')"
   ]
  },
  {
   "cell_type": "code",
   "execution_count": 9,
   "metadata": {},
   "outputs": [
    {
     "name": "stdout",
     "output_type": "stream",
     "text": [
      "(636526, 312) (272797, 312)\n"
     ]
    }
   ],
   "source": [
    "# Using train_test_split() to randomly split the given training dataset into training and cross validation \n",
    "# data by 70:30 percent ratio respectively. \n",
    "X_train, X_cross_validation, y_train, y_cross_validation = train_test_split(X,y, test_size=0.3, random_state=42)\n",
    "print(X_train.shape,X_cross_validation.shape)"
   ]
  },
  {
   "cell_type": "code",
   "execution_count": 10,
   "metadata": {},
   "outputs": [],
   "source": [
    "del(X)\n",
    "del(y)"
   ]
  },
  {
   "cell_type": "code",
   "execution_count": 11,
   "metadata": {},
   "outputs": [],
   "source": [
    "from sklearn.preprocessing import MinMaxScaler"
   ]
  },
  {
   "cell_type": "code",
   "execution_count": 12,
   "metadata": {},
   "outputs": [],
   "source": [
    "# Used MinMaxScaler() function to further normalize features on the scale of (0 to 1)\n",
    "scaler = MinMaxScaler()\n",
    "scaler.fit(X_train)\n",
    "# Normalized traning data set\n",
    "normalized_train = scaler.transform(X_train)"
   ]
  },
  {
   "cell_type": "code",
   "execution_count": 13,
   "metadata": {},
   "outputs": [],
   "source": [
    "del(X_train)"
   ]
  },
  {
   "cell_type": "code",
   "execution_count": 14,
   "metadata": {},
   "outputs": [
    {
     "data": {
      "text/plain": [
       "(636526, 312)"
      ]
     },
     "execution_count": 14,
     "metadata": {},
     "output_type": "execute_result"
    }
   ],
   "source": [
    "normalized_train.shape"
   ]
  },
  {
   "cell_type": "code",
   "execution_count": 15,
   "metadata": {},
   "outputs": [
    {
     "data": {
      "text/plain": [
       "(272797, 312)"
      ]
     },
     "execution_count": 15,
     "metadata": {},
     "output_type": "execute_result"
    }
   ],
   "source": [
    "normalized_cv = scaler.transform(X_cross_validation)\n",
    "normalized_cv.shape"
   ]
  },
  {
   "cell_type": "code",
   "execution_count": 16,
   "metadata": {},
   "outputs": [],
   "source": [
    "del(X_cross_validation)"
   ]
  },
  {
   "cell_type": "code",
   "execution_count": 17,
   "metadata": {
    "id": "zQmtunCuz2PS"
   },
   "outputs": [],
   "source": [
    "from sklearn.svm import SVC"
   ]
  },
  {
   "cell_type": "code",
   "execution_count": null,
   "metadata": {},
   "outputs": [
    {
     "name": "stderr",
     "output_type": "stream",
     "text": [
      "D:\\Softwares\\anaconda3\\lib\\site-packages\\sklearn\\utils\\validation.py:760: DataConversionWarning: A column-vector y was passed when a 1d array was expected. Please change the shape of y to (n_samples, ), for example using ravel().\n",
      "  y = column_or_1d(y, warn=True)\n"
     ]
    }
   ],
   "source": [
    "%%time\n",
    "clf = SVC(gamma='auto')\n",
    "clf.fit(normalized_train, y_train)"
   ]
  },
  {
   "cell_type": "code",
   "execution_count": 18,
   "metadata": {},
   "outputs": [],
   "source": [
    "from sklearn.multiclass import OneVsRestClassifier\n",
    "from sklearn.ensemble import BaggingClassifier"
   ]
  },
  {
   "cell_type": "code",
   "execution_count": 20,
   "metadata": {},
   "outputs": [],
   "source": [
    "n_estimators = 10"
   ]
  },
  {
   "cell_type": "code",
   "execution_count": null,
   "metadata": {},
   "outputs": [],
   "source": [
    "%%time\n",
    "clf = OneVsRestClassifier(BaggingClassifier(SVC(kernel='linear',probability=True,class_weight='balanced'), max_samples=1.0 / n_estimators, n_estimators=n_estimators))\n",
    "clf.fit(normalized_train, y_train)"
   ]
  },
  {
   "cell_type": "code",
   "execution_count": null,
   "metadata": {},
   "outputs": [],
   "source": []
  }
 ],
 "metadata": {
  "accelerator": "TPU",
  "colab": {
   "collapsed_sections": [],
   "name": "Copy of Final_Project.ipynb",
   "provenance": [
    {
     "file_id": "1t6jv9f1H-yFiJuOsgTPH11ML-5QPVOEM",
     "timestamp": 1606787049812
    }
   ]
  },
  "kernelspec": {
   "display_name": "Python 3",
   "language": "python",
   "name": "python3"
  },
  "language_info": {
   "codemirror_mode": {
    "name": "ipython",
    "version": 3
   },
   "file_extension": ".py",
   "mimetype": "text/x-python",
   "name": "python",
   "nbconvert_exporter": "python",
   "pygments_lexer": "ipython3",
   "version": "3.7.6"
  }
 },
 "nbformat": 4,
 "nbformat_minor": 1
}
