{
 "cells": [
  {
   "cell_type": "code",
   "execution_count": 1,
   "metadata": {
    "executionInfo": {
     "elapsed": 1080,
     "status": "ok",
     "timestamp": 1606786541824,
     "user": {
      "displayName": "dips k",
      "photoUrl": "https://lh3.googleusercontent.com/a-/AOh14Gj25bxiFHO216E4VtQUYr7lSSJHHS6DszKFW7r3mA=s64",
      "userId": "09540616116020329822"
     },
     "user_tz": 300
    },
    "id": "cYWUmotjz2PL"
   },
   "outputs": [],
   "source": [
    "# importing libraries pandas, matplotlib and seaborn to load dataframe and visualization of data\n",
    "import pandas as pd\n",
    "import numpy as np\n",
    "import matplotlib.pyplot as plt\n",
    "import seaborn as sns"
   ]
  },
  {
   "cell_type": "code",
   "execution_count": 2,
   "metadata": {
    "executionInfo": {
     "elapsed": 1327,
     "status": "ok",
     "timestamp": 1606786542083,
     "user": {
      "displayName": "dips k",
      "photoUrl": "https://lh3.googleusercontent.com/a-/AOh14Gj25bxiFHO216E4VtQUYr7lSSJHHS6DszKFW7r3mA=s64",
      "userId": "09540616116020329822"
     },
     "user_tz": 300
    },
    "id": "mg5BD08sz2PL"
   },
   "outputs": [],
   "source": [
    "# Importing “train_test_split” from “sklearn.model_selection”. \n",
    "from sklearn.model_selection import train_test_split"
   ]
  },
  {
   "cell_type": "code",
   "execution_count": 3,
   "metadata": {
    "executionInfo": {
     "elapsed": 1591,
     "status": "ok",
     "timestamp": 1606786542357,
     "user": {
      "displayName": "dips k",
      "photoUrl": "https://lh3.googleusercontent.com/a-/AOh14Gj25bxiFHO216E4VtQUYr7lSSJHHS6DszKFW7r3mA=s64",
      "userId": "09540616116020329822"
     },
     "user_tz": 300
    },
    "id": "QlT_xILcz2PL"
   },
   "outputs": [],
   "source": [
    "from sklearn.ensemble import RandomForestClassifier"
   ]
  },
  {
   "cell_type": "code",
   "execution_count": 4,
   "metadata": {
    "executionInfo": {
     "elapsed": 1583,
     "status": "ok",
     "timestamp": 1606786542360,
     "user": {
      "displayName": "dips k",
      "photoUrl": "https://lh3.googleusercontent.com/a-/AOh14Gj25bxiFHO216E4VtQUYr7lSSJHHS6DszKFW7r3mA=s64",
      "userId": "09540616116020329822"
     },
     "user_tz": 300
    },
    "id": "eym1Jen0z2PL"
   },
   "outputs": [],
   "source": [
    "# Importing tree, Pipeline, GridSearchCV from sklearn\n",
    "from sklearn import tree\n",
    "from sklearn.pipeline import Pipeline\n",
    "from sklearn.model_selection import GridSearchCV"
   ]
  },
  {
   "cell_type": "code",
   "execution_count": 5,
   "metadata": {
    "executionInfo": {
     "elapsed": 1575,
     "status": "ok",
     "timestamp": 1606786542361,
     "user": {
      "displayName": "dips k",
      "photoUrl": "https://lh3.googleusercontent.com/a-/AOh14Gj25bxiFHO216E4VtQUYr7lSSJHHS6DszKFW7r3mA=s64",
      "userId": "09540616116020329822"
     },
     "user_tz": 300
    },
    "id": "Xtf-JBYfz2PL"
   },
   "outputs": [],
   "source": [
    "from sklearn.metrics import make_scorer,f1_score, confusion_matrix, accuracy_score\n",
    "import matplotlib.pyplot as plt"
   ]
  },
  {
   "cell_type": "code",
   "execution_count": 6,
   "metadata": {},
   "outputs": [],
   "source": [
    "from sklearn.linear_model import LogisticRegression\n",
    "from sklearn.preprocessing import MinMaxScaler"
   ]
  },
  {
   "cell_type": "code",
   "execution_count": 7,
   "metadata": {
    "executionInfo": {
     "elapsed": 1567,
     "status": "ok",
     "timestamp": 1606786542363,
     "user": {
      "displayName": "dips k",
      "photoUrl": "https://lh3.googleusercontent.com/a-/AOh14Gj25bxiFHO216E4VtQUYr7lSSJHHS6DszKFW7r3mA=s64",
      "userId": "09540616116020329822"
     },
     "user_tz": 300
    },
    "id": "Ib-N_lDiz2PM"
   },
   "outputs": [],
   "source": [
    "%matplotlib inline"
   ]
  },
  {
   "cell_type": "code",
   "execution_count": 8,
   "metadata": {
    "executionInfo": {
     "elapsed": 1558,
     "status": "ok",
     "timestamp": 1606786542365,
     "user": {
      "displayName": "dips k",
      "photoUrl": "https://lh3.googleusercontent.com/a-/AOh14Gj25bxiFHO216E4VtQUYr7lSSJHHS6DszKFW7r3mA=s64",
      "userId": "09540616116020329822"
     },
     "user_tz": 300
    },
    "id": "Nk-rpvg82EHz"
   },
   "outputs": [],
   "source": [
    "# from google.colab import drive"
   ]
  },
  {
   "cell_type": "code",
   "execution_count": 9,
   "metadata": {
    "colab": {
     "base_uri": "https://localhost:8080/"
    },
    "executionInfo": {
     "elapsed": 18362,
     "status": "ok",
     "timestamp": 1606786573075,
     "user": {
      "displayName": "dips k",
      "photoUrl": "https://lh3.googleusercontent.com/a-/AOh14Gj25bxiFHO216E4VtQUYr7lSSJHHS6DszKFW7r3mA=s64",
      "userId": "09540616116020329822"
     },
     "user_tz": 300
    },
    "id": "YnuSumOU2Ibg",
    "outputId": "7fae49c0-cc32-476c-8850-2c6d9fa6cd79",
    "scrolled": true
   },
   "outputs": [],
   "source": [
    "# drive.mount('/content/drive')"
   ]
  },
  {
   "cell_type": "code",
   "execution_count": 8,
   "metadata": {
    "colab": {
     "base_uri": "https://localhost:8080/"
    },
    "executionInfo": {
     "elapsed": 52205,
     "status": "ok",
     "timestamp": 1606769013351,
     "user": {
      "displayName": "dips k",
      "photoUrl": "https://lh3.googleusercontent.com/a-/AOh14Gj25bxiFHO216E4VtQUYr7lSSJHHS6DszKFW7r3mA=s64",
      "userId": "09540616116020329822"
     },
     "user_tz": 300
    },
    "id": "IaMVBp2nz2PM",
    "outputId": "e7a83304-3cb9-474e-9684-8bd48151e29c"
   },
   "outputs": [
    {
     "name": "stdout",
     "output_type": "stream",
     "text": [
      "Wall time: 26.1 s\n"
     ]
    },
    {
     "data": {
      "text/plain": [
       "(3513617, 49)"
      ]
     },
     "execution_count": 8,
     "metadata": {},
     "output_type": "execute_result"
    }
   ],
   "source": [
    "%%time\n",
    "# This is a countrywide car accident dataset, which covers 49 states of the USA. \n",
    "# The accident data are collected from February 2016 to June 2020, \n",
    "US_Accidents_Feb16_to_June20_data =pd.read_csv('../FinalProject/data/US_Accidents_June20.csv',encoding=\"utf-8\")\n",
    "US_Accidents_Feb16_to_June20_data.shape"
   ]
  },
  {
   "cell_type": "code",
   "execution_count": 9,
   "metadata": {},
   "outputs": [
    {
     "data": {
      "text/plain": [
       "array(['OH', 'WV', 'CA', 'FL', 'GA', 'SC', 'NE', 'IA', 'IL', 'MO', 'WI',\n",
       "       'IN', 'MI', 'NJ', 'NY', 'CT', 'MA', 'RI', 'NH', 'PA', 'KY', 'MD',\n",
       "       'VA', 'DC', 'DE', 'TX', 'WA', 'OR', 'AL', 'TN', 'NC', 'KS', 'LA',\n",
       "       'OK', 'CO', 'UT', 'AZ', 'MN', 'MS', 'NV', 'ME', 'AR', 'ID', 'VT',\n",
       "       'NM', 'ND', 'WY', 'SD', 'MT'], dtype=object)"
      ]
     },
     "execution_count": 9,
     "metadata": {},
     "output_type": "execute_result"
    }
   ],
   "source": [
    "US_Accidents_Feb16_to_June20_data.State.unique()"
   ]
  },
  {
   "cell_type": "code",
   "execution_count": 10,
   "metadata": {},
   "outputs": [],
   "source": [
    "States_records =['VA','CA','OK','KS','MO']"
   ]
  },
  {
   "cell_type": "code",
   "execution_count": 11,
   "metadata": {},
   "outputs": [],
   "source": [
    "# Function to filter dataframe by state\n",
    "def filter_dataframe_by_state_name(df,state):\n",
    "    updated_df = df[df['State']==state]\n",
    "    return updated_df"
   ]
  },
  {
   "cell_type": "code",
   "execution_count": 12,
   "metadata": {},
   "outputs": [],
   "source": [
    "# function filter US accidents by States\n",
    "def concat_dataframe_by_states_US_Accidents(dataframe,States_records):\n",
    "    data = []\n",
    "    for state in States_records:\n",
    "        data.append(filter_dataframe_by_state_name(dataframe,state))\n",
    "\n",
    "    merged_t = pd.concat(data, axis=0)\n",
    "    return merged_t\n",
    "    "
   ]
  },
  {
   "cell_type": "code",
   "execution_count": 13,
   "metadata": {},
   "outputs": [
    {
     "data": {
      "text/plain": [
       "(1014485, 49)"
      ]
     },
     "execution_count": 13,
     "metadata": {},
     "output_type": "execute_result"
    }
   ],
   "source": [
    "US_Accidents_Feb16_to_June20_data_by_states =concat_dataframe_by_states_US_Accidents(US_Accidents_Feb16_to_June20_data,States_records)\n",
    "US_Accidents_Feb16_to_June20_data_by_states.shape"
   ]
  },
  {
   "cell_type": "code",
   "execution_count": null,
   "metadata": {},
   "outputs": [],
   "source": []
  },
  {
   "cell_type": "markdown",
   "metadata": {
    "id": "maV90pIW89K5"
   },
   "source": [
    "####  Feature Reduction for US_Accidents_Feb16_to_June20_data"
   ]
  },
  {
   "cell_type": "code",
   "execution_count": 14,
   "metadata": {
    "colab": {
     "base_uri": "https://localhost:8080/"
    },
    "executionInfo": {
     "elapsed": 2104,
     "status": "ok",
     "timestamp": 1606779941636,
     "user": {
      "displayName": "dips k",
      "photoUrl": "https://lh3.googleusercontent.com/a-/AOh14Gj25bxiFHO216E4VtQUYr7lSSJHHS6DszKFW7r3mA=s64",
      "userId": "09540616116020329822"
     },
     "user_tz": 300
    },
    "id": "-t5F5GBS-RSF",
    "outputId": "55368acc-10e7-4f8c-fced-76ef42c6b760"
   },
   "outputs": [
    {
     "data": {
      "text/plain": [
       "(3513617, 42)"
      ]
     },
     "execution_count": 14,
     "metadata": {},
     "output_type": "execute_result"
    }
   ],
   "source": [
    "# Dropping features because 70% of data is null\n",
    "US_Accidents_Feb16_to_June20_data.drop(['Precipitation(in)','Number', 'End_Lng', 'End_Lat','Wind_Chill(F)','Wind_Speed(mph)','TMC'], axis=1, inplace=True)\n",
    "US_Accidents_Feb16_to_June20_data.shape\n"
   ]
  },
  {
   "cell_type": "code",
   "execution_count": 15,
   "metadata": {
    "colab": {
     "base_uri": "https://localhost:8080/"
    },
    "executionInfo": {
     "elapsed": 508,
     "status": "ok",
     "timestamp": 1606779947576,
     "user": {
      "displayName": "dips k",
      "photoUrl": "https://lh3.googleusercontent.com/a-/AOh14Gj25bxiFHO216E4VtQUYr7lSSJHHS6DszKFW7r3mA=s64",
      "userId": "09540616116020329822"
     },
     "user_tz": 300
    },
    "id": "cbS1o4lo_FIY",
    "outputId": "a392b212-127f-4702-b72c-ed438c2e6fb8"
   },
   "outputs": [
    {
     "data": {
      "text/plain": [
       "(3513617, 33)"
      ]
     },
     "execution_count": 15,
     "metadata": {},
     "output_type": "execute_result"
    }
   ],
   "source": [
    "# Dropping features which doesn't add much value for model creation\n",
    "US_Accidents_Feb16_to_June20_data.drop(['Country','Zipcode','ID','Source','Description','Street','Weather_Timestamp','Turning_Loop','City'], axis=1, inplace=True)\n",
    "US_Accidents_Feb16_to_June20_data.shape\n",
    "# Traffic_Signal, Turning_Loop\n"
   ]
  },
  {
   "cell_type": "code",
   "execution_count": 16,
   "metadata": {
    "colab": {
     "base_uri": "https://localhost:8080/"
    },
    "executionInfo": {
     "elapsed": 699,
     "status": "ok",
     "timestamp": 1606779949851,
     "user": {
      "displayName": "dips k",
      "photoUrl": "https://lh3.googleusercontent.com/a-/AOh14Gj25bxiFHO216E4VtQUYr7lSSJHHS6DszKFW7r3mA=s64",
      "userId": "09540616116020329822"
     },
     "user_tz": 300
    },
    "id": "TAr30-uXi6bV",
    "outputId": "0d946df7-9c77-450a-f67e-b82685675dc5"
   },
   "outputs": [
    {
     "data": {
      "text/plain": [
       "array([2016, 2017, 2020, 2019, 2018], dtype=int64)"
      ]
     },
     "execution_count": 16,
     "metadata": {},
     "output_type": "execute_result"
    }
   ],
   "source": [
    "US_Accidents_Feb16_to_June20_data['Start_Time'] = pd.to_datetime(US_Accidents_Feb16_to_June20_data['Start_Time'])\n",
    "US_Accidents_Feb16_to_June20_data['Start_Time_Year'] = US_Accidents_Feb16_to_June20_data['Start_Time'].dt.year\n",
    "US_Accidents_Feb16_to_June20_data['Start_Time_Year'].unique()"
   ]
  },
  {
   "cell_type": "code",
   "execution_count": 17,
   "metadata": {
    "colab": {
     "base_uri": "https://localhost:8080/"
    },
    "executionInfo": {
     "elapsed": 332,
     "status": "ok",
     "timestamp": 1606779953926,
     "user": {
      "displayName": "dips k",
      "photoUrl": "https://lh3.googleusercontent.com/a-/AOh14Gj25bxiFHO216E4VtQUYr7lSSJHHS6DszKFW7r3mA=s64",
      "userId": "09540616116020329822"
     },
     "user_tz": 300
    },
    "id": "cXG45_Cd_Z8w",
    "outputId": "de3cdcb8-ebfa-4c1a-cc9a-2b06c3c3473c"
   },
   "outputs": [
    {
     "data": {
      "text/plain": [
       "(3513617, 32)"
      ]
     },
     "execution_count": 17,
     "metadata": {},
     "output_type": "execute_result"
    }
   ],
   "source": [
    "# Dropping features 'Start_Time' and 'End_Time'\n",
    "US_Accidents_Feb16_to_June20_data.drop(['Start_Time','End_Time'], axis=1, inplace=True)\n",
    "US_Accidents_Feb16_to_June20_data.shape"
   ]
  },
  {
   "cell_type": "code",
   "execution_count": 18,
   "metadata": {
    "colab": {
     "base_uri": "https://localhost:8080/"
    },
    "executionInfo": {
     "elapsed": 583,
     "status": "ok",
     "timestamp": 1606779955415,
     "user": {
      "displayName": "dips k",
      "photoUrl": "https://lh3.googleusercontent.com/a-/AOh14Gj25bxiFHO216E4VtQUYr7lSSJHHS6DszKFW7r3mA=s64",
      "userId": "09540616116020329822"
     },
     "user_tz": 300
    },
    "id": "4EaICwV5Bbm8",
    "outputId": "e15dcacc-ebc2-4924-bbf4-141becd0f5a4"
   },
   "outputs": [
    {
     "data": {
      "text/plain": [
       "(3513617, 30)"
      ]
     },
     "execution_count": 18,
     "metadata": {},
     "output_type": "execute_result"
    }
   ],
   "source": [
    "# Dropping features 'Start_Lat' and 'Start_Lng'\n",
    "US_Accidents_Feb16_to_June20_data.drop(['Start_Lat','Start_Lng'], axis=1, inplace=True)\n",
    "US_Accidents_Feb16_to_June20_data.shape"
   ]
  },
  {
   "cell_type": "code",
   "execution_count": 19,
   "metadata": {
    "colab": {
     "base_uri": "https://localhost:8080/"
    },
    "executionInfo": {
     "elapsed": 351,
     "status": "ok",
     "timestamp": 1606779959183,
     "user": {
      "displayName": "dips k",
      "photoUrl": "https://lh3.googleusercontent.com/a-/AOh14Gj25bxiFHO216E4VtQUYr7lSSJHHS6DszKFW7r3mA=s64",
      "userId": "09540616116020329822"
     },
     "user_tz": 300
    },
    "id": "jLoFpNb2IKNJ",
    "outputId": "613ce892-d459-4360-a1cc-c8edcc16a151"
   },
   "outputs": [
    {
     "data": {
      "text/plain": [
       "(3513617, 20)"
      ]
     },
     "execution_count": 19,
     "metadata": {},
     "output_type": "execute_result"
    }
   ],
   "source": [
    "\n",
    "# Dropping features where 99% of data belongs to only one category there is no variance in data\n",
    "# 'Turning_Loop', 'Traffic_Calming', 'Stop', 'Station', 'Roundabout', 'Railway','No_Exit','Give_Way','Crossing', 'Bump', 'Amenity'\n",
    "US_Accidents_Feb16_to_June20_data.drop(['Traffic_Calming', 'Stop', 'Station', 'Roundabout', 'Railway','No_Exit','Give_Way','Crossing', 'Bump', 'Amenity'], axis=1, inplace=True)\n",
    "US_Accidents_Feb16_to_June20_data.shape\n"
   ]
  },
  {
   "cell_type": "code",
   "execution_count": 20,
   "metadata": {
    "colab": {
     "base_uri": "https://localhost:8080/"
    },
    "executionInfo": {
     "elapsed": 351,
     "status": "ok",
     "timestamp": 1606779961621,
     "user": {
      "displayName": "dips k",
      "photoUrl": "https://lh3.googleusercontent.com/a-/AOh14Gj25bxiFHO216E4VtQUYr7lSSJHHS6DszKFW7r3mA=s64",
      "userId": "09540616116020329822"
     },
     "user_tz": 300
    },
    "id": "P4JoGmS2LXDh",
    "outputId": "2975ce14-9f29-45a3-8023-9ec9e2fac180"
   },
   "outputs": [
    {
     "data": {
      "text/plain": [
       "(3513617, 18)"
      ]
     },
     "execution_count": 20,
     "metadata": {},
     "output_type": "execute_result"
    }
   ],
   "source": [
    "# Dropping features 'Timezone', 'Airport_Code'\n",
    "# Dropping feature Wind_Direction - can be used for SVM later\n",
    "US_Accidents_Feb16_to_June20_data.drop(['Wind_Direction','Airport_Code'], axis=1, inplace=True)\n",
    "US_Accidents_Feb16_to_June20_data.shape"
   ]
  },
  {
   "cell_type": "code",
   "execution_count": 21,
   "metadata": {},
   "outputs": [
    {
     "data": {
      "text/plain": [
       "(3513617, 18)"
      ]
     },
     "execution_count": 21,
     "metadata": {},
     "output_type": "execute_result"
    }
   ],
   "source": [
    "US_Accidents_Feb16_to_June20_data.shape"
   ]
  },
  {
   "cell_type": "markdown",
   "metadata": {
    "id": "IEtCf5PUErEJ"
   },
   "source": [
    "### Feature transformation "
   ]
  },
  {
   "cell_type": "code",
   "execution_count": 22,
   "metadata": {
    "colab": {
     "base_uri": "https://localhost:8080/"
    },
    "executionInfo": {
     "elapsed": 334,
     "status": "ok",
     "timestamp": 1606779966821,
     "user": {
      "displayName": "dips k",
      "photoUrl": "https://lh3.googleusercontent.com/a-/AOh14Gj25bxiFHO216E4VtQUYr7lSSJHHS6DszKFW7r3mA=s64",
      "userId": "09540616116020329822"
     },
     "user_tz": 300
    },
    "id": "-HBDYFk_AV4s",
    "outputId": "49c63c82-c7e8-4d6f-ebbe-645660bbe7a0"
   },
   "outputs": [
    {
     "data": {
      "text/plain": [
       "Index(['Severity', 'Distance(mi)', 'Side', 'County', 'State', 'Timezone',\n",
       "       'Temperature(F)', 'Humidity(%)', 'Pressure(in)', 'Visibility(mi)',\n",
       "       'Weather_Condition', 'Junction', 'Traffic_Signal', 'Sunrise_Sunset',\n",
       "       'Civil_Twilight', 'Nautical_Twilight', 'Astronomical_Twilight',\n",
       "       'Start_Time_Year'],\n",
       "      dtype='object')"
      ]
     },
     "execution_count": 22,
     "metadata": {},
     "output_type": "execute_result"
    }
   ],
   "source": [
    "US_Accidents_Feb16_to_June20_data.columns"
   ]
  },
  {
   "cell_type": "markdown",
   "metadata": {
    "id": "SX4C3JD7N54e"
   },
   "source": [
    "#### Converting categorical values with two outcomes into binary value "
   ]
  },
  {
   "cell_type": "code",
   "execution_count": 23,
   "metadata": {
    "executionInfo": {
     "elapsed": 224,
     "status": "ok",
     "timestamp": 1606779978758,
     "user": {
      "displayName": "dips k",
      "photoUrl": "https://lh3.googleusercontent.com/a-/AOh14Gj25bxiFHO216E4VtQUYr7lSSJHHS6DszKFW7r3mA=s64",
      "userId": "09540616116020329822"
     },
     "user_tz": 300
    },
    "id": "BP1KjgSgFKLl"
   },
   "outputs": [],
   "source": [
    "day_night_mapping = {'Day':0,'Night':1}"
   ]
  },
  {
   "cell_type": "code",
   "execution_count": 24,
   "metadata": {
    "executionInfo": {
     "elapsed": 1680,
     "status": "ok",
     "timestamp": 1606779981510,
     "user": {
      "displayName": "dips k",
      "photoUrl": "https://lh3.googleusercontent.com/a-/AOh14Gj25bxiFHO216E4VtQUYr7lSSJHHS6DszKFW7r3mA=s64",
      "userId": "09540616116020329822"
     },
     "user_tz": 300
    },
    "id": "ivT_PkEuFOi6"
   },
   "outputs": [],
   "source": [
    "# mapping categorical values Day = 0 and night= 1\n",
    "# 'Sunrise_Sunset', 'Civil_Twilight','Nautical_Twilight', 'Astronomical_Twilight'\n",
    "US_Accidents_Feb16_to_June20_data.Sunrise_Sunset.replace(dict(day_night_mapping), inplace=True)\n",
    "US_Accidents_Feb16_to_June20_data.Civil_Twilight.replace(dict(day_night_mapping), inplace=True)\n",
    "US_Accidents_Feb16_to_June20_data.Nautical_Twilight.replace(dict(day_night_mapping), inplace=True)\n",
    "US_Accidents_Feb16_to_June20_data.Astronomical_Twilight.replace(dict(day_night_mapping), inplace=True)\n"
   ]
  },
  {
   "cell_type": "code",
   "execution_count": 25,
   "metadata": {
    "executionInfo": {
     "elapsed": 208,
     "status": "ok",
     "timestamp": 1606780224849,
     "user": {
      "displayName": "dips k",
      "photoUrl": "https://lh3.googleusercontent.com/a-/AOh14Gj25bxiFHO216E4VtQUYr7lSSJHHS6DszKFW7r3mA=s64",
      "userId": "09540616116020329822"
     },
     "user_tz": 300
    },
    "id": "Lsozm9OaHUIl"
   },
   "outputs": [],
   "source": [
    "boolean_mapping = {True:1,False:0}\n",
    "data_mapping = {'R':0,'L':1}"
   ]
  },
  {
   "cell_type": "code",
   "execution_count": 26,
   "metadata": {
    "colab": {
     "base_uri": "https://localhost:8080/"
    },
    "executionInfo": {
     "elapsed": 307,
     "status": "ok",
     "timestamp": 1606780167698,
     "user": {
      "displayName": "dips k",
      "photoUrl": "https://lh3.googleusercontent.com/a-/AOh14Gj25bxiFHO216E4VtQUYr7lSSJHHS6DszKFW7r3mA=s64",
      "userId": "09540616116020329822"
     },
     "user_tz": 300
    },
    "id": "g1ZiKRwDj32u",
    "outputId": "9838bf4f-8a3a-43c4-a737-7af0d6b29827"
   },
   "outputs": [
    {
     "data": {
      "text/plain": [
       "array([False,  True])"
      ]
     },
     "execution_count": 26,
     "metadata": {},
     "output_type": "execute_result"
    }
   ],
   "source": [
    "US_Accidents_Feb16_to_June20_data.Traffic_Signal.unique()"
   ]
  },
  {
   "cell_type": "code",
   "execution_count": 27,
   "metadata": {
    "executionInfo": {
     "elapsed": 465,
     "status": "ok",
     "timestamp": 1606780229601,
     "user": {
      "displayName": "dips k",
      "photoUrl": "https://lh3.googleusercontent.com/a-/AOh14Gj25bxiFHO216E4VtQUYr7lSSJHHS6DszKFW7r3mA=s64",
      "userId": "09540616116020329822"
     },
     "user_tz": 300
    },
    "id": "wWyQlM_AHIf_"
   },
   "outputs": [],
   "source": [
    "US_Accidents_Feb16_to_June20_data.Traffic_Signal.replace(dict(boolean_mapping),inplace=True)\n",
    "US_Accidents_Feb16_to_June20_data.Junction.replace(dict(boolean_mapping), inplace=True)\n",
    "US_Accidents_Feb16_to_June20_data.Side.replace(dict(data_mapping), inplace=True)"
   ]
  },
  {
   "cell_type": "code",
   "execution_count": 28,
   "metadata": {
    "colab": {
     "base_uri": "https://localhost:8080/"
    },
    "executionInfo": {
     "elapsed": 461,
     "status": "ok",
     "timestamp": 1606780237838,
     "user": {
      "displayName": "dips k",
      "photoUrl": "https://lh3.googleusercontent.com/a-/AOh14Gj25bxiFHO216E4VtQUYr7lSSJHHS6DszKFW7r3mA=s64",
      "userId": "09540616116020329822"
     },
     "user_tz": 300
    },
    "id": "f6furOtFDsqi",
    "outputId": "b34723e4-b468-4a78-fdb1-3fe678c5c982"
   },
   "outputs": [
    {
     "data": {
      "text/plain": [
       "Index(['Severity', 'Side', 'County', 'State', 'Timezone', 'Weather_Condition',\n",
       "       'Junction', 'Traffic_Signal', 'Start_Time_Year'],\n",
       "      dtype='object')"
      ]
     },
     "execution_count": 28,
     "metadata": {},
     "output_type": "execute_result"
    }
   ],
   "source": [
    "# Finding out columns with categorical values\n",
    "US_Accidents_Feb16_to_June20_data.dtypes.unique() # unique data types \n",
    "US_Accidents_Feb16_to_June20_data.select_dtypes(exclude=['int','float']).columns #  Fetching columns with categorical values"
   ]
  },
  {
   "cell_type": "code",
   "execution_count": 29,
   "metadata": {
    "colab": {
     "base_uri": "https://localhost:8080/"
    },
    "executionInfo": {
     "elapsed": 271,
     "status": "ok",
     "timestamp": 1606780242820,
     "user": {
      "displayName": "dips k",
      "photoUrl": "https://lh3.googleusercontent.com/a-/AOh14Gj25bxiFHO216E4VtQUYr7lSSJHHS6DszKFW7r3mA=s64",
      "userId": "09540616116020329822"
     },
     "user_tz": 300
    },
    "id": "SgRbGSMED12x",
    "outputId": "dd040232-3d98-42f6-8b48-4cb1b42bf85e"
   },
   "outputs": [
    {
     "data": {
      "text/plain": [
       "Index(['Distance(mi)', 'Temperature(F)', 'Humidity(%)', 'Pressure(in)',\n",
       "       'Visibility(mi)', 'Sunrise_Sunset', 'Civil_Twilight',\n",
       "       'Nautical_Twilight', 'Astronomical_Twilight'],\n",
       "      dtype='object')"
      ]
     },
     "execution_count": 29,
     "metadata": {},
     "output_type": "execute_result"
    }
   ],
   "source": [
    "# Finding out columns with numerical values\n",
    "US_Accidents_Feb16_to_June20_data.select_dtypes(include=['int','float']).columns"
   ]
  },
  {
   "cell_type": "code",
   "execution_count": 30,
   "metadata": {
    "colab": {
     "base_uri": "https://localhost:8080/"
    },
    "executionInfo": {
     "elapsed": 675,
     "status": "ok",
     "timestamp": 1606780256890,
     "user": {
      "displayName": "dips k",
      "photoUrl": "https://lh3.googleusercontent.com/a-/AOh14Gj25bxiFHO216E4VtQUYr7lSSJHHS6DszKFW7r3mA=s64",
      "userId": "09540616116020329822"
     },
     "user_tz": 300
    },
    "id": "kbZLXFnEV0QQ",
    "outputId": "d72e6524-e404-41a0-84a1-c519253c4ca4"
   },
   "outputs": [
    {
     "data": {
      "text/plain": [
       "(3410988, 18)"
      ]
     },
     "execution_count": 30,
     "metadata": {},
     "output_type": "execute_result"
    }
   ],
   "source": [
    "# Dropping null values from the dataframe\n",
    "US_Accidents_Feb16_to_June20_data.dropna(inplace=True)\n",
    "US_Accidents_Feb16_to_June20_data.shape"
   ]
  },
  {
   "cell_type": "code",
   "execution_count": 31,
   "metadata": {
    "executionInfo": {
     "elapsed": 823,
     "status": "ok",
     "timestamp": 1606780986835,
     "user": {
      "displayName": "dips k",
      "photoUrl": "https://lh3.googleusercontent.com/a-/AOh14Gj25bxiFHO216E4VtQUYr7lSSJHHS6DszKFW7r3mA=s64",
      "userId": "09540616116020329822"
     },
     "user_tz": 300
    },
    "id": "iSfzqC1zl62p"
   },
   "outputs": [],
   "source": [
    "# Replace whitespace with \"\"\n",
    "US_Accidents_Feb16_to_June20_data = US_Accidents_Feb16_to_June20_data.assign(County= US_Accidents_Feb16_to_June20_data['County'].str.replace(\" \",\"\"))"
   ]
  },
  {
   "cell_type": "markdown",
   "metadata": {
    "id": "MKvAs3RYoo60"
   },
   "source": [
    "# Optimized datasets after feature extraction and cleaning"
   ]
  },
  {
   "cell_type": "markdown",
   "metadata": {
    "id": "7LgVE19Qnpf8"
   },
   "source": [
    "### Merge the datasets US accidents and demographic data based on YEAR, STATE, COUNTY"
   ]
  },
  {
   "cell_type": "code",
   "execution_count": 29,
   "metadata": {},
   "outputs": [],
   "source": [
    "# del(US_Accidents_Feb16_to_June20_data_by_states)\n",
    "# del(US_demographic_data)"
   ]
  },
  {
   "cell_type": "code",
   "execution_count": 30,
   "metadata": {
    "colab": {
     "base_uri": "https://localhost:8080/"
    },
    "executionInfo": {
     "elapsed": 3232,
     "status": "ok",
     "timestamp": 1606786788300,
     "user": {
      "displayName": "dips k",
      "photoUrl": "https://lh3.googleusercontent.com/a-/AOh14Gj25bxiFHO216E4VtQUYr7lSSJHHS6DszKFW7r3mA=s64",
      "userId": "09540616116020329822"
     },
     "user_tz": 300
    },
    "id": "hZzs4LhXsL_X",
    "outputId": "c0e22f86-24aa-44ce-bdf0-dc8e9104808a"
   },
   "outputs": [],
   "source": [
    "# Droping duplicate features STNAME_, CTYNAME_, YEAR_\n",
    "# US_Accidents_plus_Demographic_merged.drop(['STNAME_', 'CTYNAME_', 'YEAR_'], axis=1, inplace=True)\n",
    "# US_Accidents_plus_Demographic_merged.shape"
   ]
  },
  {
   "cell_type": "markdown",
   "metadata": {
    "id": "vdIzWl2PrGLL"
   },
   "source": [
    "### Converting categorical values into numerical values using get_dummies "
   ]
  },
  {
   "cell_type": "code",
   "execution_count": 31,
   "metadata": {
    "colab": {
     "base_uri": "https://localhost:8080/"
    },
    "executionInfo": {
     "elapsed": 220,
     "status": "ok",
     "timestamp": 1606786793560,
     "user": {
      "displayName": "dips k",
      "photoUrl": "https://lh3.googleusercontent.com/a-/AOh14Gj25bxiFHO216E4VtQUYr7lSSJHHS6DszKFW7r3mA=s64",
      "userId": "09540616116020329822"
     },
     "user_tz": 300
    },
    "id": "PgK8eToVqE2B",
    "outputId": "45ef0926-92ea-49bf-e87c-46a20ccb6619"
   },
   "outputs": [],
   "source": [
    "# Categorical data types\n",
    "# US_Accidents_Feb16_to_June20_data.select_dtypes(exclude=['int','float']).columns "
   ]
  },
  {
   "cell_type": "code",
   "execution_count": 32,
   "metadata": {},
   "outputs": [
    {
     "data": {
      "text/plain": [
       "array([0, 1], dtype=int64)"
      ]
     },
     "execution_count": 32,
     "metadata": {},
     "output_type": "execute_result"
    }
   ],
   "source": [
    "US_Accidents_Feb16_to_June20_data['Traffic_Signal'].unique()"
   ]
  },
  {
   "cell_type": "code",
   "execution_count": 33,
   "metadata": {
    "colab": {
     "base_uri": "https://localhost:8080/"
    },
    "executionInfo": {
     "elapsed": 264,
     "status": "ok",
     "timestamp": 1606786795174,
     "user": {
      "displayName": "dips k",
      "photoUrl": "https://lh3.googleusercontent.com/a-/AOh14Gj25bxiFHO216E4VtQUYr7lSSJHHS6DszKFW7r3mA=s64",
      "userId": "09540616116020329822"
     },
     "user_tz": 300
    },
    "id": "ntg9rbyBx2hT",
    "outputId": "da5b871c-30f0-46da-b295-331abde76fd4"
   },
   "outputs": [
    {
     "data": {
      "text/plain": [
       "34109.88"
      ]
     },
     "execution_count": 33,
     "metadata": {},
     "output_type": "execute_result"
    }
   ],
   "source": [
    "margin = len(US_Accidents_Feb16_to_June20_data)/ 100\n",
    "margin"
   ]
  },
  {
   "cell_type": "code",
   "execution_count": 34,
   "metadata": {},
   "outputs": [],
   "source": [
    "# del US_Accidents_Feb16_to_June20_data_5_states_optimized\n",
    "# del US_demographic_data_5_states_optimized"
   ]
  },
  {
   "cell_type": "code",
   "execution_count": 34,
   "metadata": {
    "executionInfo": {
     "elapsed": 1037,
     "status": "ok",
     "timestamp": 1606786796684,
     "user": {
      "displayName": "dips k",
      "photoUrl": "https://lh3.googleusercontent.com/a-/AOh14Gj25bxiFHO216E4VtQUYr7lSSJHHS6DszKFW7r3mA=s64",
      "userId": "09540616116020329822"
     },
     "user_tz": 300
    },
    "id": "HsXExHN-xp0a"
   },
   "outputs": [],
   "source": [
    "# Get the count of each value\n",
    "value_counts = US_Accidents_Feb16_to_June20_data.Weather_Condition.value_counts()\n",
    "\n",
    "# Select the values where the count is less than 1% of the data\n",
    "to_remove = value_counts[value_counts <= margin].index\n",
    "\n",
    "# Keep rows where the Weather_Condition column is not in to_remove\n",
    "US_Accidents_Feb16_to_June20_data = US_Accidents_Feb16_to_June20_data[~US_Accidents_Feb16_to_June20_data.Weather_Condition.isin(to_remove)]"
   ]
  },
  {
   "cell_type": "code",
   "execution_count": 35,
   "metadata": {
    "colab": {
     "base_uri": "https://localhost:8080/"
    },
    "executionInfo": {
     "elapsed": 209,
     "status": "ok",
     "timestamp": 1606786798910,
     "user": {
      "displayName": "dips k",
      "photoUrl": "https://lh3.googleusercontent.com/a-/AOh14Gj25bxiFHO216E4VtQUYr7lSSJHHS6DszKFW7r3mA=s64",
      "userId": "09540616116020329822"
     },
     "user_tz": 300
    },
    "id": "hmfEkzYrtMdd",
    "outputId": "01b06305-5ee6-47ee-fff8-6cca520f9be5"
   },
   "outputs": [
    {
     "data": {
      "text/plain": [
       "(3271950, 18)"
      ]
     },
     "execution_count": 35,
     "metadata": {},
     "output_type": "execute_result"
    }
   ],
   "source": [
    "# Try to minimize the weather_condition features later on\n",
    "Feature_list = ['State','Timezone','Weather_Condition']\n",
    "US_Accidents_Feb16_to_June20_data.shape"
   ]
  },
  {
   "cell_type": "code",
   "execution_count": 36,
   "metadata": {
    "executionInfo": {
     "elapsed": 659,
     "status": "ok",
     "timestamp": 1606786804404,
     "user": {
      "displayName": "dips k",
      "photoUrl": "https://lh3.googleusercontent.com/a-/AOh14Gj25bxiFHO216E4VtQUYr7lSSJHHS6DszKFW7r3mA=s64",
      "userId": "09540616116020329822"
     },
     "user_tz": 300
    },
    "id": "fK6j7XUotYVl"
   },
   "outputs": [],
   "source": [
    "subset_dataframe_featurelist=[]\n",
    "for variable in Feature_list:\n",
    "    subset_dataframe_featurelist.append(pd.get_dummies(US_Accidents_Feb16_to_June20_data[variable],prefix=variable, dummy_na=False))"
   ]
  },
  {
   "cell_type": "code",
   "execution_count": 37,
   "metadata": {
    "colab": {
     "base_uri": "https://localhost:8080/"
    },
    "executionInfo": {
     "elapsed": 186,
     "status": "ok",
     "timestamp": 1606786805470,
     "user": {
      "displayName": "dips k",
      "photoUrl": "https://lh3.googleusercontent.com/a-/AOh14Gj25bxiFHO216E4VtQUYr7lSSJHHS6DszKFW7r3mA=s64",
      "userId": "09540616116020329822"
     },
     "user_tz": 300
    },
    "id": "IOYQyX3kzBtX",
    "outputId": "2f2020b0-7d95-45a6-c3db-1696deb816bd"
   },
   "outputs": [
    {
     "data": {
      "text/plain": [
       "(3271950, 64)"
      ]
     },
     "execution_count": 37,
     "metadata": {},
     "output_type": "execute_result"
    }
   ],
   "source": [
    "merged_subset_dataframe_featurelist = pd.concat(subset_dataframe_featurelist, axis=1)\n",
    "merged_subset_dataframe_featurelist.shape"
   ]
  },
  {
   "cell_type": "code",
   "execution_count": 38,
   "metadata": {
    "colab": {
     "base_uri": "https://localhost:8080/"
    },
    "executionInfo": {
     "elapsed": 1138,
     "status": "ok",
     "timestamp": 1606786816596,
     "user": {
      "displayName": "dips k",
      "photoUrl": "https://lh3.googleusercontent.com/a-/AOh14Gj25bxiFHO216E4VtQUYr7lSSJHHS6DszKFW7r3mA=s64",
      "userId": "09540616116020329822"
     },
     "user_tz": 300
    },
    "id": "n4EUzCW9zCVo",
    "outputId": "6ee7b6dd-bf66-4a6f-b468-680592e7fe9d"
   },
   "outputs": [
    {
     "name": "stdout",
     "output_type": "stream",
     "text": [
      "Wall time: 506 ms\n"
     ]
    },
    {
     "data": {
      "text/plain": [
       "(3271950, 82)"
      ]
     },
     "execution_count": 38,
     "metadata": {},
     "output_type": "execute_result"
    }
   ],
   "source": [
    "%%time\n",
    "US_Accidents_Feb16_to_June20_data = pd.concat([merged_subset_dataframe_featurelist,US_Accidents_Feb16_to_June20_data], axis=1)\n",
    "US_Accidents_Feb16_to_June20_data.shape"
   ]
  },
  {
   "cell_type": "code",
   "execution_count": 39,
   "metadata": {},
   "outputs": [
    {
     "data": {
      "text/plain": [
       "(3271950, 78)"
      ]
     },
     "execution_count": 39,
     "metadata": {},
     "output_type": "execute_result"
    }
   ],
   "source": [
    "# # 'Side', 'State', 'Timezone','Weather_Condition', \n",
    "US_Accidents_Feb16_to_June20_data.drop(['Side', 'State', 'Timezone','Weather_Condition'],axis=1, inplace=True)\n",
    "US_Accidents_Feb16_to_June20_data.shape"
   ]
  },
  {
   "cell_type": "code",
   "execution_count": 40,
   "metadata": {
    "colab": {
     "base_uri": "https://localhost:8080/"
    },
    "executionInfo": {
     "elapsed": 4698,
     "status": "ok",
     "timestamp": 1606786826926,
     "user": {
      "displayName": "dips k",
      "photoUrl": "https://lh3.googleusercontent.com/a-/AOh14Gj25bxiFHO216E4VtQUYr7lSSJHHS6DszKFW7r3mA=s64",
      "userId": "09540616116020329822"
     },
     "user_tz": 300
    },
    "id": "d1-I7_mBznGJ",
    "outputId": "3e1f5c6b-3991-43e6-dd21-e81cd77741fe"
   },
   "outputs": [
    {
     "data": {
      "text/plain": [
       "(3271950, 78)"
      ]
     },
     "execution_count": 40,
     "metadata": {},
     "output_type": "execute_result"
    }
   ],
   "source": [
    "US_Accidents_Feb16_to_June20_data.dropna(inplace = True)\n",
    "US_Accidents_Feb16_to_June20_data.shape"
   ]
  },
  {
   "cell_type": "markdown",
   "metadata": {
    "id": "tNA4z3ve48Zj"
   },
   "source": [
    "##### Severity as outcome binary values 0 or 1"
   ]
  },
  {
   "cell_type": "code",
   "execution_count": 41,
   "metadata": {
    "colab": {
     "base_uri": "https://localhost:8080/"
    },
    "executionInfo": {
     "elapsed": 189,
     "status": "ok",
     "timestamp": 1606786832282,
     "user": {
      "displayName": "dips k",
      "photoUrl": "https://lh3.googleusercontent.com/a-/AOh14Gj25bxiFHO216E4VtQUYr7lSSJHHS6DszKFW7r3mA=s64",
      "userId": "09540616116020329822"
     },
     "user_tz": 300
    },
    "id": "i8Dt2V4sqFDU",
    "outputId": "f1e6e11f-03e3-4309-e40f-2c79e4bc4e77"
   },
   "outputs": [
    {
     "data": {
      "text/plain": [
       "array([3, 2, 1, 4], dtype=int64)"
      ]
     },
     "execution_count": 41,
     "metadata": {},
     "output_type": "execute_result"
    }
   ],
   "source": [
    "US_Accidents_Feb16_to_June20_data.Severity.unique()"
   ]
  },
  {
   "cell_type": "code",
   "execution_count": 42,
   "metadata": {
    "colab": {
     "base_uri": "https://localhost:8080/"
    },
    "executionInfo": {
     "elapsed": 157,
     "status": "ok",
     "timestamp": 1606786833035,
     "user": {
      "displayName": "dips k",
      "photoUrl": "https://lh3.googleusercontent.com/a-/AOh14Gj25bxiFHO216E4VtQUYr7lSSJHHS6DszKFW7r3mA=s64",
      "userId": "09540616116020329822"
     },
     "user_tz": 300
    },
    "id": "o9yPI_30qFHS",
    "outputId": "5a5f7bb7-ecbd-4e6b-bba5-09e935cb59d9"
   },
   "outputs": [
    {
     "data": {
      "text/plain": [
       "(3271950, 78)"
      ]
     },
     "execution_count": 42,
     "metadata": {},
     "output_type": "execute_result"
    }
   ],
   "source": [
    "# Binary output\n",
    "Severity_mapping = {1:0,2:0,3:1,4:1}\n",
    "US_Accidents_Feb16_to_June20_data.Severity.replace(dict(Severity_mapping), inplace=True)\n",
    "US_Accidents_Feb16_to_June20_data.shape"
   ]
  },
  {
   "cell_type": "code",
   "execution_count": 43,
   "metadata": {},
   "outputs": [
    {
     "data": {
      "text/plain": [
       "array([1, 0], dtype=int64)"
      ]
     },
     "execution_count": 43,
     "metadata": {},
     "output_type": "execute_result"
    }
   ],
   "source": [
    "US_Accidents_Feb16_to_June20_data.Severity.unique()"
   ]
  },
  {
   "cell_type": "code",
   "execution_count": 44,
   "metadata": {},
   "outputs": [],
   "source": [
    "# US_Accidents_plus_Demographic_merged.to_csv('US_Accidents_plus_Demographic_merged_without_na.csv',index=False)"
   ]
  },
  {
   "cell_type": "code",
   "execution_count": 45,
   "metadata": {
    "colab": {
     "base_uri": "https://localhost:8080/"
    },
    "executionInfo": {
     "elapsed": 190,
     "status": "ok",
     "timestamp": 1606786838110,
     "user": {
      "displayName": "dips k",
      "photoUrl": "https://lh3.googleusercontent.com/a-/AOh14Gj25bxiFHO216E4VtQUYr7lSSJHHS6DszKFW7r3mA=s64",
      "userId": "09540616116020329822"
     },
     "user_tz": 300
    },
    "id": "DPm1CJMMz2PQ",
    "outputId": "c8024490-b89a-4641-9b16-992734ced62d"
   },
   "outputs": [
    {
     "data": {
      "text/plain": [
       "(3271950,)"
      ]
     },
     "execution_count": 45,
     "metadata": {},
     "output_type": "execute_result"
    }
   ],
   "source": [
    "y = pd.Series(US_Accidents_Feb16_to_June20_data['Severity'])\n",
    "y.shape"
   ]
  },
  {
   "cell_type": "code",
   "execution_count": 46,
   "metadata": {
    "colab": {
     "base_uri": "https://localhost:8080/"
    },
    "executionInfo": {
     "elapsed": 1021,
     "status": "ok",
     "timestamp": 1606786840655,
     "user": {
      "displayName": "dips k",
      "photoUrl": "https://lh3.googleusercontent.com/a-/AOh14Gj25bxiFHO216E4VtQUYr7lSSJHHS6DszKFW7r3mA=s64",
      "userId": "09540616116020329822"
     },
     "user_tz": 300
    },
    "id": "2sSKkFaaz2PQ",
    "outputId": "40764379-d5d8-4eea-d36c-82949cf19d9a"
   },
   "outputs": [
    {
     "data": {
      "text/plain": [
       "(3271950, 77)"
      ]
     },
     "execution_count": 46,
     "metadata": {},
     "output_type": "execute_result"
    }
   ],
   "source": [
    "US_Accidents_Feb16_to_June20_data.drop(['Severity'],axis=1, inplace=True)\n",
    "US_Accidents_Feb16_to_June20_data.shape"
   ]
  },
  {
   "cell_type": "code",
   "execution_count": 47,
   "metadata": {
    "colab": {
     "base_uri": "https://localhost:8080/"
    },
    "executionInfo": {
     "elapsed": 214,
     "status": "ok",
     "timestamp": 1606786867503,
     "user": {
      "displayName": "dips k",
      "photoUrl": "https://lh3.googleusercontent.com/a-/AOh14Gj25bxiFHO216E4VtQUYr7lSSJHHS6DszKFW7r3mA=s64",
      "userId": "09540616116020329822"
     },
     "user_tz": 300
    },
    "id": "FP33m2fg81yv",
    "outputId": "89cc6d7b-31e6-42f0-a0aa-6d03bd30512a"
   },
   "outputs": [
    {
     "data": {
      "text/plain": [
       "(3271950,)"
      ]
     },
     "execution_count": 47,
     "metadata": {},
     "output_type": "execute_result"
    }
   ],
   "source": [
    "y_County = pd.Series(US_Accidents_Feb16_to_June20_data.County)\n",
    "y_County.shape"
   ]
  },
  {
   "cell_type": "code",
   "execution_count": 48,
   "metadata": {
    "colab": {
     "base_uri": "https://localhost:8080/"
    },
    "executionInfo": {
     "elapsed": 827,
     "status": "ok",
     "timestamp": 1606786888805,
     "user": {
      "displayName": "dips k",
      "photoUrl": "https://lh3.googleusercontent.com/a-/AOh14Gj25bxiFHO216E4VtQUYr7lSSJHHS6DszKFW7r3mA=s64",
      "userId": "09540616116020329822"
     },
     "user_tz": 300
    },
    "id": "BIOuIAuF9e7z",
    "outputId": "9d34d13a-a98d-41cd-8977-9c293e4c3ec8"
   },
   "outputs": [
    {
     "data": {
      "text/plain": [
       "(3271950, 76)"
      ]
     },
     "execution_count": 48,
     "metadata": {},
     "output_type": "execute_result"
    }
   ],
   "source": [
    "US_Accidents_Feb16_to_June20_data.drop(['County'],axis=1, inplace=True)\n",
    "US_Accidents_Feb16_to_June20_data.shape"
   ]
  },
  {
   "cell_type": "code",
   "execution_count": 49,
   "metadata": {
    "colab": {
     "base_uri": "https://localhost:8080/"
    },
    "executionInfo": {
     "elapsed": 340,
     "status": "ok",
     "timestamp": 1606786893817,
     "user": {
      "displayName": "dips k",
      "photoUrl": "https://lh3.googleusercontent.com/a-/AOh14Gj25bxiFHO216E4VtQUYr7lSSJHHS6DszKFW7r3mA=s64",
      "userId": "09540616116020329822"
     },
     "user_tz": 300
    },
    "id": "O2Ce-Q1vz2PR",
    "outputId": "41019239-a8f2-41b4-aaf2-dfb69a3c2c6b"
   },
   "outputs": [
    {
     "name": "stdout",
     "output_type": "stream",
     "text": [
      "(3271950, 76) (3271950,)\n"
     ]
    }
   ],
   "source": [
    "X= pd.DataFrame(US_Accidents_Feb16_to_June20_data)\n",
    "print(X.shape,y.shape)"
   ]
  },
  {
   "cell_type": "code",
   "execution_count": 50,
   "metadata": {
    "colab": {
     "base_uri": "https://localhost:8080/"
    },
    "executionInfo": {
     "elapsed": 3196,
     "status": "ok",
     "timestamp": 1606786898859,
     "user": {
      "displayName": "dips k",
      "photoUrl": "https://lh3.googleusercontent.com/a-/AOh14Gj25bxiFHO216E4VtQUYr7lSSJHHS6DszKFW7r3mA=s64",
      "userId": "09540616116020329822"
     },
     "user_tz": 300
    },
    "id": "Ohtw9Zfxz2PR",
    "outputId": "ad0b7925-605f-4e94-e8a4-df71d7fd1fb3"
   },
   "outputs": [
    {
     "name": "stdout",
     "output_type": "stream",
     "text": [
      "(2290365, 76) (981585, 76)\n"
     ]
    }
   ],
   "source": [
    "# Using train_test_split() to randomly split the given training dataset into training and cross validation \n",
    "# data by 70:30 percent ratio respectively. \n",
    "X_train, X_test, y_train, y_test = train_test_split(X,y, test_size=0.3, random_state=42)\n",
    "print(X_train.shape,X_test.shape)"
   ]
  },
  {
   "cell_type": "code",
   "execution_count": 33,
   "metadata": {},
   "outputs": [],
   "source": [
    "# del X_cross_validation\n",
    "# del y_cross_validation"
   ]
  },
  {
   "cell_type": "code",
   "execution_count": 36,
   "metadata": {},
   "outputs": [],
   "source": [
    "X_train.to_csv('X_train_5_states_optimized.csv',index=False)\n",
    "X_test.to_csv('X_test_5_states_optimized.csv',index=False)\n",
    "y_train.to_csv('y_train_5_states_optimized.csv',index=False)\n",
    "y_test.to_csv('y_test_5_states_optimized.csv',index=False)"
   ]
  },
  {
   "cell_type": "code",
   "execution_count": 54,
   "metadata": {},
   "outputs": [
    {
     "data": {
      "text/plain": [
       "0    672914\n",
       "1    308671\n",
       "Name: Severity, dtype: int64"
      ]
     },
     "execution_count": 54,
     "metadata": {},
     "output_type": "execute_result"
    }
   ],
   "source": [
    "y_test.value_counts()"
   ]
  },
  {
   "cell_type": "markdown",
   "metadata": {
    "id": "Dt1mg-wfz2PR"
   },
   "source": [
    "###  Creating model using random forest"
   ]
  },
  {
   "cell_type": "code",
   "execution_count": 55,
   "metadata": {
    "executionInfo": {
     "elapsed": 215,
     "status": "ok",
     "timestamp": 1606786904465,
     "user": {
      "displayName": "dips k",
      "photoUrl": "https://lh3.googleusercontent.com/a-/AOh14Gj25bxiFHO216E4VtQUYr7lSSJHHS6DszKFW7r3mA=s64",
      "userId": "09540616116020329822"
     },
     "user_tz": 300
    },
    "id": "i_gpp1Bhz2PR"
   },
   "outputs": [],
   "source": [
    "clfRandom = RandomForestClassifier(bootstrap=True, class_weight=None, criterion='gini',\n",
    "            max_depth=None, max_features='auto', max_leaf_nodes=None,\n",
    "            min_impurity_decrease=0.0, min_impurity_split=None,\n",
    "            min_samples_leaf=1, min_samples_split=2,\n",
    "            min_weight_fraction_leaf=0.0, n_estimators=100, n_jobs=1,\n",
    "            oob_score=False, random_state=None, verbose=0,\n",
    "            warm_start=False)"
   ]
  },
  {
   "cell_type": "code",
   "execution_count": 56,
   "metadata": {},
   "outputs": [
    {
     "name": "stdout",
     "output_type": "stream",
     "text": [
      "Wall time: 22min 23s\n"
     ]
    },
    {
     "data": {
      "text/plain": [
       "RandomForestClassifier(bootstrap=True, ccp_alpha=0.0, class_weight=None,\n",
       "                       criterion='gini', max_depth=None, max_features='auto',\n",
       "                       max_leaf_nodes=None, max_samples=None,\n",
       "                       min_impurity_decrease=0.0, min_impurity_split=None,\n",
       "                       min_samples_leaf=1, min_samples_split=2,\n",
       "                       min_weight_fraction_leaf=0.0, n_estimators=100, n_jobs=1,\n",
       "                       oob_score=False, random_state=None, verbose=0,\n",
       "                       warm_start=False)"
      ]
     },
     "execution_count": 56,
     "metadata": {},
     "output_type": "execute_result"
    }
   ],
   "source": [
    "%time clfRandom.fit(X_train, y_train)"
   ]
  },
  {
   "cell_type": "code",
   "execution_count": 57,
   "metadata": {},
   "outputs": [],
   "source": [
    "y_train_pred = clfRandom.predict(X_train)"
   ]
  },
  {
   "cell_type": "code",
   "execution_count": 58,
   "metadata": {},
   "outputs": [
    {
     "data": {
      "text/plain": [
       "array([[1548689,   21511],\n",
       "       [  43938,  676227]], dtype=int64)"
      ]
     },
     "execution_count": 58,
     "metadata": {},
     "output_type": "execute_result"
    }
   ],
   "source": [
    "confusion_matrix(y_train, y_train_pred)"
   ]
  },
  {
   "cell_type": "code",
   "execution_count": 59,
   "metadata": {},
   "outputs": [
    {
     "data": {
      "text/plain": [
       "0.9538409891226691"
      ]
     },
     "execution_count": 59,
     "metadata": {},
     "output_type": "execute_result"
    }
   ],
   "source": [
    "f1_score(y_train,y_train_pred)"
   ]
  },
  {
   "cell_type": "code",
   "execution_count": 60,
   "metadata": {},
   "outputs": [
    {
     "data": {
      "text/plain": [
       "0.9714242053122537"
      ]
     },
     "execution_count": 60,
     "metadata": {},
     "output_type": "execute_result"
    }
   ],
   "source": [
    "accuracy_score(y_train,y_train_pred)"
   ]
  },
  {
   "cell_type": "code",
   "execution_count": 61,
   "metadata": {},
   "outputs": [],
   "source": [
    "y_test_pred = clfRandom.predict(X_test)"
   ]
  },
  {
   "cell_type": "code",
   "execution_count": 62,
   "metadata": {},
   "outputs": [
    {
     "data": {
      "text/plain": [
       "array([[572680, 100234],\n",
       "       [155128, 153543]], dtype=int64)"
      ]
     },
     "execution_count": 62,
     "metadata": {},
     "output_type": "execute_result"
    }
   ],
   "source": [
    "confusion_matrix(y_test, y_test_pred)"
   ]
  },
  {
   "cell_type": "code",
   "execution_count": 63,
   "metadata": {},
   "outputs": [
    {
     "data": {
      "text/plain": [
       "0.5459811395897932"
      ]
     },
     "execution_count": 63,
     "metadata": {},
     "output_type": "execute_result"
    }
   ],
   "source": [
    "f1_score(y_test, y_test_pred)"
   ]
  },
  {
   "cell_type": "code",
   "execution_count": 64,
   "metadata": {},
   "outputs": [
    {
     "data": {
      "text/plain": [
       "0.7398472878049277"
      ]
     },
     "execution_count": 64,
     "metadata": {},
     "output_type": "execute_result"
    }
   ],
   "source": [
    "accuracy_score(y_test,y_test_pred)"
   ]
  },
  {
   "cell_type": "markdown",
   "metadata": {},
   "source": [
    "### Creating model using decision tree"
   ]
  },
  {
   "cell_type": "code",
   "execution_count": 67,
   "metadata": {},
   "outputs": [],
   "source": [
    "model_DT = tree.DecisionTreeClassifier(class_weight=None, criterion='gini', max_depth=40,\n",
    "            max_features=60, max_leaf_nodes=16,\n",
    "            min_impurity_split=1e-07, min_samples_leaf=1,\n",
    "            min_samples_split=2, min_weight_fraction_leaf=0.0,\n",
    "            presort=False, random_state=0, splitter='best')"
   ]
  },
  {
   "cell_type": "code",
   "execution_count": 68,
   "metadata": {},
   "outputs": [
    {
     "name": "stderr",
     "output_type": "stream",
     "text": [
      "D:\\Softwares\\anaconda3\\lib\\site-packages\\sklearn\\tree\\_classes.py:301: FutureWarning: The min_impurity_split parameter is deprecated. Its default value will change from 1e-7 to 0 in version 0.23, and it will be removed in 0.25. Use the min_impurity_decrease parameter instead.\n",
      "  FutureWarning)\n",
      "D:\\Softwares\\anaconda3\\lib\\site-packages\\sklearn\\tree\\_classes.py:319: FutureWarning: The parameter 'presort' is deprecated and has no effect. It will be removed in v0.24. You can suppress this warning by not passing any value to the 'presort' parameter.\n",
      "  FutureWarning)\n"
     ]
    }
   ],
   "source": [
    "\n",
    "clf_DT = model_DT.fit(X_train, y_train)"
   ]
  },
  {
   "cell_type": "code",
   "execution_count": 58,
   "metadata": {},
   "outputs": [],
   "source": [
    "\n",
    "y_train_pred = clf_DT.predict(X_train)"
   ]
  },
  {
   "cell_type": "code",
   "execution_count": 59,
   "metadata": {},
   "outputs": [
    {
     "data": {
      "text/plain": [
       "array([[294092,  53086],\n",
       "       [ 86598,  78962]], dtype=int64)"
      ]
     },
     "execution_count": 59,
     "metadata": {},
     "output_type": "execute_result"
    }
   ],
   "source": [
    "confusion_matrix(y_train, y_train_pred)"
   ]
  },
  {
   "cell_type": "code",
   "execution_count": 60,
   "metadata": {},
   "outputs": [
    {
     "data": {
      "text/plain": [
       "0.5306443375178087"
      ]
     },
     "execution_count": 60,
     "metadata": {},
     "output_type": "execute_result"
    }
   ],
   "source": [
    "f1_score(y_train, y_train_pred)"
   ]
  },
  {
   "cell_type": "code",
   "execution_count": 61,
   "metadata": {},
   "outputs": [
    {
     "data": {
      "text/plain": [
       "0.7275723663937528"
      ]
     },
     "execution_count": 61,
     "metadata": {},
     "output_type": "execute_result"
    }
   ],
   "source": [
    "accuracy_score(y_train, y_train_pred)"
   ]
  },
  {
   "cell_type": "code",
   "execution_count": 62,
   "metadata": {},
   "outputs": [],
   "source": [
    "y_test_pred = clf_DT.predict(X_test)"
   ]
  },
  {
   "cell_type": "code",
   "execution_count": 63,
   "metadata": {},
   "outputs": [
    {
     "data": {
      "text/plain": [
       "0.5339716673861005"
      ]
     },
     "execution_count": 63,
     "metadata": {},
     "output_type": "execute_result"
    }
   ],
   "source": [
    "f1_score(y_test, y_test_pred)"
   ]
  },
  {
   "cell_type": "code",
   "execution_count": 64,
   "metadata": {},
   "outputs": [
    {
     "data": {
      "text/plain": [
       "0.7297822476051787"
      ]
     },
     "execution_count": 64,
     "metadata": {},
     "output_type": "execute_result"
    }
   ],
   "source": [
    "accuracy_score(y_test, y_test_pred)"
   ]
  },
  {
   "cell_type": "code",
   "execution_count": 65,
   "metadata": {},
   "outputs": [
    {
     "data": {
      "text/plain": [
       "array([[126348,  22614],\n",
       "       [ 36765,  34018]], dtype=int64)"
      ]
     },
     "execution_count": 65,
     "metadata": {},
     "output_type": "execute_result"
    }
   ],
   "source": [
    "confusion_matrix(y_test, y_test_pred)"
   ]
  },
  {
   "cell_type": "markdown",
   "metadata": {},
   "source": [
    "### Creating model using logistic regression"
   ]
  },
  {
   "cell_type": "code",
   "execution_count": 69,
   "metadata": {},
   "outputs": [],
   "source": [
    "# Used MinMaxScaler() function to further normalize features on the scale of (0 to 1)\n",
    "scaler = MinMaxScaler()\n",
    "scaler.fit(X_train)\n",
    "# Normalized traning data set\n",
    "normalized_train = scaler.transform(X_train)"
   ]
  },
  {
   "cell_type": "code",
   "execution_count": 70,
   "metadata": {},
   "outputs": [],
   "source": [
    "del(X_train)"
   ]
  },
  {
   "cell_type": "code",
   "execution_count": 71,
   "metadata": {},
   "outputs": [
    {
     "data": {
      "text/plain": [
       "(2290365, 76)"
      ]
     },
     "execution_count": 71,
     "metadata": {},
     "output_type": "execute_result"
    }
   ],
   "source": [
    "normalized_train.shape"
   ]
  },
  {
   "cell_type": "code",
   "execution_count": 72,
   "metadata": {},
   "outputs": [
    {
     "data": {
      "text/plain": [
       "(981585, 76)"
      ]
     },
     "execution_count": 72,
     "metadata": {},
     "output_type": "execute_result"
    }
   ],
   "source": [
    "normalized_test = scaler.transform(X_test)\n",
    "normalized_test.shape"
   ]
  },
  {
   "cell_type": "code",
   "execution_count": 73,
   "metadata": {},
   "outputs": [],
   "source": [
    "del(X_test)"
   ]
  },
  {
   "cell_type": "code",
   "execution_count": 1,
   "metadata": {},
   "outputs": [],
   "source": [
    "from sklearn import preprocessing"
   ]
  },
  {
   "cell_type": "code",
   "execution_count": 74,
   "metadata": {},
   "outputs": [],
   "source": [
    "model_Logistic = LogisticRegression(solver='liblinear', random_state=0).fit(normalized_train, y_train)"
   ]
  },
  {
   "cell_type": "code",
   "execution_count": 76,
   "metadata": {},
   "outputs": [],
   "source": [
    "y_train_pred = model_Logistic.predict(normalized_train)"
   ]
  },
  {
   "cell_type": "code",
   "execution_count": 77,
   "metadata": {},
   "outputs": [
    {
     "data": {
      "text/plain": [
       "array([[1466969,  103231],\n",
       "       [ 566533,  153632]], dtype=int64)"
      ]
     },
     "execution_count": 77,
     "metadata": {},
     "output_type": "execute_result"
    }
   ],
   "source": [
    "confusion_matrix(y_train, y_train_pred)"
   ]
  },
  {
   "cell_type": "code",
   "execution_count": 78,
   "metadata": {},
   "outputs": [
    {
     "data": {
      "text/plain": [
       "0.3144884281719664"
      ]
     },
     "execution_count": 78,
     "metadata": {},
     "output_type": "execute_result"
    }
   ],
   "source": [
    "f1_score(y_train, y_train_pred)"
   ]
  },
  {
   "cell_type": "code",
   "execution_count": 79,
   "metadata": {},
   "outputs": [
    {
     "data": {
      "text/plain": [
       "0.7075732470588749"
      ]
     },
     "execution_count": 79,
     "metadata": {},
     "output_type": "execute_result"
    }
   ],
   "source": [
    "accuracy_score(y_train, y_train_pred)"
   ]
  },
  {
   "cell_type": "code",
   "execution_count": 80,
   "metadata": {},
   "outputs": [],
   "source": [
    "y_test_pred = model_Logistic.predict(normalized_test)"
   ]
  },
  {
   "cell_type": "code",
   "execution_count": 81,
   "metadata": {},
   "outputs": [
    {
     "data": {
      "text/plain": [
       "array([[628583,  44331],\n",
       "       [242954,  65717]], dtype=int64)"
      ]
     },
     "execution_count": 81,
     "metadata": {},
     "output_type": "execute_result"
    }
   ],
   "source": [
    "confusion_matrix(y_test, y_test_pred)"
   ]
  },
  {
   "cell_type": "code",
   "execution_count": 82,
   "metadata": {},
   "outputs": [
    {
     "data": {
      "text/plain": [
       "0.313895476441241"
      ]
     },
     "execution_count": 82,
     "metadata": {},
     "output_type": "execute_result"
    }
   ],
   "source": [
    "f1_score(y_test, y_test_pred)"
   ]
  },
  {
   "cell_type": "code",
   "execution_count": 83,
   "metadata": {},
   "outputs": [
    {
     "data": {
      "text/plain": [
       "0.7073253971892398"
      ]
     },
     "execution_count": 83,
     "metadata": {},
     "output_type": "execute_result"
    }
   ],
   "source": [
    "accuracy_score(y_test, y_test_pred)"
   ]
  },
  {
   "cell_type": "markdown",
   "metadata": {},
   "source": [
    "#### Model for 5 states of US"
   ]
  },
  {
   "cell_type": "markdown",
   "metadata": {},
   "source": [
    "#### Random forest"
   ]
  },
  {
   "cell_type": "code",
   "execution_count": 53,
   "metadata": {},
   "outputs": [],
   "source": [
    "ModelRandom_5states = RandomForestClassifier(bootstrap=True, class_weight=None, criterion='gini',\n",
    "            max_depth=None, max_features='auto', max_leaf_nodes=None,\n",
    "            min_impurity_decrease=0.0, min_impurity_split=None,\n",
    "            min_samples_leaf=1, min_samples_split=2,\n",
    "            min_weight_fraction_leaf=0.0, n_estimators=100, n_jobs=1,\n",
    "            oob_score=False, random_state=None, verbose=0,\n",
    "            warm_start=False)"
   ]
  },
  {
   "cell_type": "code",
   "execution_count": 54,
   "metadata": {},
   "outputs": [
    {
     "name": "stdout",
     "output_type": "stream",
     "text": [
      "Wall time: 22min 45s\n"
     ]
    },
    {
     "data": {
      "text/plain": [
       "RandomForestClassifier(bootstrap=True, ccp_alpha=0.0, class_weight=None,\n",
       "                       criterion='gini', max_depth=None, max_features='auto',\n",
       "                       max_leaf_nodes=None, max_samples=None,\n",
       "                       min_impurity_decrease=0.0, min_impurity_split=None,\n",
       "                       min_samples_leaf=1, min_samples_split=2,\n",
       "                       min_weight_fraction_leaf=0.0, n_estimators=100, n_jobs=1,\n",
       "                       oob_score=False, random_state=None, verbose=0,\n",
       "                       warm_start=False)"
      ]
     },
     "execution_count": 54,
     "metadata": {},
     "output_type": "execute_result"
    }
   ],
   "source": [
    "%time ModelRandom_5states.fit(X_train, y_train)"
   ]
  },
  {
   "cell_type": "code",
   "execution_count": 55,
   "metadata": {},
   "outputs": [],
   "source": [
    "y_train_pred = ModelRandom_5states.predict(X_train)"
   ]
  },
  {
   "cell_type": "code",
   "execution_count": 56,
   "metadata": {},
   "outputs": [
    {
     "data": {
      "text/plain": [
       "array([[1548550,   21650],\n",
       "       [  43786,  676379]], dtype=int64)"
      ]
     },
     "execution_count": 56,
     "metadata": {},
     "output_type": "execute_result"
    }
   ],
   "source": [
    "confusion_matrix(y_train, y_train_pred)"
   ]
  },
  {
   "cell_type": "code",
   "execution_count": 57,
   "metadata": {},
   "outputs": [
    {
     "data": {
      "text/plain": [
       "0.9538596271032033"
      ]
     },
     "execution_count": 57,
     "metadata": {},
     "output_type": "execute_result"
    }
   ],
   "source": [
    "f1_score(y_train,y_train_pred)"
   ]
  },
  {
   "cell_type": "code",
   "execution_count": 58,
   "metadata": {},
   "outputs": [
    {
     "data": {
      "text/plain": [
       "0.9714298812634667"
      ]
     },
     "execution_count": 58,
     "metadata": {},
     "output_type": "execute_result"
    }
   ],
   "source": [
    "accuracy_score(y_train, y_train_pred)"
   ]
  },
  {
   "cell_type": "code",
   "execution_count": 59,
   "metadata": {},
   "outputs": [],
   "source": [
    "y_test_pred = ModelRandom_5states.predict(X_test)"
   ]
  },
  {
   "cell_type": "code",
   "execution_count": 60,
   "metadata": {},
   "outputs": [
    {
     "data": {
      "text/plain": [
       "array([[572505, 100409],\n",
       "       [155081, 153590]], dtype=int64)"
      ]
     },
     "execution_count": 60,
     "metadata": {},
     "output_type": "execute_result"
    }
   ],
   "source": [
    "confusion_matrix(y_test, y_test_pred)"
   ]
  },
  {
   "cell_type": "code",
   "execution_count": 61,
   "metadata": {},
   "outputs": [
    {
     "data": {
      "text/plain": [
       "0.5459327847583841"
      ]
     },
     "execution_count": 61,
     "metadata": {},
     "output_type": "execute_result"
    }
   ],
   "source": [
    "f1_score(y_test, y_test_pred)"
   ]
  },
  {
   "cell_type": "code",
   "execution_count": 62,
   "metadata": {},
   "outputs": [
    {
     "data": {
      "text/plain": [
       "0.7397168864642389"
      ]
     },
     "execution_count": 62,
     "metadata": {},
     "output_type": "execute_result"
    }
   ],
   "source": [
    "accuracy_score(y_test, y_test_pred)"
   ]
  },
  {
   "cell_type": "markdown",
   "metadata": {},
   "source": [
    "#### Decision tree"
   ]
  },
  {
   "cell_type": "code",
   "execution_count": 63,
   "metadata": {},
   "outputs": [],
   "source": [
    "Model_DT_5states = tree.DecisionTreeClassifier(class_weight=None, criterion='gini', max_depth=40,\n",
    "            max_features=60, max_leaf_nodes=16,\n",
    "            min_impurity_split=1e-07, min_samples_leaf=1,\n",
    "            min_samples_split=2, min_weight_fraction_leaf=0.0,\n",
    "            presort=False, random_state=0, splitter='best')"
   ]
  },
  {
   "cell_type": "code",
   "execution_count": 64,
   "metadata": {},
   "outputs": [
    {
     "name": "stderr",
     "output_type": "stream",
     "text": [
      "D:\\Softwares\\anaconda3\\lib\\site-packages\\sklearn\\tree\\_classes.py:301: FutureWarning: The min_impurity_split parameter is deprecated. Its default value will change from 1e-7 to 0 in version 0.23, and it will be removed in 0.25. Use the min_impurity_decrease parameter instead.\n",
      "  FutureWarning)\n",
      "D:\\Softwares\\anaconda3\\lib\\site-packages\\sklearn\\tree\\_classes.py:319: FutureWarning: The parameter 'presort' is deprecated and has no effect. It will be removed in v0.24. You can suppress this warning by not passing any value to the 'presort' parameter.\n",
      "  FutureWarning)\n"
     ]
    }
   ],
   "source": [
    "clf_DT = Model_DT_5states.fit(X_train, y_train)"
   ]
  },
  {
   "cell_type": "code",
   "execution_count": 65,
   "metadata": {},
   "outputs": [],
   "source": [
    "y_train_pred = clf_DT.predict(X_train)"
   ]
  },
  {
   "cell_type": "code",
   "execution_count": 66,
   "metadata": {},
   "outputs": [
    {
     "data": {
      "text/plain": [
       "array([[1496115,   74085],\n",
       "       [ 595544,  124621]], dtype=int64)"
      ]
     },
     "execution_count": 66,
     "metadata": {},
     "output_type": "execute_result"
    }
   ],
   "source": [
    "confusion_matrix(y_train, y_train_pred)"
   ]
  },
  {
   "cell_type": "code",
   "execution_count": 67,
   "metadata": {},
   "outputs": [
    {
     "data": {
      "text/plain": [
       "0.27124808596636524"
      ]
     },
     "execution_count": 67,
     "metadata": {},
     "output_type": "execute_result"
    }
   ],
   "source": [
    "f1_score(y_train, y_train_pred)"
   ]
  },
  {
   "cell_type": "code",
   "execution_count": 68,
   "metadata": {},
   "outputs": [
    {
     "data": {
      "text/plain": [
       "0.707632189629164"
      ]
     },
     "execution_count": 68,
     "metadata": {},
     "output_type": "execute_result"
    }
   ],
   "source": [
    "accuracy_score(y_train, y_train_pred)"
   ]
  },
  {
   "cell_type": "code",
   "execution_count": 69,
   "metadata": {},
   "outputs": [],
   "source": [
    "y_test_pred = clf_DT.predict(X_test)"
   ]
  },
  {
   "cell_type": "code",
   "execution_count": 70,
   "metadata": {},
   "outputs": [
    {
     "data": {
      "text/plain": [
       "0.2711042505547403"
      ]
     },
     "execution_count": 70,
     "metadata": {},
     "output_type": "execute_result"
    }
   ],
   "source": [
    "f1_score(y_test, y_test_pred)"
   ]
  },
  {
   "cell_type": "code",
   "execution_count": 71,
   "metadata": {},
   "outputs": [
    {
     "data": {
      "text/plain": [
       "0.7075179429188506"
      ]
     },
     "execution_count": 71,
     "metadata": {},
     "output_type": "execute_result"
    }
   ],
   "source": [
    "accuracy_score(y_test, y_test_pred)"
   ]
  },
  {
   "cell_type": "markdown",
   "metadata": {},
   "source": [
    "#### Logistic Regression "
   ]
  },
  {
   "cell_type": "code",
   "execution_count": 73,
   "metadata": {},
   "outputs": [],
   "source": [
    "# Used MinMaxScaler() function to further normalize features on the scale of (0 to 1)\n",
    "scaler = MinMaxScaler()\n",
    "scaler.fit(X_train)\n",
    "# Normalized traning data set\n",
    "normalized_train = scaler.transform(X_train)"
   ]
  },
  {
   "cell_type": "code",
   "execution_count": 74,
   "metadata": {},
   "outputs": [
    {
     "data": {
      "text/plain": [
       "(981585, 76)"
      ]
     },
     "execution_count": 74,
     "metadata": {},
     "output_type": "execute_result"
    }
   ],
   "source": [
    "normalized_test = scaler.transform(X_test)\n",
    "normalized_test.shape"
   ]
  },
  {
   "cell_type": "code",
   "execution_count": 75,
   "metadata": {},
   "outputs": [],
   "source": [
    "model_Logistic = LogisticRegression(solver='liblinear', random_state=0).fit(normalized_train, y_train)"
   ]
  },
  {
   "cell_type": "code",
   "execution_count": 76,
   "metadata": {},
   "outputs": [],
   "source": [
    "y_train_pred = model_Logistic.predict(normalized_train)"
   ]
  },
  {
   "cell_type": "code",
   "execution_count": 77,
   "metadata": {},
   "outputs": [
    {
     "data": {
      "text/plain": [
       "array([[1466969,  103231],\n",
       "       [ 566533,  153632]], dtype=int64)"
      ]
     },
     "execution_count": 77,
     "metadata": {},
     "output_type": "execute_result"
    }
   ],
   "source": [
    "confusion_matrix(y_train, y_train_pred)"
   ]
  },
  {
   "cell_type": "code",
   "execution_count": 78,
   "metadata": {},
   "outputs": [
    {
     "data": {
      "text/plain": [
       "0.3144884281719664"
      ]
     },
     "execution_count": 78,
     "metadata": {},
     "output_type": "execute_result"
    }
   ],
   "source": [
    "f1_score(y_train,y_train_pred)"
   ]
  },
  {
   "cell_type": "code",
   "execution_count": 79,
   "metadata": {},
   "outputs": [
    {
     "data": {
      "text/plain": [
       "0.7075732470588749"
      ]
     },
     "execution_count": 79,
     "metadata": {},
     "output_type": "execute_result"
    }
   ],
   "source": [
    "accuracy_score(y_train, y_train_pred)"
   ]
  },
  {
   "cell_type": "code",
   "execution_count": 80,
   "metadata": {},
   "outputs": [],
   "source": [
    "y_test_pred = model_Logistic.predict(normalized_test)"
   ]
  },
  {
   "cell_type": "code",
   "execution_count": 81,
   "metadata": {},
   "outputs": [
    {
     "data": {
      "text/plain": [
       "array([[628583,  44331],\n",
       "       [242954,  65717]], dtype=int64)"
      ]
     },
     "execution_count": 81,
     "metadata": {},
     "output_type": "execute_result"
    }
   ],
   "source": [
    "confusion_matrix(y_test, y_test_pred)"
   ]
  },
  {
   "cell_type": "code",
   "execution_count": 82,
   "metadata": {},
   "outputs": [
    {
     "data": {
      "text/plain": [
       "0.313895476441241"
      ]
     },
     "execution_count": 82,
     "metadata": {},
     "output_type": "execute_result"
    }
   ],
   "source": [
    "f1_score(y_test,y_test_pred)"
   ]
  },
  {
   "cell_type": "code",
   "execution_count": 83,
   "metadata": {},
   "outputs": [
    {
     "data": {
      "text/plain": [
       "0.7073253971892398"
      ]
     },
     "execution_count": 83,
     "metadata": {},
     "output_type": "execute_result"
    }
   ],
   "source": [
    "accuracy_score(y_test, y_test_pred)"
   ]
  },
  {
   "cell_type": "code",
   "execution_count": null,
   "metadata": {},
   "outputs": [],
   "source": []
  }
 ],
 "metadata": {
  "accelerator": "TPU",
  "colab": {
   "collapsed_sections": [],
   "name": "Copy of Final_Project.ipynb",
   "provenance": [
    {
     "file_id": "1t6jv9f1H-yFiJuOsgTPH11ML-5QPVOEM",
     "timestamp": 1606787049812
    }
   ]
  },
  "kernelspec": {
   "display_name": "Python 3",
   "language": "python",
   "name": "python3"
  },
  "language_info": {
   "codemirror_mode": {
    "name": "ipython",
    "version": 3
   },
   "file_extension": ".py",
   "mimetype": "text/x-python",
   "name": "python",
   "nbconvert_exporter": "python",
   "pygments_lexer": "ipython3",
   "version": "3.7.6"
  }
 },
 "nbformat": 4,
 "nbformat_minor": 1
}
